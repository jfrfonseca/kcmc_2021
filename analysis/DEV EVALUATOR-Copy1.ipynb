{
 "cells": [
  {
   "cell_type": "code",
   "execution_count": 1,
   "id": "e8af47da",
   "metadata": {},
   "outputs": [],
   "source": [
    "import pandas as pd\n",
    "instances = pd.read_csv('/data/instances.csv', header=None)[0].tolist()\n",
    "\n",
    "K = 2\n",
    "M = 1"
   ]
  },
  {
   "cell_type": "code",
   "execution_count": 2,
   "id": "1bad43fd",
   "metadata": {},
   "outputs": [
    {
     "data": {
      "text/plain": [
       "0"
      ]
     },
     "execution_count": 2,
     "metadata": {},
     "output_type": "execute_result"
    }
   ],
   "source": [
    "import subprocess\n",
    "\n",
    "result_evaluator = subprocess.run([\n",
    "    \"/builds/instance_evaluator\", \n",
    "    str(K), str(M), instances[0]\n",
    "], capture_output=True)\n",
    "result_evaluator.returncode"
   ]
  },
  {
   "cell_type": "code",
   "execution_count": 3,
   "id": "42c8436f",
   "metadata": {},
   "outputs": [
    {
     "name": "stdout",
     "output_type": "stream",
     "text": [
      "K-COV: SUCCESS\t|\tM-CON: SUCCESS\n"
     ]
    }
   ],
   "source": [
    "print(result_evaluator.stdout.decode())"
   ]
  },
  {
   "cell_type": "code",
   "execution_count": null,
   "id": "4d8f14df",
   "metadata": {},
   "outputs": [],
   "source": []
  }
 ],
 "metadata": {
  "kernelspec": {
   "display_name": "Python 3 (ipykernel)",
   "language": "python",
   "name": "python3"
  },
  "language_info": {
   "codemirror_mode": {
    "name": "ipython",
    "version": 3
   },
   "file_extension": ".py",
   "mimetype": "text/x-python",
   "name": "python",
   "nbconvert_exporter": "python",
   "pygments_lexer": "ipython3",
   "version": "3.7.12"
  }
 },
 "nbformat": 4,
 "nbformat_minor": 5
}
