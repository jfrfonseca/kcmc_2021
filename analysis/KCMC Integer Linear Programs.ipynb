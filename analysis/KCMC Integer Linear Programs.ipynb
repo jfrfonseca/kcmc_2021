{
 "cells": [
  {
   "cell_type": "markdown",
   "id": "ae2f44ab",
   "metadata": {},
   "source": [
    "# KCMC Problem\n",
    "\n",
    "We have a set of points of interest (POIs) that are static locations in space that continuously produce information. To gather that information, the POIs must be monitored by SENSORS.\n",
    "\n",
    "Sensors have a limited \"sensing range\", so often a sensor cannot monitor a POI because it is too far away, \"out of range\". When a POI is monitored by a sensor, it must be within the sensing range of the sensor, and we say that the POI is \"covered\" by the sensor. A single sensor can monitor all the POIs that are within its sensing range.\n",
    "\n",
    "We have several static, immovable locations in space in which sensors can be installed. Those locations are often called \"installation spots\". A single sensor may be installed in each spot.\n",
    "\n",
    "Often a single sensor cannot monitor a POI to satisfaction (a condition called \"insufficient quality of service\"), so each POI must be covered by at least $\\dot{K}$ sensors. The number of sensors that cover a POI is called its \"coverage\".\n",
    "\n",
    "Sensors are not designed to store or process the data collected. Instead, each sensor must transmit the data it has collected to other sensors. Those other sensors may re-transmit the data to other sensors, until it reaches a special sensor called SINK. A sink is a sensor capable of storing or processing data. We often cannot choose where the sinks are installed.\n",
    "\n",
    "Sensors are prone to failure, so we ensure that the data from every POI is continually transmitted to the sink by guaranteeing that we have at least $\\dot{M}$ different sets of sensors capable of transmitting the data from each POI to a sink. Those sets must be disjunct - no sensor may belong to more than one set. Disjunct sets guarantee that even if failures in a set render it unable to get data from a POI to any sink, the sensors in other sets can deliver it. The number of disjunct sets of sensors that connect a POI to a sink is called its \"connectivity\".\n",
    "\n",
    "Sensors have a cost, so we want to install as few as possible while still guaranteeing that each POI is covered with at least $\\dot{K}$ different sensors and the data form each POI have at least $\\dot{M}$ different paths to a sink. This is the $\\dot{K}$-Coverage $\\dot{M}$-Connectivity problem.\n",
    "\n",
    "We represent a instance of the KCMC problem as a [graphs](https://en.wikipedia.org/wiki/Graph_(discrete_mathematics)). In discrete mathematics, a graph is an structure formed by \"nodes\" or \"vertices\" (usually represented as circles or dots) distributead in any way in the space, since the exact position of each vertice is not relevant to the graph. Instead, the connections between nodes (the edges) is the information we are concerned with.\n",
    "\n",
    "In our graph representation, each node in the graph may be:\n",
    "- installation spot for a sensor\n",
    "- a POI\n",
    "- a sink\n",
    "\n",
    "If a node represents a POI, it is connected to all installation spots where a sensors would be able to cover the POI.\n",
    "If the node represents a sink, it is connected to all instalation spots where sensors would be capable of transmitting data to the sink.\n",
    "If the node represent an installation spot for a sensor, it is connected to the POIs an installed sensor would able to cover, and all the sinks and other sensor installation spots that a sensor placed at the current spot would be able to communicate with.\n",
    "\n",
    "Our strategy to solve the KCMC problem is to find $\\dot{M}$ sets of sensor installation spots that form [Steiner trees](https://en.wikipedia.org/wiki/Steiner_tree_problem). Steiner trees are sub-graphs that connect a subset of nodes (the POIs and sinks) using as few as possible nodes that are not in the subset.\n",
    "The resulting $\\dot{M}$ minimal disjunct Steiner Trees contain all the sensor instalation spots we require to guarantee that each POI in the KCMC instance has at least $\\dot{M}$ connectivity.\n",
    "Then we simply add as few as possible sensor installation spots so that each POI has at least $\\dot{K}$ coverage.\n",
    "\n",
    "A more interesting way to describe our strategy is using an integer-linear programming [(ILP) formulation](https://en.wikipedia.org/wiki/Integer_programming), in which we use discrete linear algebra equations and inequations to describe the elements and constraints of the KCMC problem.\n",
    "ILP formulations are an standardized way of describing problems, and have many useful mathematical properties.\n",
    "\n",
    "In this notebook, we explore our ILP formulation for the KCMC problem and implement it to obtain solutions. "
   ]
  },
  {
   "cell_type": "markdown",
   "id": "063395f7",
   "metadata": {},
   "source": [
    "## Imports & Data gathering\n",
    "\n",
    "The code below imports the [GUROBI](https://en.wikipedia.org/wiki/Gurobi) Optimizer, a proprietary [Solver](https://en.wikipedia.org/wiki/Solver) software capable of quickly finding the best possible solution to any problem expressed as a valid ILP formulation, given small enough instances.\n",
    "\n",
    "The KCMC_Instance object imported is a custom python facility that reads a given KCMC instance and readily exposes its attributes."
   ]
  },
  {
   "cell_type": "code",
   "execution_count": null,
   "id": "3db4434c",
   "metadata": {},
   "outputs": [],
   "source": [
    "import pandas as pd\n",
    "instances = pd.read_csv('/data/small_instances.csv', sep='|', header=None)\n",
    "instances.columns = ['serial', 'kcmc']\n",
    "\n",
    "INSTANCE_ROW = 2\n",
    "DRY_RUN = False\n",
    "\n",
    "from kcmc_instance import KCMC_Instance\n",
    "kcmc_instance = KCMC_Instance(instances.iloc[INSTANCE_ROW]['serial'], True, True, False)\n",
    "kcmc_k = int(instances.iloc[INSTANCE_ROW]['kcmc'][2])\n",
    "kcmc_m = int(instances.iloc[INSTANCE_ROW]['kcmc'][4])\n",
    "\n",
    "import gurobipy as gp\n",
    "from gurobipy import GRB\n",
    "\n",
    "(kcmc_k, kcmc_m), kcmc_instance"
   ]
  },
  {
   "cell_type": "markdown",
   "id": "347874a1",
   "metadata": {},
   "source": [
    "The code below imports an instance of the KCMC problem and exposes its attributes as several variables relevant to the KCMC problem:\n",
    "\n",
    "- P: The set of POIs in the instance\n",
    "- I: The set of sensors in the instance\n",
    "- s: The ONLY sink of the instance\n",
    "\n",
    "- A_c: The set of \"covering edges\", each a tuple where the first position holds a POI and the second a sensor that covers the POI\n",
    "- A_s: The set of \"sink edges\", each a tuple where the first position holds a sensor connected to the sink and the second contains the sink\n",
    "- A_g: The set og \"graph edges\", each a tuple where the first position holds a sensor and the second holds another sensor connected to the first.\n",
    "- A: The complete set of edges, A_c+A_s+A_g\n",
    "\n",
    "Some other useful data is also readied for processing:\n",
    "\n",
    "- iC: The \"Inverse Coverage Graph\" - a mapping of each POI to the set of sensors that cover the POI.\n",
    "- L: A sequence containing all integer values between 0 and $\\dot{M}$"
   ]
  },
  {
   "cell_type": "code",
   "execution_count": null,
   "id": "61895c11",
   "metadata": {},
   "outputs": [],
   "source": [
    "P = kcmc_instance.pois\n",
    "I = kcmc_instance.sensors\n",
    "s = list(kcmc_instance.sinks)[0]  # HARD-CODED ASSUMPTION OF SINGLE-SINK!\n",
    "\n",
    "A_c = kcmc_instance.poi_edges\n",
    "A_s = kcmc_instance.sink_edges\n",
    "A_g = kcmc_instance.sensor_edges\n",
    "A = A_c + A_g + A_s\n",
    "\n",
    "iC = kcmc_instance.inverse_coverage_graph\n",
    "L = [str(m) for m in range(kcmc_m)]"
   ]
  },
  {
   "cell_type": "markdown",
   "id": "c3b3529d",
   "metadata": {},
   "source": [
    "## Multi-Flow ILP\n",
    "\n",
    "We have developed two different ILP formulations - Multi-Flow and Single-Flow.  \n",
    "The Multi-Flow formulation clearly identifies the steiner tree to which each edge connecting used sensors belongs to, while the Single-Flow alternative does not.  \n",
    "Each formulation has its own advantages and disadvantages that we must study."
   ]
  },
  {
   "cell_type": "markdown",
   "id": "458d2244",
   "metadata": {},
   "source": [
    "### Variables\n",
    "\n",
    "Variables are structures that store information about the KCMC problem.\n",
    "A variable can be seen as an array of dimensions relative to the elements of the problem.\n",
    "\n",
    "In this section, we describe and implement the two variables used in our Multi-Flow ILP formulation.\n",
    "But first, we create a new GUROBI model object. It will print information about this copy of the GUROBI software.\n",
    "\n",
    "Then, we add variables to the model."
   ]
  },
  {
   "cell_type": "code",
   "execution_count": null,
   "id": "953d679d",
   "metadata": {},
   "outputs": [],
   "source": [
    "model_mf = 'KCMC Multi-Flow'\n",
    "model_mf = gp.Model(model_mf)\n",
    "model_mf.setParam(GRB.Param.Threads, 1)\n",
    "model_mf"
   ]
  },
  {
   "cell_type": "markdown",
   "id": "4b6a5cf6",
   "metadata": {},
   "source": [
    "#### Variable $X_j^m$\n",
    "This binary variable marks the usage of sensor $j \\in V$ at the $m$-th Steiner tree ($m \\in M$).\n",
    "\n",
    "It can be seen as a 2-D array, the first dimension representing sensor placement spots and the second the $\\dot{M}$ Steiner trees. Thus, we have $\\dot{M} * |V|$ possible values for this variable.  \n",
    "This variable is defined differently in our Multi-Flow and our Single-Flow ILPs.  \n",
    "Due to a limitation in GUROBI, we use the $L$ sequence of $[0:\\dot{M}[$ instead of the primitive value of $\\dot{M}$."
   ]
  },
  {
   "cell_type": "code",
   "execution_count": null,
   "id": "a4d4fc4b",
   "metadata": {},
   "outputs": [],
   "source": [
    "X_mf = model_mf.addVars(I, L, name='x', vtype=GRB.BINARY)\n",
    "\n",
    "len(X_mf)"
   ]
  },
  {
   "cell_type": "markdown",
   "id": "ad2e7c1d",
   "metadata": {},
   "source": [
    "#### Variable $Y_{ji}^{km}$\n",
    "\n",
    "This binary variable marks the usage of edge $(j,i) \\in E$ at the $m$-th Steiner tree that connects POI $k \\in P$ to the sink.\n",
    "\n",
    "It can be seen as a 4-D array, the first two dimensions representing the elements in the edges of the graph, the third being a POI, and the the forth being the $\\dot{M}$ Steiner trees.\n",
    "Thus, we have $|E| * |P| * \\dot{M}$ possible values for this variable.\n",
    "This variable is defined differently in our Multi-Flow and our Single-Flow ILPs.  \n",
    "Due to a limitation in GUROBI, we use the $L$ sequence of $[0:\\dot{M}[$ instead of the primitive value of $\\dot{M}$.\n",
    "\n",
    "The Y variable can be allowed to assume real values instead of restricted to binary ones. It does not affect the quality of results and reduces the processing time of the model."
   ]
  },
  {
   "cell_type": "code",
   "execution_count": null,
   "id": "dce71571",
   "metadata": {},
   "outputs": [],
   "source": [
    "#Y_mf = model_mf.addVars(A, P, L, name='y', vtype=GRB.BINARY)\n",
    "Y_mf = model_mf.addVars(A, P, L, name='y')\n",
    "\n",
    "len(Y_mf)"
   ]
  },
  {
   "cell_type": "markdown",
   "id": "26c96158",
   "metadata": {},
   "source": [
    "### Objective Function: MINIMIZE $\\sum_{j \\in V}\\sum_{m \\in M} x_{j}^{m} $\n",
    "\n",
    "The objective function in an ILP formulation describes how the result of each intermediate solution will be evaluated. The objective of our optimization is to MINIMIZE the result of the objective function."
   ]
  },
  {
   "cell_type": "code",
   "execution_count": null,
   "id": "9a4e14eb",
   "metadata": {},
   "outputs": [],
   "source": [
    "model_mf.setObjective(X_mf.sum('*', '*'), GRB.MINIMIZE)"
   ]
  },
  {
   "cell_type": "markdown",
   "id": "1be32cfe",
   "metadata": {},
   "source": [
    "### Constraints\n",
    "\n",
    "Constraints are rules limiting to the values that the variables described above may assume.\n",
    "In this section we describe and implement the constraints.\n",
    "\n",
    "#### Disjunction\n",
    "#### Flow (POI)\n",
    "#### Flow (Sensor)\n",
    "#### Flow (Sink)\n",
    "#### Projection\n",
    "#### K-Coverage"
   ]
  },
  {
   "cell_type": "code",
   "execution_count": null,
   "id": "af6c927d",
   "metadata": {},
   "outputs": [],
   "source": [
    "# Disjunction -----------------------------------------\n",
    "disjunction_mf = model_mf.addConstrs(\n",
    "    (X_mf.sum(i, '*') <= 1\n",
    "     for i in I),\n",
    "    name=\"disjunction\"\n",
    ")\n",
    "\n",
    "# Flow ------------------------------------------------\n",
    "flow_p_mf = model_mf.addConstrs(\n",
    "    ((  gp.quicksum(Y_mf.select(p, '*', p, l))\n",
    "      - gp.quicksum(Y_mf.select('*', p, p, l))) == 1\n",
    "     for p in P\n",
    "     for l in L),\n",
    "    name=\"flow_p\"\n",
    ")\n",
    "\n",
    "flow_i_mf = model_mf.addConstrs(\n",
    "    ((  gp.quicksum(Y_mf.select(i, '*', p, l))\n",
    "      - gp.quicksum(Y_mf.select('*', i, p, l))) == 0\n",
    "     for i in I\n",
    "     for p in P\n",
    "     for l in L),\n",
    "    name=\"flow_i\"\n",
    ")\n",
    "\n",
    "flow_s_mf = model_mf.addConstrs(\n",
    "    ((  gp.quicksum(Y_mf.select(s, '*', p, l))\n",
    "      - gp.quicksum(Y_mf.select('*', s, p, l))) == -1\n",
    "     for p in P\n",
    "     for l in L),\n",
    "    name=\"flow_s\"\n",
    ")\n",
    "\n",
    "# Projection ------------------------------------------\n",
    "projection_mf = model_mf.addConstrs(\n",
    "    (Y_mf.sum(i, '*', p, l) <= X_mf.sum(i, l)\n",
    "     for i in I\n",
    "     for p in P\n",
    "     for l in L),\n",
    "    name=\"projection\"\n",
    ")\n",
    "\n",
    "# K-Coverage ------------------------------------------\n",
    "k_coverage_mf = model_mf.addConstrs(\n",
    "    (gp.quicksum(X_mf.select(iC[p], '*')) >= kcmc_k\n",
    "     for p in P),\n",
    "    name=\"k_coverage\"\n",
    ")"
   ]
  },
  {
   "cell_type": "markdown",
   "id": "17958572",
   "metadata": {},
   "source": [
    "### Runtime & PLOT"
   ]
  },
  {
   "cell_type": "code",
   "execution_count": null,
   "id": "92fb7ca7",
   "metadata": {},
   "outputs": [],
   "source": [
    "model_mf.optimize()"
   ]
  },
  {
   "cell_type": "code",
   "execution_count": null,
   "id": "565280c3",
   "metadata": {},
   "outputs": [],
   "source": []
  }
 ],
 "metadata": {
  "kernelspec": {
   "display_name": "Python 3 (ipykernel)",
   "language": "python",
   "name": "python3"
  },
  "language_info": {
   "codemirror_mode": {
    "name": "ipython",
    "version": 3
   },
   "file_extension": ".py",
   "mimetype": "text/x-python",
   "name": "python",
   "nbconvert_exporter": "python",
   "pygments_lexer": "ipython3",
   "version": "3.7.12"
  }
 },
 "nbformat": 4,
 "nbformat_minor": 5
}
