{
 "cells": [
  {
   "cell_type": "markdown",
   "metadata": {},
   "source": [
    "# Instances EDA"
   ]
  },
  {
   "cell_type": "code",
   "execution_count": null,
   "metadata": {},
   "outputs": [],
   "source": [
    "! pip install plotly openpyxl"
   ]
  },
  {
   "cell_type": "code",
   "execution_count": null,
   "metadata": {},
   "outputs": [],
   "source": [
    "import os\n",
    "from math import sqrt, pi\n",
    "import pandas as pd\n",
    "import numpy as np\n",
    "import plotly.express as px\n",
    "import plotly.graph_objects as go\n",
    "\n",
    "import multiprocessing\n",
    "\n",
    "from tqdm.notebook import tqdm\n",
    "\n",
    "from kcmc_instance import KCMC_Instance"
   ]
  },
  {
   "cell_type": "code",
   "execution_count": null,
   "metadata": {},
   "outputs": [],
   "source": [
    "df = []\n",
    "\n",
    "def med_sensor_degree(item):\n",
    "    return np.median(KCMC_Instance(item, True, True, True).sensor_degree)\n",
    "\n",
    "pool = multiprocessing.Pool(7)\n",
    "\n",
    "for file in tqdm(os.listdir('/data/instances.parquet')):\n",
    "    if not file.endswith('.pq'): continue\n",
    "    # print(file, len(item))\n",
    "    item = pd.read_parquet('/data/instances.parquet/'+file)\n",
    "    print(file, len(item))\n",
    "    \n",
    "    # msd = list(pool.map(med_sensor_degree, item['instance'].tolist()))\n",
    "    \n",
    "    item = item[[\n",
    "        'key',\n",
    "        'pois', 'sensors', 'sinks', 'area_side', 'coverage_r', 'communication_r',\n",
    "        'K=1', 'M=1', 'K=2', 'M=2', 'K=3', 'M=3', 'K=4', 'K=5'\n",
    "    ]]\n",
    "    # item.loc[:, 'med_sensor_degree'] = msd\n",
    "    grouped = []\n",
    "    for key, sdf in item.groupby('key'):\n",
    "        keyline = sdf.iloc[0].to_dict()\n",
    "        grouped.append({\n",
    "            col: keyline[col]\n",
    "            for col in [\n",
    "                'key', 'pois', 'sensors', 'sinks', 'area_side', 'coverage_r', 'communication_r'\n",
    "            ]\n",
    "        })\n",
    "        grouped[-1].update({\n",
    "            col: sdf[col].astype(int).sum()/len(sdf)\n",
    "            for col in ['K=1', 'M=1', 'K=2', 'M=2', 'K=3', 'M=3', 'K=4', 'K=5']\n",
    "        })\n",
    "        grouped[-1].update({\n",
    "            '|'.join([k, m]): (sdf[k] & sdf[m]).astype(int).sum()/len(sdf)\n",
    "            for k, m in [\n",
    "                ('K=1', 'M=1'), ('K=2', 'M=1'), ('K=3', 'M=1'), ('K=4', 'M=1'), ('K=5', 'M=1'),\n",
    "                                ('K=2', 'M=2'), ('K=3', 'M=2'), ('K=4', 'M=2'), ('K=5', 'M=2'),\n",
    "                                                ('K=3', 'M=3'), ('K=4', 'M=3'), ('K=5', 'M=3')\n",
    "            ]\n",
    "        })\n",
    "        grouped[-1].update({\n",
    "            'samples': len(sdf),\n",
    "            # 'med_sensor_degree': sdf['med_sensor_degree'].mean()\n",
    "        })\n",
    "    df.append(pd.DataFrame(grouped))\n",
    "df = pd.concat(df).reset_index(drop=True)\n",
    "df = df.sort_values([\n",
    "    'pois', 'sensors', 'sinks',\n",
    "    'area_side', 'coverage_r', 'communication_r'\n",
    "]).reset_index(drop=True)\n",
    "\n",
    "pool.close()"
   ]
  },
  {
   "cell_type": "code",
   "execution_count": null,
   "metadata": {},
   "outputs": [],
   "source": [
    "REFERENCIA = 'K=3|M=2'\n",
    "# REFERENCIA = 'K=4|M=2'"
   ]
  },
  {
   "cell_type": "markdown",
   "metadata": {},
   "source": [
    "## COVERAGE DENSITY\n",
    "\n",
    "$\n",
    "{\\pi*COVG^2 * SENSORES}\n",
    "\\over \n",
    "{AREA^2 * POIS}\n",
    "$\n",
    "\n",
    "## COMMUNICATION DENSITY\n",
    "\n",
    "$\n",
    "{\\pi*COMM^2 * SENSORES * BASES}\n",
    "\\over \n",
    "{AREA^2}\n",
    "$"
   ]
  },
  {
   "cell_type": "code",
   "execution_count": null,
   "metadata": {},
   "outputs": [],
   "source": [
    "df.loc[:, 'coverage_density'] = (\n",
    "    (pi*(df['coverage_r']**2)*df['sensors'])\n",
    "  / (df['pois']*df['area_side']**2)\n",
    ")\n",
    "df.loc[:, 'communication_density'] = (\n",
    "    (pi*(df['communication_r']**2)*df['sensors']*df['sinks'])\n",
    "  / (df['area_side']**2)\n",
    ")"
   ]
  },
  {
   "cell_type": "raw",
   "metadata": {},
   "source": [
    "df.to_pickle('mantem.pkl')"
   ]
  },
  {
   "cell_type": "code",
   "execution_count": null,
   "metadata": {},
   "outputs": [],
   "source": [
    "df = pd.read_pickle('mantem.pkl')\n",
    "df = df[df['coverage_density'].round(2).isin({0.16, 0.4})]"
   ]
  },
  {
   "cell_type": "code",
   "execution_count": null,
   "metadata": {},
   "outputs": [],
   "source": [
    "len(df)"
   ]
  },
  {
   "cell_type": "code",
   "execution_count": null,
   "metadata": {},
   "outputs": [],
   "source": [
    "df_16 = df[df['coverage_density'].round(2) == 0.16]\n",
    "df_40 = df[df['coverage_density'].round(2) == 0.40]\n",
    "\n",
    "len(df_16), len(df_40)"
   ]
  },
  {
   "cell_type": "code",
   "execution_count": null,
   "metadata": {},
   "outputs": [],
   "source": [
    "df_40[['key', 'samples']]"
   ]
  },
  {
   "cell_type": "code",
   "execution_count": null,
   "metadata": {},
   "outputs": [],
   "source": [
    "REFERENCIA"
   ]
  },
  {
   "cell_type": "code",
   "execution_count": null,
   "metadata": {},
   "outputs": [],
   "source": [
    "round(df_16[REFERENCIA].mean(), 5), round(df_16[REFERENCIA].std(), 5)"
   ]
  },
  {
   "cell_type": "code",
   "execution_count": null,
   "metadata": {},
   "outputs": [],
   "source": [
    "round(df_40[REFERENCIA].mean(), 5), round(df_40[REFERENCIA].std(), 5)"
   ]
  },
  {
   "cell_type": "code",
   "execution_count": null,
   "metadata": {},
   "outputs": [],
   "source": [
    "round(0.0467 - 0.05956, 5)"
   ]
  },
  {
   "cell_type": "code",
   "execution_count": null,
   "metadata": {},
   "outputs": [],
   "source": [
    "fig = go.Figure(data=[\n",
    "    go.Box(y=df_16[REFERENCIA], name='COVG_D = 16'),\n",
    "    go.Box(y=df_40[REFERENCIA], name='COVG_D = 40'),\n",
    "])\n",
    "fig.show()"
   ]
  },
  {
   "cell_type": "code",
   "execution_count": null,
   "metadata": {},
   "outputs": [],
   "source": []
  },
  {
   "cell_type": "code",
   "execution_count": null,
   "metadata": {},
   "outputs": [],
   "source": []
  },
  {
   "cell_type": "markdown",
   "metadata": {},
   "source": [
    "## COVG_D, COMM_D"
   ]
  },
  {
   "cell_type": "code",
   "execution_count": null,
   "metadata": {},
   "outputs": [],
   "source": [
    "df_sucesso = df[df[REFERENCIA] > 0.05]"
   ]
  },
  {
   "cell_type": "code",
   "execution_count": null,
   "metadata": {},
   "outputs": [],
   "source": [
    "fig = go.Figure(data=[\n",
    "    go.Scatter(x=df['coverage_density'],      name='TOTAL',\n",
    "               y=df['communication_density']/1000, mode='markers'),\n",
    "    go.Scatter(x=df_sucesso['coverage_density'],      name='SUCESSO',\n",
    "               y=df_sucesso['communication_density']/1000, mode='markers'),\n",
    "])\n",
    "\n",
    "fig.update_xaxes(title_text = \"coverage_density\")\n",
    "fig.update_yaxes(title_text = \"communication_density\")\n",
    "fig.show()"
   ]
  },
  {
   "cell_type": "code",
   "execution_count": null,
   "metadata": {},
   "outputs": [],
   "source": [
    "df_sucesso = df[df[REFERENCIA] > 0.05]\n",
    "\n",
    "fig = go.Figure(data=[\n",
    "    go.Scatter(x=df['coverage_density'], name='COVG_D x SUCESSO',\n",
    "               y=df[REFERENCIA],          mode='markers')\n",
    "])\n",
    "\n",
    "fig.update_xaxes(title_text = \"coverage_density\")\n",
    "fig.update_yaxes(title_text = \"SUCESSO\")\n",
    "fig.show()"
   ]
  },
  {
   "cell_type": "code",
   "execution_count": null,
   "metadata": {},
   "outputs": [],
   "source": []
  },
  {
   "cell_type": "code",
   "execution_count": null,
   "metadata": {},
   "outputs": [],
   "source": [
    "fig = go.Figure(data=[\n",
    "    go.Scatter(x=df['communication_density'], name='COMM_D x SUCESSO',\n",
    "               y=df[REFERENCIA],              mode='markers')\n",
    "])\n",
    "\n",
    "fig.update_xaxes(title_text = \"communication_density\")\n",
    "fig.update_yaxes(title_text = \"SUCESSO\")\n",
    "fig.show()"
   ]
  },
  {
   "cell_type": "markdown",
   "metadata": {},
   "source": [
    "## FATORES"
   ]
  },
  {
   "cell_type": "code",
   "execution_count": null,
   "metadata": {},
   "outputs": [],
   "source": [
    "XIS = 'pois'\n",
    "\n",
    "fig = go.Figure(data=[\n",
    "    go.Scatter(x=df[XIS],\n",
    "               y=df[REFERENCIA],                mode='markers')\n",
    "])\n",
    "\n",
    "fig.update_xaxes(title_text = XIS)\n",
    "fig.update_yaxes(title_text = \"SUCESSO\")\n",
    "fig.show()"
   ]
  },
  {
   "cell_type": "code",
   "execution_count": null,
   "metadata": {},
   "outputs": [],
   "source": [
    "XIS = 'sensors'\n",
    "\n",
    "fig = go.Figure(data=[\n",
    "    go.Scatter(x=df[XIS],\n",
    "               y=df[REFERENCIA],                mode='markers')\n",
    "])\n",
    "\n",
    "fig.update_xaxes(title_text = XIS)\n",
    "fig.update_yaxes(title_text = \"SUCESSO\")\n",
    "fig.show()"
   ]
  },
  {
   "cell_type": "code",
   "execution_count": null,
   "metadata": {},
   "outputs": [],
   "source": []
  },
  {
   "cell_type": "code",
   "execution_count": null,
   "metadata": {},
   "outputs": [],
   "source": [
    "XIS = 'pois'\n",
    "\n",
    "fig = go.Figure(data=[\n",
    "    go.Box(y=df[df[XIS] == x][REFERENCIA], name=XIS+'='+str(x))\n",
    "    for x in sorted(df[XIS].unique())\n",
    "])\n",
    "\n",
    "fig.update_xaxes(title_text = XIS)\n",
    "fig.update_yaxes(title_text = \"SUCESSO\")\n",
    "fig.show()"
   ]
  },
  {
   "cell_type": "code",
   "execution_count": null,
   "metadata": {},
   "outputs": [],
   "source": [
    "XIS = 'sensors_rate'\n",
    "df.loc[:, 'sensors_rate'] = df['sensors'] / df['pois']\n",
    "\n",
    "fig = go.Figure(data=[\n",
    "    go.Box(y=df[df[XIS] == x][REFERENCIA], name=XIS+'='+str(x))\n",
    "    for x in sorted(df[XIS].unique())\n",
    "])\n",
    "\n",
    "fig.update_xaxes(title_text = XIS)\n",
    "fig.update_yaxes(title_text = \"SUCESSO\")\n",
    "fig.show()"
   ]
  },
  {
   "cell_type": "code",
   "execution_count": null,
   "metadata": {},
   "outputs": [],
   "source": [
    "XIS = 'sinks_rate'\n",
    "df.loc[:, 'sinks_rate'] = (df['sinks'] / df['sensors'] / df['pois']).round(6)\n",
    "\n",
    "fig = go.Figure(data=[\n",
    "    go.Box(y=df[df[XIS] == x][REFERENCIA], name=XIS+'='+str(x))\n",
    "    for x in sorted(df[XIS].unique())\n",
    "])\n",
    "\n",
    "fig.update_xaxes(title_text = XIS)\n",
    "fig.update_yaxes(title_text = \"SUCESSO\")\n",
    "fig.show()"
   ]
  },
  {
   "cell_type": "code",
   "execution_count": null,
   "metadata": {},
   "outputs": [],
   "source": [
    "XIS = 'sinks_rate'\n",
    "df.loc[:, 'sinks_rate'] = (df['sinks'] / df['area_side']).round(3)\n",
    "\n",
    "fig = go.Figure(data=[\n",
    "    go.Box(y=df[df[XIS] == x][REFERENCIA], name=XIS+'='+str(x))\n",
    "    for x in sorted(df[XIS].unique())\n",
    "])\n",
    "\n",
    "fig.update_xaxes(title_text = XIS)\n",
    "fig.update_yaxes(title_text = \"SUCESSO\")\n",
    "fig.show()"
   ]
  },
  {
   "cell_type": "code",
   "execution_count": null,
   "metadata": {},
   "outputs": [],
   "source": []
  },
  {
   "cell_type": "code",
   "execution_count": null,
   "metadata": {},
   "outputs": [],
   "source": [
    "XIS = 'd_sensors'\n",
    "df.loc[:, 'd_sensors'] = (df['sensors'] / df['area_side']).round(3)\n",
    "\n",
    "fig = go.Figure(data=[\n",
    "    go.Box(y=df[df[XIS] == x][REFERENCIA], name=XIS+'='+str(x))\n",
    "    for x in sorted(df[XIS].unique())\n",
    "])\n",
    "\n",
    "fig.update_xaxes(title_text = XIS)\n",
    "fig.update_yaxes(title_text = \"SUCESSO\")\n",
    "fig.show()"
   ]
  },
  {
   "cell_type": "code",
   "execution_count": null,
   "metadata": {},
   "outputs": [],
   "source": []
  },
  {
   "cell_type": "code",
   "execution_count": null,
   "metadata": {},
   "outputs": [],
   "source": [
    "XIS = 'd_covg'\n",
    "df.loc[:, 'd_covg'] = ((df['sensors'] * df['coverage_r']) / (df['area_side'] * df['pois'])).round(3)\n",
    "\n",
    "fig = go.Figure(data=[\n",
    "    go.Box(y=df[df[XIS] == x][REFERENCIA], name=XIS+'='+str(x))\n",
    "    for x in sorted(df[XIS].unique())\n",
    "])\n",
    "\n",
    "fig.update_xaxes(title_text = XIS)\n",
    "fig.update_yaxes(title_text = \"SUCESSO\")\n",
    "fig.show()"
   ]
  },
  {
   "cell_type": "code",
   "execution_count": null,
   "metadata": {},
   "outputs": [],
   "source": []
  },
  {
   "cell_type": "code",
   "execution_count": null,
   "metadata": {},
   "outputs": [],
   "source": [
    "XIS = 'd_comm'\n",
    "df.loc[:, 'd_comm'] = ((df['sensors'] * df['communication_r']) / (df['area_side'])).round(1)\n",
    "\n",
    "fig = go.Figure(data=[\n",
    "    go.Box(y=df[df[XIS] == x][REFERENCIA], name=XIS+'='+str(x))\n",
    "    for x in sorted(df[XIS].unique())\n",
    "])\n",
    "\n",
    "fig.update_xaxes(title_text = XIS)\n",
    "fig.update_yaxes(title_text = \"SUCESSO\")\n",
    "fig.show()"
   ]
  },
  {
   "cell_type": "code",
   "execution_count": null,
   "metadata": {},
   "outputs": [],
   "source": [
    "df.columns"
   ]
  },
  {
   "cell_type": "code",
   "execution_count": null,
   "metadata": {},
   "outputs": [],
   "source": [
    "XIS = 'med_sensor_degree'\n",
    "\n",
    "fig = go.Figure(data=[\n",
    "    go.Box(y=df[df[XIS].round(0) == x][REFERENCIA], name=XIS+'='+str(x))\n",
    "    for x in sorted(df[XIS].round(0).unique())\n",
    "])\n",
    "\n",
    "fig.update_xaxes(title_text = XIS)\n",
    "fig.update_yaxes(title_text = \"SUCESSO\")\n",
    "fig.show()"
   ]
  },
  {
   "cell_type": "code",
   "execution_count": null,
   "metadata": {},
   "outputs": [],
   "source": []
  },
  {
   "cell_type": "code",
   "execution_count": null,
   "metadata": {},
   "outputs": [],
   "source": [
    "df[['key', 'samples',\n",
    "    'coverage_density', 'communication_density',\n",
    "    'K=3|M=2'\n",
    "]].sort_values('K=3|M=2', ascending=False).head(50)"
   ]
  },
  {
   "cell_type": "code",
   "execution_count": null,
   "metadata": {},
   "outputs": [],
   "source": [
    "df.to_excel('data.xlsx', index=None)"
   ]
  },
  {
   "cell_type": "code",
   "execution_count": null,
   "metadata": {},
   "outputs": [],
   "source": [
    "df.columns"
   ]
  },
  {
   "cell_type": "code",
   "execution_count": null,
   "metadata": {},
   "outputs": [],
   "source": [
    "df_group['coverage_density']"
   ]
  },
  {
   "cell_type": "code",
   "execution_count": null,
   "metadata": {},
   "outputs": [],
   "source": [
    "COVG_ROUND = 2\n",
    "COMM_ROUND = -1\n",
    "\n",
    "df_group = df.copy()\n",
    "# df_group.loc[:, 'coverage_density'] = df_group['coverage_density'].round(COVG_ROUND)\n",
    "# df_group.loc[:, 'communication_density'] = df_group['communication_density'].round(COMM_ROUND)\n",
    "\n",
    "grouped = []\n",
    "for group, sdf in tqdm(\n",
    "    df_group.groupby(['coverage_density', 'communication_density']),\n",
    "    total = len(df_group[['coverage_density', 'communication_density']].drop_duplicates())\n",
    "):\n",
    "    grouped.append({\n",
    "        'coverage_density': group[0],\n",
    "        'communication_density': group[1],\n",
    "        'num_keys': len(sdf['key'].unique()),\n",
    "        'num_samples': sdf['samples'].sum()\n",
    "    })\n",
    "    for col in sdf.columns:\n",
    "        if col == 'key': continue\n",
    "        grouped[-1].update({\n",
    "            'max_'+col: sdf[col].max(),\n",
    "            'med_'+col: sdf[col].median(),\n",
    "            'avg_'+col: sdf[col].mean(),\n",
    "            'std_'+col: sdf[col].std(),\n",
    "            'min_'+col: sdf[col].min()\n",
    "        })\n",
    "grouped = pd.DataFrame(grouped)"
   ]
  },
  {
   "cell_type": "code",
   "execution_count": null,
   "metadata": {},
   "outputs": [],
   "source": [
    "grouped"
   ]
  },
  {
   "cell_type": "code",
   "execution_count": null,
   "metadata": {},
   "outputs": [],
   "source": [
    "grouped.to_excel('aggregated_data.xlsx', index=None)"
   ]
  },
  {
   "cell_type": "code",
   "execution_count": null,
   "metadata": {},
   "outputs": [],
   "source": [
    "from collections import Counter"
   ]
  },
  {
   "cell_type": "code",
   "execution_count": null,
   "metadata": {},
   "outputs": [],
   "source": [
    "covg = sorted(df_group['coverage_density'].round(6))\n",
    "covg = Counter(covg)\n",
    "\n",
    "comm = sorted(df_group['communication_density'].round(-1))\n",
    "comm = Counter(comm)\n",
    "\n",
    "fig = go.Figure(data=[\n",
    "    go.Scatter(x=list(covg.keys()), y=list(covg.values()), mode='markers', name='COVG'),\n",
    "    go.Scatter(x=list(comm.keys()), y=list(comm.values()), mode='markers', name='COMM')\n",
    "])\n",
    "fig.show()"
   ]
  },
  {
   "cell_type": "code",
   "execution_count": null,
   "metadata": {},
   "outputs": [],
   "source": [
    "missing = df[df['samples'] < 10000][[\n",
    "    'pois', 'sensors', 'sinks', 'area_side', 'coverage_r', 'communication_r'\n",
    "]]\n",
    "missing.columns = 'num_pois,num_sensors,num_sinks,area_side,covg_radius,comm_radius'.split(',')"
   ]
  },
  {
   "cell_type": "code",
   "execution_count": null,
   "metadata": {},
   "outputs": [],
   "source": [
    "missing.to_csv('missing.csv', index=None)"
   ]
  },
  {
   "cell_type": "code",
   "execution_count": null,
   "metadata": {},
   "outputs": [],
   "source": []
  },
  {
   "cell_type": "markdown",
   "metadata": {},
   "source": [
    "## RE-SET THE PARAMETERS"
   ]
  },
  {
   "cell_type": "raw",
   "metadata": {},
   "source": [
    "POIS         = [10,  20,   30,  40,   50]\n",
    "RATE_SENSORS = [2.5, 5.0,  10.0]\n",
    "RATE_SINKS   = [0.0, 0.05, 0.1]\n",
    "RATE_AREA    = [8.0, 2.0, 1.0]  # HOW MUCH % of the total area we can COVER\n",
    "COVERAGE_R   = 100  # BASE-CONSTANT\n",
    "RATE_COMM_R  = [0.5, 1.0,  1.5, 2.0]\n",
    "\n",
    "from math import sqrt, pi\n",
    "combinations = []\n",
    "covg_r = COVERAGE_R\n",
    "for pois in POIS:\n",
    "    for sensors in [int(pois*r) for r in RATE_SENSORS]:\n",
    "        for sinks in [int(max(sensors*r, 1)) for r in RATE_SINKS]:\n",
    "            for area in [int(sqrt((1/r)*sensors*pi*covg_r*covg_r)) for r in RATE_AREA]:\n",
    "                for comm_r in [int(covg_r*r) for r in RATE_COMM_R]:\n",
    "                    combinations.append((pois, sensors, sinks, area, covg_r, comm_r))\n",
    "combinations = pd.DataFrame(\n",
    "    combinations,\n",
    "    columns=['num_pois', 'num_sensors', 'num_sinks', 'area_side', 'covg_radius', 'comm_radius']\n",
    ")\n",
    "print(len(combinations))\n",
    "combinations = (combinations\n",
    "    .drop_duplicates()\n",
    "    .sort_values(list(combinations.columns))\n",
    "    .reset_index(drop=True)\n",
    ").copy()\n",
    "len(combinations)"
   ]
  },
  {
   "cell_type": "code",
   "execution_count": null,
   "metadata": {},
   "outputs": [],
   "source": [
    "# combinations.to_csv('instance_generator_configurations.csv', sep=',', index=None)"
   ]
  },
  {
   "cell_type": "code",
   "execution_count": null,
   "metadata": {},
   "outputs": [],
   "source": [
    "combinations"
   ]
  },
  {
   "cell_type": "code",
   "execution_count": null,
   "metadata": {},
   "outputs": [],
   "source": []
  }
 ],
 "metadata": {
  "hide_input": false,
  "kernelspec": {
   "display_name": "Python 3 (ipykernel)",
   "language": "python",
   "name": "python3"
  },
  "language_info": {
   "codemirror_mode": {
    "name": "ipython",
    "version": 3
   },
   "file_extension": ".py",
   "mimetype": "text/x-python",
   "name": "python",
   "nbconvert_exporter": "python",
   "pygments_lexer": "ipython3",
   "version": "3.7.11"
  },
  "toc": {
   "base_numbering": 1,
   "nav_menu": {},
   "number_sections": true,
   "sideBar": true,
   "skip_h1_title": false,
   "title_cell": "Table of Contents",
   "title_sidebar": "Contents",
   "toc_cell": false,
   "toc_position": {},
   "toc_section_display": true,
   "toc_window_display": false
  }
 },
 "nbformat": 4,
 "nbformat_minor": 4
}
