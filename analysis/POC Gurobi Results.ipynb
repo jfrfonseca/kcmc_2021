{
 "cells": [
  {
   "cell_type": "code",
   "execution_count": 31,
   "id": "cd4a505b",
   "metadata": {},
   "outputs": [
    {
     "data": {
      "application/vnd.jupyter.widget-view+json": {
       "model_id": "62ed4801c1ff46f5ae2b16a0a39e0035",
       "version_major": 2,
       "version_minor": 0
      },
      "text/plain": [
       "  0%|          | 0/7799 [00:00<?, ?it/s]"
      ]
     },
     "metadata": {},
     "output_type": "display_data"
    },
    {
     "data": {
      "text/plain": [
       "(4000, Index(['key', 'seed', 'runtime', 'status'], dtype='object'))"
      ]
     },
     "execution_count": 31,
     "metadata": {},
     "output_type": "execute_result"
    }
   ],
   "source": [
    "import os\n",
    "import json\n",
    "\n",
    "import pandas as pd\n",
    "\n",
    "from tqdm.notebook import tqdm\n",
    "\n",
    "ROOT = 'gurobi_results'\n",
    "TARGET_COUNT = 200\n",
    "reference = pd.read_csv('/data/missing.csv')\n",
    "\n",
    "reference.loc[:, 'key'] = reference.apply(\n",
    "    lambda row: 'KCMC:{num_pois}:{num_sensors}:{num_sinks}:{area_side}:{covg_radius}:{comm_radius}'.format(**row),\n",
    "    axis=1\n",
    ")\n",
    "objective_count = {key: TARGET_COUNT for key in reference['key'].unique()}\n",
    "\n",
    "df_raw = []\n",
    "for file in tqdm(os.listdir(ROOT)):\n",
    "    if not file.endswith('.json'): continue\n",
    "    with open(os.path.join(ROOT, file), 'r') as fin:\n",
    "        data = json.load(fin)\n",
    "    df_raw.append(data)\n",
    "    \n",
    "df_raw = pd.DataFrame(df_raw)\n",
    "df = pd.DataFrame({\n",
    "    'key': df_raw['raw'].apply(lambda data: data['key']).str.replace('KCMC_0.1', 'KCMC', regex=False),\n",
    "    'seed': df_raw['raw'].apply(lambda data: data['instance'].split(';', 4)[3]).astype(int),\n",
    "    'runtime': df_raw['optimization'].apply(lambda data: data['gurobi_runtime']).astype(float),\n",
    "    'status': df_raw['optimization'].apply(lambda data: data['status'])\n",
    "})\n",
    "\n",
    "to_add = []\n",
    "for key in reference['key'].unique():\n",
    "    has_count = len(df[df['key'] == key])\n",
    "    if has_count < TARGET_COUNT:\n",
    "        to_add += ([{'key': key, 'seed': -1, 'runtime': 0.0, 'status': 'INFEASIBLE'}]\n",
    "                   *(TARGET_COUNT-has_count))\n",
    "if len(to_add) > 0:\n",
    "    df = df.append(pd.DataFrame(to_add))\n",
    "df = df.sort_values(['key', 'seed']).reset_index(drop=True).copy()\n",
    "\n",
    "len(df), df.columns"
   ]
  },
  {
   "cell_type": "code",
   "execution_count": 33,
   "id": "6a77230c",
   "metadata": {},
   "outputs": [
    {
     "data": {
      "text/plain": [
       "INFEASIBLE    2270\n",
       "OPTIMAL        923\n",
       "LIMIT          807\n",
       "Name: status, dtype: int64"
      ]
     },
     "execution_count": 33,
     "metadata": {},
     "output_type": "execute_result"
    }
   ],
   "source": [
    "df['status'].value_counts()"
   ]
  },
  {
   "cell_type": "code",
   "execution_count": 48,
   "id": "3bcfe146",
   "metadata": {
    "scrolled": false
   },
   "outputs": [
    {
     "data": {
      "text/plain": [
       "(46,\n",
       " Index(['key', 'status', 'count', 'min', 'median', 'max', 'mean', 'std'], dtype='object'))"
      ]
     },
     "execution_count": 48,
     "metadata": {},
     "output_type": "execute_result"
    }
   ],
   "source": [
    "agg_df = []\n",
    "for pair, sdf in df[['key', 'status', 'runtime']].groupby(['key', 'status']):\n",
    "    key, status = pair\n",
    "    agg_df.append({\n",
    "        'key': key, 'status': status, 'count': len(sdf),\n",
    "        'min': sdf['runtime'].min(), 'median': sdf['runtime'].median(), 'max': sdf['runtime'].max(),\n",
    "        'mean': sdf['runtime'].mean(), 'std': sdf['runtime'].std()\n",
    "    })\n",
    "agg_df = pd.DataFrame(agg_df).sort_values(['key', 'status']).reset_index(drop=True).copy()\n",
    "len(agg_df), agg_df.columns"
   ]
  },
  {
   "cell_type": "code",
   "execution_count": 52,
   "id": "61e5b729",
   "metadata": {},
   "outputs": [
    {
     "data": {
      "text/html": [
       "<div>\n",
       "<style scoped>\n",
       "    .dataframe tbody tr th:only-of-type {\n",
       "        vertical-align: middle;\n",
       "    }\n",
       "\n",
       "    .dataframe tbody tr th {\n",
       "        vertical-align: top;\n",
       "    }\n",
       "\n",
       "    .dataframe thead th {\n",
       "        text-align: right;\n",
       "    }\n",
       "</style>\n",
       "<table border=\"1\" class=\"dataframe\">\n",
       "  <thead>\n",
       "    <tr style=\"text-align: right;\">\n",
       "      <th></th>\n",
       "      <th>key</th>\n",
       "      <th>count</th>\n",
       "      <th>mean</th>\n",
       "    </tr>\n",
       "  </thead>\n",
       "  <tbody>\n",
       "    <tr>\n",
       "      <th>1</th>\n",
       "      <td>KCMC:10:100:1:447:100:150</td>\n",
       "      <td>116</td>\n",
       "      <td>3.919</td>\n",
       "    </tr>\n",
       "    <tr>\n",
       "      <th>3</th>\n",
       "      <td>KCMC:10:125:1:447:100:150</td>\n",
       "      <td>155</td>\n",
       "      <td>8.851</td>\n",
       "    </tr>\n",
       "    <tr>\n",
       "      <th>5</th>\n",
       "      <td>KCMC:10:150:1:447:100:150</td>\n",
       "      <td>174</td>\n",
       "      <td>19.788</td>\n",
       "    </tr>\n",
       "    <tr>\n",
       "      <th>8</th>\n",
       "      <td>KCMC:10:50:1:447:100:150</td>\n",
       "      <td>20</td>\n",
       "      <td>0.452</td>\n",
       "    </tr>\n",
       "    <tr>\n",
       "      <th>10</th>\n",
       "      <td>KCMC:10:75:1:447:100:150</td>\n",
       "      <td>73</td>\n",
       "      <td>1.403</td>\n",
       "    </tr>\n",
       "    <tr>\n",
       "      <th>12</th>\n",
       "      <td>KCMC:20:100:1:447:100:150</td>\n",
       "      <td>79</td>\n",
       "      <td>15.217</td>\n",
       "    </tr>\n",
       "    <tr>\n",
       "      <th>15</th>\n",
       "      <td>KCMC:20:125:1:447:100:150</td>\n",
       "      <td>97</td>\n",
       "      <td>30.315</td>\n",
       "    </tr>\n",
       "    <tr>\n",
       "      <th>18</th>\n",
       "      <td>KCMC:20:150:1:447:100:150</td>\n",
       "      <td>44</td>\n",
       "      <td>39.690</td>\n",
       "    </tr>\n",
       "    <tr>\n",
       "      <th>20</th>\n",
       "      <td>KCMC:20:50:1:447:100:150</td>\n",
       "      <td>3</td>\n",
       "      <td>2.340</td>\n",
       "    </tr>\n",
       "    <tr>\n",
       "      <th>22</th>\n",
       "      <td>KCMC:20:75:1:447:100:150</td>\n",
       "      <td>35</td>\n",
       "      <td>5.872</td>\n",
       "    </tr>\n",
       "    <tr>\n",
       "      <th>25</th>\n",
       "      <td>KCMC:30:100:1:447:100:150</td>\n",
       "      <td>57</td>\n",
       "      <td>33.016</td>\n",
       "    </tr>\n",
       "    <tr>\n",
       "      <th>28</th>\n",
       "      <td>KCMC:30:125:1:447:100:150</td>\n",
       "      <td>14</td>\n",
       "      <td>47.134</td>\n",
       "    </tr>\n",
       "    <tr>\n",
       "      <th>31</th>\n",
       "      <td>KCMC:30:150:1:447:100:150</td>\n",
       "      <td>2</td>\n",
       "      <td>40.068</td>\n",
       "    </tr>\n",
       "    <tr>\n",
       "      <th>33</th>\n",
       "      <td>KCMC:30:75:1:447:100:150</td>\n",
       "      <td>18</td>\n",
       "      <td>11.763</td>\n",
       "    </tr>\n",
       "    <tr>\n",
       "      <th>36</th>\n",
       "      <td>KCMC:40:100:1:447:100:150</td>\n",
       "      <td>32</td>\n",
       "      <td>40.762</td>\n",
       "    </tr>\n",
       "    <tr>\n",
       "      <th>39</th>\n",
       "      <td>KCMC:40:125:1:447:100:150</td>\n",
       "      <td>4</td>\n",
       "      <td>53.177</td>\n",
       "    </tr>\n",
       "  </tbody>\n",
       "</table>\n",
       "</div>"
      ],
      "text/plain": [
       "                          key  count    mean\n",
       "1   KCMC:10:100:1:447:100:150    116   3.919\n",
       "3   KCMC:10:125:1:447:100:150    155   8.851\n",
       "5   KCMC:10:150:1:447:100:150    174  19.788\n",
       "8    KCMC:10:50:1:447:100:150     20   0.452\n",
       "10   KCMC:10:75:1:447:100:150     73   1.403\n",
       "12  KCMC:20:100:1:447:100:150     79  15.217\n",
       "15  KCMC:20:125:1:447:100:150     97  30.315\n",
       "18  KCMC:20:150:1:447:100:150     44  39.690\n",
       "20   KCMC:20:50:1:447:100:150      3   2.340\n",
       "22   KCMC:20:75:1:447:100:150     35   5.872\n",
       "25  KCMC:30:100:1:447:100:150     57  33.016\n",
       "28  KCMC:30:125:1:447:100:150     14  47.134\n",
       "31  KCMC:30:150:1:447:100:150      2  40.068\n",
       "33   KCMC:30:75:1:447:100:150     18  11.763\n",
       "36  KCMC:40:100:1:447:100:150     32  40.762\n",
       "39  KCMC:40:125:1:447:100:150      4  53.177"
      ]
     },
     "execution_count": 52,
     "metadata": {},
     "output_type": "execute_result"
    }
   ],
   "source": [
    "agg_df[agg_df['status'] == 'OPTIMAL'][['key', 'count', 'mean']].round(3)"
   ]
  },
  {
   "cell_type": "code",
   "execution_count": 53,
   "id": "15bbfdb4",
   "metadata": {},
   "outputs": [
    {
     "data": {
      "text/html": [
       "<div>\n",
       "<style scoped>\n",
       "    .dataframe tbody tr th:only-of-type {\n",
       "        vertical-align: middle;\n",
       "    }\n",
       "\n",
       "    .dataframe tbody tr th {\n",
       "        vertical-align: top;\n",
       "    }\n",
       "\n",
       "    .dataframe thead th {\n",
       "        text-align: right;\n",
       "    }\n",
       "</style>\n",
       "<table border=\"1\" class=\"dataframe\">\n",
       "  <thead>\n",
       "    <tr style=\"text-align: right;\">\n",
       "      <th></th>\n",
       "      <th>key</th>\n",
       "      <th>count</th>\n",
       "    </tr>\n",
       "  </thead>\n",
       "  <tbody>\n",
       "    <tr>\n",
       "      <th>14</th>\n",
       "      <td>KCMC:20:125:1:447:100:150</td>\n",
       "      <td>22</td>\n",
       "    </tr>\n",
       "    <tr>\n",
       "      <th>17</th>\n",
       "      <td>KCMC:20:150:1:447:100:150</td>\n",
       "      <td>103</td>\n",
       "    </tr>\n",
       "    <tr>\n",
       "      <th>24</th>\n",
       "      <td>KCMC:30:100:1:447:100:150</td>\n",
       "      <td>11</td>\n",
       "    </tr>\n",
       "    <tr>\n",
       "      <th>27</th>\n",
       "      <td>KCMC:30:125:1:447:100:150</td>\n",
       "      <td>90</td>\n",
       "    </tr>\n",
       "    <tr>\n",
       "      <th>30</th>\n",
       "      <td>KCMC:30:150:1:447:100:150</td>\n",
       "      <td>135</td>\n",
       "    </tr>\n",
       "    <tr>\n",
       "      <th>35</th>\n",
       "      <td>KCMC:40:100:1:447:100:150</td>\n",
       "      <td>24</td>\n",
       "    </tr>\n",
       "    <tr>\n",
       "      <th>38</th>\n",
       "      <td>KCMC:40:125:1:447:100:150</td>\n",
       "      <td>87</td>\n",
       "    </tr>\n",
       "    <tr>\n",
       "      <th>41</th>\n",
       "      <td>KCMC:40:150:1:447:100:150</td>\n",
       "      <td>125</td>\n",
       "    </tr>\n",
       "    <tr>\n",
       "      <th>43</th>\n",
       "      <td>KCMC:50:125:1:447:100:150</td>\n",
       "      <td>86</td>\n",
       "    </tr>\n",
       "    <tr>\n",
       "      <th>45</th>\n",
       "      <td>KCMC:50:150:1:447:100:150</td>\n",
       "      <td>124</td>\n",
       "    </tr>\n",
       "  </tbody>\n",
       "</table>\n",
       "</div>"
      ],
      "text/plain": [
       "                          key  count\n",
       "14  KCMC:20:125:1:447:100:150     22\n",
       "17  KCMC:20:150:1:447:100:150    103\n",
       "24  KCMC:30:100:1:447:100:150     11\n",
       "27  KCMC:30:125:1:447:100:150     90\n",
       "30  KCMC:30:150:1:447:100:150    135\n",
       "35  KCMC:40:100:1:447:100:150     24\n",
       "38  KCMC:40:125:1:447:100:150     87\n",
       "41  KCMC:40:150:1:447:100:150    125\n",
       "43  KCMC:50:125:1:447:100:150     86\n",
       "45  KCMC:50:150:1:447:100:150    124"
      ]
     },
     "execution_count": 53,
     "metadata": {},
     "output_type": "execute_result"
    }
   ],
   "source": [
    "agg_df[agg_df['status'] == 'LIMIT'][['key', 'count']]"
   ]
  },
  {
   "cell_type": "code",
   "execution_count": null,
   "id": "7e049cf9",
   "metadata": {},
   "outputs": [],
   "source": []
  }
 ],
 "metadata": {
  "kernelspec": {
   "display_name": "Python 3 (ipykernel)",
   "language": "python",
   "name": "python3"
  },
  "language_info": {
   "codemirror_mode": {
    "name": "ipython",
    "version": 3
   },
   "file_extension": ".py",
   "mimetype": "text/x-python",
   "name": "python",
   "nbconvert_exporter": "python",
   "pygments_lexer": "ipython3",
   "version": "3.7.11"
  }
 },
 "nbformat": 4,
 "nbformat_minor": 5
}
