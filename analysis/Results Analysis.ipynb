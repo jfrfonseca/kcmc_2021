{
 "cells": [
  {
   "cell_type": "markdown",
   "id": "41ff91e9",
   "metadata": {},
   "source": [
    "## Data Preparation"
   ]
  },
  {
   "cell_type": "code",
   "execution_count": 1,
   "id": "64c6db9d",
   "metadata": {},
   "outputs": [
    {
     "data": {
      "text/plain": [
       "(3542,\n",
       " ['area_side',\n",
       "  'communication_radius',\n",
       "  'coverage_radius',\n",
       "  'gurobi_binary_variables_count',\n",
       "  'gurobi_bound',\n",
       "  'gurobi_bound_c',\n",
       "  'gurobi_columns_count',\n",
       "  'gurobi_continuous_variables_count',\n",
       "  'gurobi_heuristic_objective_value',\n",
       "  'gurobi_initial_binary_variables_count',\n",
       "  'gurobi_initial_columns_count',\n",
       "  'gurobi_initial_continuous_variables_count',\n",
       "  'gurobi_initial_integer_variables_count',\n",
       "  'gurobi_initial_non_zero_count',\n",
       "  'gurobi_initial_rows_count',\n",
       "  'gurobi_integer_variables_count',\n",
       "  'gurobi_logs',\n",
       "  'gurobi_mip_gap',\n",
       "  'gurobi_model_name',\n",
       "  'gurobi_node_count',\n",
       "  'gurobi_non_zero_count',\n",
       "  'gurobi_objective_value',\n",
       "  'gurobi_optimal',\n",
       "  'gurobi_presolve_removed_columns',\n",
       "  'gurobi_presolve_removed_rows',\n",
       "  'gurobi_presolve_time',\n",
       "  'gurobi_rows_count',\n",
       "  'gurobi_run_time',\n",
       "  'gurobi_setup_time',\n",
       "  'gurobi_simplex_iterations_count',\n",
       "  'gurobi_solution',\n",
       "  'gurobi_solutions_count',\n",
       "  'gurobi_variable_x_size',\n",
       "  'gurobi_variable_y_size',\n",
       "  'heuristic_name',\n",
       "  'heuristic_objective_value',\n",
       "  'heuristic_solution',\n",
       "  'heuristic_solution_quality',\n",
       "  'heuristic_solution_size',\n",
       "  'heuristic_time',\n",
       "  'instance_key',\n",
       "  'k',\n",
       "  'm',\n",
       "  'pois',\n",
       "  'random_seed',\n",
       "  'result_key',\n",
       "  'sensors',\n",
       "  'serial_instance',\n",
       "  'sinks',\n",
       "  'solution',\n",
       "  'solution_quality',\n",
       "  'solution_size',\n",
       "  'source_file',\n",
       "  'time_limit',\n",
       "  'total_time',\n",
       "  'y_binary'])"
      ]
     },
     "execution_count": 1,
     "metadata": {},
     "output_type": "execute_result"
    }
   ],
   "source": [
    "import pandas as pd\n",
    "\n",
    "from tqdm.notebook import tqdm\n",
    "import plotly.graph_objects as go\n",
    "\n",
    "experiment_parameters = [\n",
    "    'pois', 'sensors', \n",
    "    'k', 'm', \n",
    "    'heuristic_name', 'gurobi_model_name'\n",
    "]\n",
    "expected_instances = 10\n",
    "\n",
    "df = pd.read_parquet('results.pq')\n",
    "df['heuristic_name'] = df['gurobi_model_name'].str.split('_gurobi').str[0].apply(\n",
    "    lambda val: '' if val.startswith('gurobi') else val\n",
    ")\n",
    "df['gurobi_model_name'] = df['gurobi_model_name'].apply(\n",
    "    lambda val: 'gurobi'+val.split('gurobi')[-1]\n",
    ")\n",
    "len(df), sorted(df.columns)"
   ]
  },
  {
   "cell_type": "code",
   "execution_count": 2,
   "id": "eaa71a97",
   "metadata": {},
   "outputs": [
    {
     "data": {
      "application/vnd.jupyter.widget-view+json": {
       "model_id": "3234f1877c664326a4180e6f4efc8e66",
       "version_major": 2,
       "version_minor": 0
      },
      "text/plain": [
       "  0%|          | 0/359 [00:00<?, ?it/s]"
      ]
     },
     "metadata": {},
     "output_type": "display_data"
    },
    {
     "data": {
      "text/html": [
       "<div>\n",
       "<style scoped>\n",
       "    .dataframe tbody tr th:only-of-type {\n",
       "        vertical-align: middle;\n",
       "    }\n",
       "\n",
       "    .dataframe tbody tr th {\n",
       "        vertical-align: top;\n",
       "    }\n",
       "\n",
       "    .dataframe thead th {\n",
       "        text-align: right;\n",
       "    }\n",
       "</style>\n",
       "<table border=\"1\" class=\"dataframe\">\n",
       "  <thead>\n",
       "    <tr style=\"text-align: right;\">\n",
       "      <th></th>\n",
       "      <th>pois</th>\n",
       "      <th>sensors</th>\n",
       "      <th>k</th>\n",
       "      <th>m</th>\n",
       "      <th>heuristic_name</th>\n",
       "      <th>gurobi_model_name</th>\n",
       "      <th>num_optimal</th>\n",
       "      <th>num_integer_solution</th>\n",
       "      <th>num_nonzero_solution</th>\n",
       "      <th>mean_nodes</th>\n",
       "      <th>mean_lower_bound</th>\n",
       "      <th>mean_upper_bound</th>\n",
       "      <th>mean_gap</th>\n",
       "      <th>mean_time</th>\n",
       "    </tr>\n",
       "  </thead>\n",
       "  <tbody>\n",
       "    <tr>\n",
       "      <th>0</th>\n",
       "      <td>100</td>\n",
       "      <td>100</td>\n",
       "      <td>1</td>\n",
       "      <td>1</td>\n",
       "      <td></td>\n",
       "      <td>gurobi_multi_flow</td>\n",
       "      <td>10</td>\n",
       "      <td>10</td>\n",
       "      <td>10</td>\n",
       "      <td>0.5</td>\n",
       "      <td>5.600</td>\n",
       "      <td>5.600</td>\n",
       "      <td>0.0</td>\n",
       "      <td>4.695259</td>\n",
       "    </tr>\n",
       "    <tr>\n",
       "      <th>1</th>\n",
       "      <td>100</td>\n",
       "      <td>100</td>\n",
       "      <td>1</td>\n",
       "      <td>1</td>\n",
       "      <td></td>\n",
       "      <td>gurobi_single_flow</td>\n",
       "      <td>10</td>\n",
       "      <td>10</td>\n",
       "      <td>10</td>\n",
       "      <td>0.5</td>\n",
       "      <td>5.600</td>\n",
       "      <td>5.600</td>\n",
       "      <td>0.0</td>\n",
       "      <td>4.779089</td>\n",
       "    </tr>\n",
       "    <tr>\n",
       "      <th>2</th>\n",
       "      <td>100</td>\n",
       "      <td>100</td>\n",
       "      <td>1</td>\n",
       "      <td>1</td>\n",
       "      <td></td>\n",
       "      <td>gurobi_y_binary_multi_flow</td>\n",
       "      <td>10</td>\n",
       "      <td>10</td>\n",
       "      <td>10</td>\n",
       "      <td>0.2</td>\n",
       "      <td>5.600</td>\n",
       "      <td>5.600</td>\n",
       "      <td>0.0</td>\n",
       "      <td>11.692959</td>\n",
       "    </tr>\n",
       "    <tr>\n",
       "      <th>3</th>\n",
       "      <td>100</td>\n",
       "      <td>100</td>\n",
       "      <td>1</td>\n",
       "      <td>1</td>\n",
       "      <td></td>\n",
       "      <td>gurobi_y_binary_single_flow</td>\n",
       "      <td>10</td>\n",
       "      <td>10</td>\n",
       "      <td>10</td>\n",
       "      <td>0.3</td>\n",
       "      <td>5.600</td>\n",
       "      <td>5.600</td>\n",
       "      <td>0.0</td>\n",
       "      <td>11.799263</td>\n",
       "    </tr>\n",
       "    <tr>\n",
       "      <th>4</th>\n",
       "      <td>100</td>\n",
       "      <td>100</td>\n",
       "      <td>1</td>\n",
       "      <td>1</td>\n",
       "      <td>dinic</td>\n",
       "      <td>gurobi_multi_flow</td>\n",
       "      <td>10</td>\n",
       "      <td>10</td>\n",
       "      <td>10</td>\n",
       "      <td>0.3</td>\n",
       "      <td>5.600</td>\n",
       "      <td>5.600</td>\n",
       "      <td>0.0</td>\n",
       "      <td>0.979186</td>\n",
       "    </tr>\n",
       "    <tr>\n",
       "      <th>...</th>\n",
       "      <td>...</td>\n",
       "      <td>...</td>\n",
       "      <td>...</td>\n",
       "      <td>...</td>\n",
       "      <td>...</td>\n",
       "      <td>...</td>\n",
       "      <td>...</td>\n",
       "      <td>...</td>\n",
       "      <td>...</td>\n",
       "      <td>...</td>\n",
       "      <td>...</td>\n",
       "      <td>...</td>\n",
       "      <td>...</td>\n",
       "      <td>...</td>\n",
       "    </tr>\n",
       "    <tr>\n",
       "      <th>354</th>\n",
       "      <td>200</td>\n",
       "      <td>500</td>\n",
       "      <td>3</td>\n",
       "      <td>3</td>\n",
       "      <td>dinic</td>\n",
       "      <td>gurobi_single_flow</td>\n",
       "      <td>9</td>\n",
       "      <td>9</td>\n",
       "      <td>9</td>\n",
       "      <td>0.0</td>\n",
       "      <td>15.000</td>\n",
       "      <td>15.000</td>\n",
       "      <td>0.0</td>\n",
       "      <td>1647.956253</td>\n",
       "    </tr>\n",
       "    <tr>\n",
       "      <th>355</th>\n",
       "      <td>200</td>\n",
       "      <td>500</td>\n",
       "      <td>3</td>\n",
       "      <td>3</td>\n",
       "      <td>max_flood</td>\n",
       "      <td>gurobi_multi_flow</td>\n",
       "      <td>0</td>\n",
       "      <td>6</td>\n",
       "      <td>7</td>\n",
       "      <td>0.0</td>\n",
       "      <td>0.000</td>\n",
       "      <td>0.000</td>\n",
       "      <td>1.0</td>\n",
       "      <td>-</td>\n",
       "    </tr>\n",
       "    <tr>\n",
       "      <th>356</th>\n",
       "      <td>200</td>\n",
       "      <td>500</td>\n",
       "      <td>3</td>\n",
       "      <td>3</td>\n",
       "      <td>max_flood</td>\n",
       "      <td>gurobi_single_flow</td>\n",
       "      <td>6</td>\n",
       "      <td>6</td>\n",
       "      <td>8</td>\n",
       "      <td>0.0</td>\n",
       "      <td>13.125</td>\n",
       "      <td>13.125</td>\n",
       "      <td>0.0</td>\n",
       "      <td>2326.64943</td>\n",
       "    </tr>\n",
       "    <tr>\n",
       "      <th>357</th>\n",
       "      <td>200</td>\n",
       "      <td>500</td>\n",
       "      <td>3</td>\n",
       "      <td>3</td>\n",
       "      <td>min_flood</td>\n",
       "      <td>gurobi_multi_flow</td>\n",
       "      <td>0</td>\n",
       "      <td>6</td>\n",
       "      <td>7</td>\n",
       "      <td>0.0</td>\n",
       "      <td>0.000</td>\n",
       "      <td>0.000</td>\n",
       "      <td>1.0</td>\n",
       "      <td>-</td>\n",
       "    </tr>\n",
       "    <tr>\n",
       "      <th>358</th>\n",
       "      <td>200</td>\n",
       "      <td>500</td>\n",
       "      <td>3</td>\n",
       "      <td>3</td>\n",
       "      <td>min_flood</td>\n",
       "      <td>gurobi_single_flow</td>\n",
       "      <td>8</td>\n",
       "      <td>8</td>\n",
       "      <td>8</td>\n",
       "      <td>0.0</td>\n",
       "      <td>15.000</td>\n",
       "      <td>15.000</td>\n",
       "      <td>0.0</td>\n",
       "      <td>2096.239717</td>\n",
       "    </tr>\n",
       "  </tbody>\n",
       "</table>\n",
       "<p>359 rows × 14 columns</p>\n",
       "</div>"
      ],
      "text/plain": [
       "     pois  sensors  k  m heuristic_name            gurobi_model_name  \\\n",
       "0     100      100  1  1                           gurobi_multi_flow   \n",
       "1     100      100  1  1                          gurobi_single_flow   \n",
       "2     100      100  1  1                  gurobi_y_binary_multi_flow   \n",
       "3     100      100  1  1                 gurobi_y_binary_single_flow   \n",
       "4     100      100  1  1          dinic            gurobi_multi_flow   \n",
       "..    ...      ... .. ..            ...                          ...   \n",
       "354   200      500  3  3          dinic           gurobi_single_flow   \n",
       "355   200      500  3  3      max_flood            gurobi_multi_flow   \n",
       "356   200      500  3  3      max_flood           gurobi_single_flow   \n",
       "357   200      500  3  3      min_flood            gurobi_multi_flow   \n",
       "358   200      500  3  3      min_flood           gurobi_single_flow   \n",
       "\n",
       "     num_optimal  num_integer_solution  num_nonzero_solution  mean_nodes  \\\n",
       "0             10                    10                    10         0.5   \n",
       "1             10                    10                    10         0.5   \n",
       "2             10                    10                    10         0.2   \n",
       "3             10                    10                    10         0.3   \n",
       "4             10                    10                    10         0.3   \n",
       "..           ...                   ...                   ...         ...   \n",
       "354            9                     9                     9         0.0   \n",
       "355            0                     6                     7         0.0   \n",
       "356            6                     6                     8         0.0   \n",
       "357            0                     6                     7         0.0   \n",
       "358            8                     8                     8         0.0   \n",
       "\n",
       "     mean_lower_bound  mean_upper_bound mean_gap    mean_time  \n",
       "0               5.600             5.600      0.0     4.695259  \n",
       "1               5.600             5.600      0.0     4.779089  \n",
       "2               5.600             5.600      0.0    11.692959  \n",
       "3               5.600             5.600      0.0    11.799263  \n",
       "4               5.600             5.600      0.0     0.979186  \n",
       "..                ...               ...      ...          ...  \n",
       "354            15.000            15.000      0.0  1647.956253  \n",
       "355             0.000             0.000      1.0            -  \n",
       "356            13.125            13.125      0.0   2326.64943  \n",
       "357             0.000             0.000      1.0            -  \n",
       "358            15.000            15.000      0.0  2096.239717  \n",
       "\n",
       "[359 rows x 14 columns]"
      ]
     },
     "execution_count": 2,
     "metadata": {},
     "output_type": "execute_result"
    }
   ],
   "source": [
    "results = []\n",
    "\n",
    "for experiment, dfex in tqdm(df.groupby(experiment_parameters)):\n",
    "    \n",
    "    # Ignore (for now) incomplete experiments\n",
    "    #if len(dfex) < expected_instances:\n",
    "    #    print(experiment, len(dfex))\n",
    "    #    continue\n",
    "    #assert len(dfex), expected_instances\n",
    "        \n",
    "    # Get the optimal rows\n",
    "    opt = dfex[dfex['gurobi_optimal']]\n",
    "        \n",
    "    # Create the new result\n",
    "    result = dict(zip(experiment_parameters, experiment))\n",
    "    \n",
    "    # QUANTIFIERS\n",
    "    result['num_optimal'] = len(opt)\n",
    "    result['num_integer_solution'] = len(dfex[dfex['gurobi_solutions_count'] > 0])\n",
    "    # Every instance has a possible solution, so its always the same as the num of instances\n",
    "    result['num_nonzero_solution'] = len(dfex)\n",
    "\n",
    "    # GLOBAL MEANS\n",
    "    means = (\n",
    "        df.loc[\n",
    "            dfex.index, \n",
    "            ['gurobi_node_count', 'gurobi_bound', 'gurobi_bound_c']\n",
    "        ]\n",
    "        .apply(lambda col: col.mean())\n",
    "        .to_dict()\n",
    "    )\n",
    "    result['mean_nodes'] = means['gurobi_node_count']\n",
    "    result['mean_lower_bound'] = means['gurobi_bound']\n",
    "    result['mean_upper_bound'] = means['gurobi_bound_c']\n",
    "    \n",
    "    gaps = df.loc[dfex.index, ['gurobi_mip_gap', 'sensors']]\n",
    "    gaps = gaps[gaps['gurobi_mip_gap'] < gaps['sensors']]\n",
    "    result['mean_gap'] = gaps['gurobi_mip_gap'].mean()\n",
    "\n",
    "    # GUROBI OPTIMAL MEANS    \n",
    "    means = (\n",
    "        df.loc[\n",
    "            opt.index, \n",
    "            ['gurobi_run_time']\n",
    "        ]\n",
    "        .apply(lambda col: col.mean())\n",
    "        .to_dict()\n",
    "    )\n",
    "    result['mean_time'] = means['gurobi_run_time']\n",
    "    \n",
    "    results.append(result.copy())\n",
    "    \n",
    "results = pd.DataFrame(results).sort_values(experiment_parameters).reset_index(drop=True)\n",
    "results.fillna('-')"
   ]
  },
  {
   "cell_type": "code",
   "execution_count": 3,
   "id": "b5b53c81",
   "metadata": {},
   "outputs": [],
   "source": [
    "for MODEL, df_res in results.groupby(['gurobi_model_name', 'heuristic_name']):\n",
    "    model, heuristic = MODEL\n",
    "    df_res.to_csv(f'results/{model}.{heuristic}.csv', index=None)"
   ]
  },
  {
   "cell_type": "code",
   "execution_count": null,
   "id": "624d9743",
   "metadata": {},
   "outputs": [],
   "source": []
  },
  {
   "cell_type": "code",
   "execution_count": 4,
   "id": "387dd333",
   "metadata": {},
   "outputs": [],
   "source": [
    "prep = pd.read_csv('results/optimizer.csv', sep='\\t', header=None)\n",
    "prep.columns = ['instance_key', 'k', 'm', 'heuristic_name', 'time_us', 'valid', 'size', 'fraction', 'solution']\n",
    "\n",
    "keys = pd.DataFrame(\n",
    "    prep['instance_key'].apply(\n",
    "        lambda k: [int(i) for j in k.split(';') for i in j.split(' ')]\n",
    "    ).tolist(),\n",
    "    index=prep.index\n",
    ")\n",
    "keys.columns = ['pois', 'sensors', 'sinks',\n",
    "                'area_side', 'coverage_radius', 'communication_radius',\n",
    "                'random_seed']\n",
    "prep = prep.merge(keys, left_index=True, right_index=True)\n",
    "prep.loc[:, 'gurobi_model_name'] = ''\n",
    "prep.loc[:, 'iterations'] = prep['heuristic_name'].apply(\n",
    "    lambda h: int(h.rsplit('_', 1)[-1]) if h[-1].isdigit() else 0\n",
    ")\n",
    "prep.loc[:, 'heuristic_name'] = prep['heuristic_name'].apply(\n",
    "    lambda h: h.rsplit('_', 1)[0] if h[-1].isdigit() else h\n",
    ")"
   ]
  },
  {
   "cell_type": "code",
   "execution_count": 5,
   "id": "290cde69",
   "metadata": {},
   "outputs": [
    {
     "data": {
      "application/vnd.jupyter.widget-view+json": {
       "model_id": "01e8db6484e545f0b5a62191d0c2263c",
       "version_major": 2,
       "version_minor": 0
      },
      "text/plain": [
       "  0%|          | 0/216 [00:00<?, ?it/s]"
      ]
     },
     "metadata": {},
     "output_type": "display_data"
    }
   ],
   "source": [
    "prep_results = []\n",
    "for experiment, dfex in tqdm(prep.groupby(experiment_parameters)):\n",
    "    \n",
    "    opt = dfex[dfex['valid'] == 'OK']\n",
    "    \n",
    "    result = dict(zip(experiment_parameters, experiment))\n",
    "    \n",
    "    result['num_optimal'] = len(opt)\n",
    "    result['mean_lower_bound'] = opt['size'].mean()\n",
    "    result['mean_iterations'] = opt['iterations'].mean()\n",
    "    result['mean_time'] = opt['time_us'].mean()/1_000_000\n",
    "    \n",
    "    prep_results.append(result.copy())\n",
    "\n",
    "prep_result = pd.DataFrame(prep_results).sort_values(experiment_parameters).reset_index(drop=True)"
   ]
  },
  {
   "cell_type": "code",
   "execution_count": 6,
   "id": "0f6e9d94",
   "metadata": {},
   "outputs": [],
   "source": [
    "for heuristic, df_res in prep_result.groupby('heuristic_name'):\n",
    "    df_res.to_csv(f'results/{heuristic}.csv', index=None)"
   ]
  },
  {
   "cell_type": "code",
   "execution_count": null,
   "id": "f6b56b12",
   "metadata": {},
   "outputs": [],
   "source": []
  },
  {
   "cell_type": "code",
   "execution_count": 21,
   "id": "1632ea8b",
   "metadata": {},
   "outputs": [],
   "source": [
    "import os\n",
    "\n",
    "def get_column(col_name):\n",
    "    all_data = None\n",
    "    for file in os.listdir('results'):\n",
    "        if not file.endswith('.csv'): continue\n",
    "        if file == 'optimizer.csv': continue\n",
    "        if file.startswith('.'): continue\n",
    "        data = pd.read_csv('results/'+file)\n",
    "        #print(file, data.columns)\n",
    "        data   = data[['pois', 'sensors', 'k', 'm', col_name]]\n",
    "        data.columns = ['pois', 'sensors', 'k', 'm', file.replace('..', '.').replace('.csv', '')]\n",
    "        all_data = data if all_data is None else all_data.merge(data, how='left')\n",
    "        all_data = all_data.copy(deep=True)\n",
    "    return all_data"
   ]
  },
  {
   "cell_type": "code",
   "execution_count": null,
   "id": "ca35eac6",
   "metadata": {},
   "outputs": [],
   "source": []
  },
  {
   "cell_type": "code",
   "execution_count": 23,
   "id": "c877bb48",
   "metadata": {},
   "outputs": [],
   "source": [
    "import plotly.graph_objects as go\n",
    "import numpy as np"
   ]
  },
  {
   "cell_type": "code",
   "execution_count": null,
   "id": "8c1bbcd0",
   "metadata": {},
   "outputs": [],
   "source": []
  },
  {
   "cell_type": "code",
   "execution_count": 29,
   "id": "6e619ff6",
   "metadata": {},
   "outputs": [
    {
     "data": {
      "application/vnd.plotly.v1+json": {
       "config": {
        "plotlyServerURL": "https://plot.ly"
       },
       "data": [
        {
         "name": "gurobi_multi_flow",
         "type": "scatter",
         "x": [
          100,
          100,
          100,
          100,
          100,
          100,
          300,
          300,
          300,
          300,
          300,
          300,
          500,
          500,
          500,
          500,
          500,
          500,
          100,
          100,
          100,
          100,
          100,
          100,
          300,
          300,
          300,
          300,
          300,
          300,
          500,
          500,
          500,
          500,
          500,
          500
         ],
         "y": [
          4.695259380340576,
          3.4982601165771485,
          24.2800430059433,
          3.3036349773406983,
          27.38611142635345,
          64.00101318359376,
          274.607262802124,
          632.4992215156556,
          2181.5251220226287,
          341.8546901226044,
          2711.9597900594986,
          2051.5815839767456,
          1477.3343539237976,
          1743.0253049135208,
          null,
          569.2087634801865,
          null,
          null,
          9.888533449172972,
          81.77967321872711,
          25.561787176132203,
          6.761332654953003,
          47.867442917823794,
          159.8067451238632,
          461.52055552005766,
          413.9706585407257,
          1223.6832828521729,
          604.0907405138016,
          2480.793935060501,
          3581.453766822815,
          1612.1056880950928,
          743.288341999054,
          null,
          986.1412814855576,
          null,
          null
         ]
        },
        {
         "name": "gurobi_multi_flow.dinic",
         "type": "scatter",
         "x": [
          100,
          100,
          100,
          100,
          100,
          100,
          300,
          300,
          300,
          300,
          300,
          300,
          500,
          500,
          500,
          500,
          500,
          500,
          100,
          100,
          100,
          100,
          100,
          100,
          300,
          300,
          300,
          300,
          300,
          300,
          500,
          500,
          500,
          500,
          500,
          500
         ],
         "y": [
          0.979185914993286,
          1.1255067348480223,
          5.933051490783692,
          0.7958209037780761,
          7.184721946716309,
          20.00567388534546,
          54.398054814338686,
          86.44076018333435,
          469.1211822509766,
          46.69544339179993,
          648.5961483001709,
          971.4762411382465,
          648.3821205615998,
          676.255090212822,
          2496.5966140202117,
          1195.2964333891869,
          1850.310276031494,
          null,
          2.9915313482284547,
          1.756734204292297,
          8.787892055511474,
          2.146406817436218,
          15.238521313667295,
          37.05128099918365,
          84.1140197277069,
          93.66160483360292,
          454.19923067092896,
          98.42974429130554,
          1024.9538928985596,
          2216.151418089866,
          1030.5667750597,
          1285.994432592392,
          3360.98112988472,
          1234.828389512168,
          null,
          null
         ]
        },
        {
         "name": "gurobi_multi_flow.max_flood",
         "type": "scatter",
         "x": [
          100,
          100,
          100,
          100,
          100,
          100,
          300,
          300,
          300,
          300,
          300,
          300,
          500,
          500,
          500,
          500,
          500,
          500,
          100,
          100,
          100,
          100,
          100,
          100,
          300,
          300,
          300,
          300,
          300,
          300,
          500,
          500,
          500,
          500,
          500,
          500
         ],
         "y": [
          1.9871696710586548,
          2.138152289390564,
          12.029416179656982,
          1.5192683458328249,
          16.422341561317445,
          35.74274590015411,
          82.05128078460693,
          217.3825957775116,
          697.3835277822283,
          117.990616440773,
          1406.460810157988,
          1323.4075825554985,
          1375.1542900138431,
          1820.3378371851784,
          null,
          2160.815570831299,
          null,
          null,
          6.134797668457031,
          3.5315202951431277,
          16.39885017871857,
          4.008041453361511,
          27.652449941635133,
          59.95728919506073,
          145.5517653942108,
          249.28466796875,
          1097.385549879074,
          230.45011415481568,
          1792.0449963145786,
          3224.772380709648,
          1923.7526379823685,
          1649.7638226032257,
          null,
          2020.004966199398,
          null,
          null
         ]
        },
        {
         "name": "gurobi_multi_flow.min_flood",
         "type": "scatter",
         "x": [
          100,
          100,
          100,
          100,
          100,
          100,
          300,
          300,
          300,
          300,
          300,
          300,
          500,
          500,
          500,
          500,
          500,
          500,
          100,
          100,
          100,
          100,
          100,
          100,
          300,
          300,
          300,
          300,
          300,
          300,
          500,
          500,
          500,
          500,
          500,
          500
         ],
         "y": [
          1.1783050060272218,
          1.354506492614746,
          7.948791599273681,
          0.9616146087646484,
          10.713627290725707,
          27.29736771583557,
          57.64426412582397,
          113.78042941093445,
          451.89403595924375,
          76.69959301948548,
          948.4787609815596,
          1034.0424006581306,
          838.9027585983276,
          873.5835888624191,
          2559.92649974823,
          666.2112515767416,
          null,
          null,
          3.65834481716156,
          2.0841343879699705,
          13.349778032302856,
          2.6918155193328857,
          22.867129540443425,
          47.90845656394959,
          115.40887660980223,
          124.55292129516602,
          600.8620838403701,
          126.9050591945648,
          1287.9406028323704,
          2292.821607691901,
          1595.769820511341,
          1537.4433614313602,
          3305.0680725574493,
          1551.6832907795906,
          null,
          null
         ]
        },
        {
         "name": "gurobi_single_flow",
         "type": "scatter",
         "x": [
          100,
          100,
          100,
          100,
          100,
          100,
          300,
          300,
          300,
          300,
          300,
          300,
          500,
          500,
          500,
          500,
          500,
          500,
          100,
          100,
          100,
          100,
          100,
          100,
          300,
          300,
          300,
          300,
          300,
          300,
          500,
          500,
          500,
          500,
          500,
          500
         ],
         "y": [
          4.779088878631592,
          3.166109395027161,
          5.998707842826843,
          3.206985521316528,
          5.431742215156556,
          6.708827638626099,
          359.7274964570999,
          449.6227999925613,
          449.2126852750778,
          367.6204551696777,
          341.3264621734619,
          318.4520063638687,
          1956.3553317387896,
          972.5828251838684,
          2285.351790189743,
          424.1477852662404,
          null,
          3425.068447828293,
          9.440333986282347,
          6.5478040933609005,
          8.712462568283081,
          6.275637221336365,
          10.071486759185792,
          9.544803547859193,
          546.8780389308929,
          333.4901319265365,
          654.9288609027863,
          183.0090150356293,
          804.4336251735688,
          757.1116209745408,
          1486.9496200084686,
          887.3881729841232,
          3311.787110090256,
          1287.5933836301167,
          null,
          1776.4059109687803
         ]
        },
        {
         "name": "gurobi_single_flow.dinic",
         "type": "scatter",
         "x": [
          100,
          100,
          100,
          100,
          100,
          100,
          300,
          300,
          300,
          300,
          300,
          300,
          500,
          500,
          500,
          500,
          500,
          500,
          100,
          100,
          100,
          100,
          100,
          100,
          300,
          300,
          300,
          300,
          300,
          300,
          500,
          500,
          500,
          500,
          500,
          500
         ],
         "y": [
          0.9415801286697388,
          1.1336727142333984,
          1.252578902244568,
          0.8240440845489502,
          1.7422795057296754,
          1.5553082942962646,
          56.76578788757324,
          82.37619116306306,
          81.76466610431672,
          48.64776451587677,
          72.28736107349395,
          49.60091338157654,
          648.7014718294143,
          644.7554015874863,
          753.1547350168228,
          785.2167990888868,
          973.4191014289856,
          731.9982315540313,
          3.401996684074402,
          1.8478780031204225,
          2.594360518455505,
          2.1372422218322757,
          3.132133626937866,
          2.848820161819458,
          79.12244958877564,
          94.47468767166136,
          100.15268268585206,
          91.8462123632431,
          120.41482362747192,
          129.57919118404388,
          830.9697888238089,
          1258.7221374988555,
          1601.7175508737564,
          1199.1162838670944,
          1805.8882222652437,
          1647.9562527868484
         ]
        },
        {
         "name": "gurobi_single_flow.max_flood",
         "type": "scatter",
         "x": [
          100,
          100,
          100,
          100,
          100,
          100,
          300,
          300,
          300,
          300,
          300,
          300,
          500,
          500,
          500,
          500,
          500,
          500,
          100,
          100,
          100,
          100,
          100,
          100,
          300,
          300,
          300,
          300,
          300,
          300,
          500,
          500,
          500,
          500,
          500,
          500
         ],
         "y": [
          1.8999267578125,
          2.093434548377991,
          2.687999415397644,
          1.4040499448776245,
          2.533316397666931,
          3.2854988098144533,
          141.53230016231538,
          218.8016907930374,
          146.79104096889495,
          121.62925925254822,
          161.5608892440796,
          148.65069437026978,
          1474.6518496142494,
          1845.9939936995504,
          1860.962747120857,
          1682.6581200361252,
          2593.796325594187,
          1876.8717323064805,
          6.421218895912171,
          3.357216167449951,
          4.997292470932007,
          3.5736163377761843,
          5.660499787330627,
          5.270852780342102,
          182.5433577299118,
          238.39308469295503,
          203.65822196006772,
          174.8343764066696,
          288.5468010902405,
          277.53768553733823,
          877.5034962495168,
          2353.9928081830344,
          2105.6427549918494,
          1438.7900927066803,
          2720.5509755015373,
          2326.649430155754
         ]
        },
        {
         "name": "gurobi_single_flow.min_flood",
         "type": "scatter",
         "x": [
          100,
          100,
          100,
          100,
          100,
          100,
          300,
          300,
          300,
          300,
          300,
          300,
          500,
          500,
          500,
          500,
          500,
          500,
          100,
          100,
          100,
          100,
          100,
          100,
          300,
          300,
          300,
          300,
          300,
          300,
          500,
          500,
          500,
          500,
          500,
          500
         ],
         "y": [
          1.25675630569458,
          1.2999536037445067,
          1.8604061365127564,
          0.9189724683761596,
          1.890441918373108,
          2.288214921951294,
          67.81997411251068,
          102.1309327840805,
          101.15141389369964,
          55.20868027210236,
          104.28927969932556,
          74.58978853225707,
          715.781148314476,
          969.9861005306244,
          903.9492961883544,
          1345.724556718554,
          1293.4418346616958,
          1094.5825647115707,
          3.712325263023376,
          2.104100966453552,
          3.5086307764053344,
          2.587150049209595,
          4.479019331932068,
          4.27211298942566,
          81.98404259681702,
          129.8576250076294,
          124.05984754562378,
          143.35288984775542,
          171.12190268039703,
          171.21031620502472,
          1082.1019788265228,
          1921.3574744224547,
          1557.7154607091632,
          1717.981523513794,
          2422.629846387439,
          2096.2397171258926
         ]
        },
        {
         "name": "gurobi_y_binary_multi_flow",
         "type": "scatter",
         "x": [
          100,
          100,
          100,
          100,
          100,
          100,
          300,
          300,
          300,
          300,
          300,
          300,
          500,
          500,
          500,
          500,
          500,
          500,
          100,
          100,
          100,
          100,
          100,
          100,
          300,
          300,
          300,
          300,
          300,
          300,
          500,
          500,
          500,
          500,
          500,
          500
         ],
         "y": [
          11.692959260940553,
          7.778427767753601,
          102.08259406089785,
          4.86180100440979,
          75.84595968723298,
          305.7403548717499,
          1807.375019407272,
          1435.264171218872,
          1900.5050231218336,
          775.6140955924988,
          3175.319342494011,
          2632.934789180756,
          177.24141192436218,
          null,
          null,
          null,
          null,
          null,
          45.98919985294342,
          93.40265064239502,
          301.8571917295456,
          17.99517664909363,
          233.3276208162308,
          1059.1586359262467,
          2346.7463850180307,
          1372.070409332003,
          null,
          1605.2233092784882,
          null,
          null,
          null,
          null,
          null,
          null,
          null,
          null
         ]
        },
        {
         "name": "gurobi_y_binary_single_flow",
         "type": "scatter",
         "x": [
          100,
          100,
          100,
          100,
          100,
          100,
          300,
          300,
          300,
          300,
          300,
          300,
          500,
          500,
          500,
          500,
          500,
          500,
          100,
          100,
          100,
          100,
          100,
          100,
          300,
          300,
          300,
          300,
          300,
          300,
          500,
          500,
          500,
          500,
          500,
          500
         ],
         "y": [
          11.799262523651125,
          7.267240977287292,
          14.164676332473755,
          4.065822386741639,
          13.47618489265442,
          17.34592456817627,
          1859.3533409833908,
          1342.116393963496,
          1677.2519664049148,
          824.3385233879089,
          1364.3352473576865,
          679.4760138988495,
          176.52013397216797,
          null,
          null,
          1387.8558530807495,
          null,
          null,
          49.58883845806122,
          23.256470584869383,
          41.67567684650421,
          14.674041533470154,
          34.63271253108978,
          38.31807775497437,
          1948.6035913944245,
          1296.5650992734093,
          1188.141257572174,
          1215.311696427209,
          1943.324004530907,
          2247.9716488520303,
          null,
          null,
          null,
          null,
          null,
          null
         ]
        }
       ],
       "layout": {
        "template": {
         "data": {
          "bar": [
           {
            "error_x": {
             "color": "#2a3f5f"
            },
            "error_y": {
             "color": "#2a3f5f"
            },
            "marker": {
             "line": {
              "color": "#E5ECF6",
              "width": 0.5
             },
             "pattern": {
              "fillmode": "overlay",
              "size": 10,
              "solidity": 0.2
             }
            },
            "type": "bar"
           }
          ],
          "barpolar": [
           {
            "marker": {
             "line": {
              "color": "#E5ECF6",
              "width": 0.5
             },
             "pattern": {
              "fillmode": "overlay",
              "size": 10,
              "solidity": 0.2
             }
            },
            "type": "barpolar"
           }
          ],
          "carpet": [
           {
            "aaxis": {
             "endlinecolor": "#2a3f5f",
             "gridcolor": "white",
             "linecolor": "white",
             "minorgridcolor": "white",
             "startlinecolor": "#2a3f5f"
            },
            "baxis": {
             "endlinecolor": "#2a3f5f",
             "gridcolor": "white",
             "linecolor": "white",
             "minorgridcolor": "white",
             "startlinecolor": "#2a3f5f"
            },
            "type": "carpet"
           }
          ],
          "choropleth": [
           {
            "colorbar": {
             "outlinewidth": 0,
             "ticks": ""
            },
            "type": "choropleth"
           }
          ],
          "contour": [
           {
            "colorbar": {
             "outlinewidth": 0,
             "ticks": ""
            },
            "colorscale": [
             [
              0,
              "#0d0887"
             ],
             [
              0.1111111111111111,
              "#46039f"
             ],
             [
              0.2222222222222222,
              "#7201a8"
             ],
             [
              0.3333333333333333,
              "#9c179e"
             ],
             [
              0.4444444444444444,
              "#bd3786"
             ],
             [
              0.5555555555555556,
              "#d8576b"
             ],
             [
              0.6666666666666666,
              "#ed7953"
             ],
             [
              0.7777777777777778,
              "#fb9f3a"
             ],
             [
              0.8888888888888888,
              "#fdca26"
             ],
             [
              1,
              "#f0f921"
             ]
            ],
            "type": "contour"
           }
          ],
          "contourcarpet": [
           {
            "colorbar": {
             "outlinewidth": 0,
             "ticks": ""
            },
            "type": "contourcarpet"
           }
          ],
          "heatmap": [
           {
            "colorbar": {
             "outlinewidth": 0,
             "ticks": ""
            },
            "colorscale": [
             [
              0,
              "#0d0887"
             ],
             [
              0.1111111111111111,
              "#46039f"
             ],
             [
              0.2222222222222222,
              "#7201a8"
             ],
             [
              0.3333333333333333,
              "#9c179e"
             ],
             [
              0.4444444444444444,
              "#bd3786"
             ],
             [
              0.5555555555555556,
              "#d8576b"
             ],
             [
              0.6666666666666666,
              "#ed7953"
             ],
             [
              0.7777777777777778,
              "#fb9f3a"
             ],
             [
              0.8888888888888888,
              "#fdca26"
             ],
             [
              1,
              "#f0f921"
             ]
            ],
            "type": "heatmap"
           }
          ],
          "heatmapgl": [
           {
            "colorbar": {
             "outlinewidth": 0,
             "ticks": ""
            },
            "colorscale": [
             [
              0,
              "#0d0887"
             ],
             [
              0.1111111111111111,
              "#46039f"
             ],
             [
              0.2222222222222222,
              "#7201a8"
             ],
             [
              0.3333333333333333,
              "#9c179e"
             ],
             [
              0.4444444444444444,
              "#bd3786"
             ],
             [
              0.5555555555555556,
              "#d8576b"
             ],
             [
              0.6666666666666666,
              "#ed7953"
             ],
             [
              0.7777777777777778,
              "#fb9f3a"
             ],
             [
              0.8888888888888888,
              "#fdca26"
             ],
             [
              1,
              "#f0f921"
             ]
            ],
            "type": "heatmapgl"
           }
          ],
          "histogram": [
           {
            "marker": {
             "pattern": {
              "fillmode": "overlay",
              "size": 10,
              "solidity": 0.2
             }
            },
            "type": "histogram"
           }
          ],
          "histogram2d": [
           {
            "colorbar": {
             "outlinewidth": 0,
             "ticks": ""
            },
            "colorscale": [
             [
              0,
              "#0d0887"
             ],
             [
              0.1111111111111111,
              "#46039f"
             ],
             [
              0.2222222222222222,
              "#7201a8"
             ],
             [
              0.3333333333333333,
              "#9c179e"
             ],
             [
              0.4444444444444444,
              "#bd3786"
             ],
             [
              0.5555555555555556,
              "#d8576b"
             ],
             [
              0.6666666666666666,
              "#ed7953"
             ],
             [
              0.7777777777777778,
              "#fb9f3a"
             ],
             [
              0.8888888888888888,
              "#fdca26"
             ],
             [
              1,
              "#f0f921"
             ]
            ],
            "type": "histogram2d"
           }
          ],
          "histogram2dcontour": [
           {
            "colorbar": {
             "outlinewidth": 0,
             "ticks": ""
            },
            "colorscale": [
             [
              0,
              "#0d0887"
             ],
             [
              0.1111111111111111,
              "#46039f"
             ],
             [
              0.2222222222222222,
              "#7201a8"
             ],
             [
              0.3333333333333333,
              "#9c179e"
             ],
             [
              0.4444444444444444,
              "#bd3786"
             ],
             [
              0.5555555555555556,
              "#d8576b"
             ],
             [
              0.6666666666666666,
              "#ed7953"
             ],
             [
              0.7777777777777778,
              "#fb9f3a"
             ],
             [
              0.8888888888888888,
              "#fdca26"
             ],
             [
              1,
              "#f0f921"
             ]
            ],
            "type": "histogram2dcontour"
           }
          ],
          "mesh3d": [
           {
            "colorbar": {
             "outlinewidth": 0,
             "ticks": ""
            },
            "type": "mesh3d"
           }
          ],
          "parcoords": [
           {
            "line": {
             "colorbar": {
              "outlinewidth": 0,
              "ticks": ""
             }
            },
            "type": "parcoords"
           }
          ],
          "pie": [
           {
            "automargin": true,
            "type": "pie"
           }
          ],
          "scatter": [
           {
            "fillpattern": {
             "fillmode": "overlay",
             "size": 10,
             "solidity": 0.2
            },
            "type": "scatter"
           }
          ],
          "scatter3d": [
           {
            "line": {
             "colorbar": {
              "outlinewidth": 0,
              "ticks": ""
             }
            },
            "marker": {
             "colorbar": {
              "outlinewidth": 0,
              "ticks": ""
             }
            },
            "type": "scatter3d"
           }
          ],
          "scattercarpet": [
           {
            "marker": {
             "colorbar": {
              "outlinewidth": 0,
              "ticks": ""
             }
            },
            "type": "scattercarpet"
           }
          ],
          "scattergeo": [
           {
            "marker": {
             "colorbar": {
              "outlinewidth": 0,
              "ticks": ""
             }
            },
            "type": "scattergeo"
           }
          ],
          "scattergl": [
           {
            "marker": {
             "colorbar": {
              "outlinewidth": 0,
              "ticks": ""
             }
            },
            "type": "scattergl"
           }
          ],
          "scattermapbox": [
           {
            "marker": {
             "colorbar": {
              "outlinewidth": 0,
              "ticks": ""
             }
            },
            "type": "scattermapbox"
           }
          ],
          "scatterpolar": [
           {
            "marker": {
             "colorbar": {
              "outlinewidth": 0,
              "ticks": ""
             }
            },
            "type": "scatterpolar"
           }
          ],
          "scatterpolargl": [
           {
            "marker": {
             "colorbar": {
              "outlinewidth": 0,
              "ticks": ""
             }
            },
            "type": "scatterpolargl"
           }
          ],
          "scatterternary": [
           {
            "marker": {
             "colorbar": {
              "outlinewidth": 0,
              "ticks": ""
             }
            },
            "type": "scatterternary"
           }
          ],
          "surface": [
           {
            "colorbar": {
             "outlinewidth": 0,
             "ticks": ""
            },
            "colorscale": [
             [
              0,
              "#0d0887"
             ],
             [
              0.1111111111111111,
              "#46039f"
             ],
             [
              0.2222222222222222,
              "#7201a8"
             ],
             [
              0.3333333333333333,
              "#9c179e"
             ],
             [
              0.4444444444444444,
              "#bd3786"
             ],
             [
              0.5555555555555556,
              "#d8576b"
             ],
             [
              0.6666666666666666,
              "#ed7953"
             ],
             [
              0.7777777777777778,
              "#fb9f3a"
             ],
             [
              0.8888888888888888,
              "#fdca26"
             ],
             [
              1,
              "#f0f921"
             ]
            ],
            "type": "surface"
           }
          ],
          "table": [
           {
            "cells": {
             "fill": {
              "color": "#EBF0F8"
             },
             "line": {
              "color": "white"
             }
            },
            "header": {
             "fill": {
              "color": "#C8D4E3"
             },
             "line": {
              "color": "white"
             }
            },
            "type": "table"
           }
          ]
         },
         "layout": {
          "annotationdefaults": {
           "arrowcolor": "#2a3f5f",
           "arrowhead": 0,
           "arrowwidth": 1
          },
          "autotypenumbers": "strict",
          "coloraxis": {
           "colorbar": {
            "outlinewidth": 0,
            "ticks": ""
           }
          },
          "colorscale": {
           "diverging": [
            [
             0,
             "#8e0152"
            ],
            [
             0.1,
             "#c51b7d"
            ],
            [
             0.2,
             "#de77ae"
            ],
            [
             0.3,
             "#f1b6da"
            ],
            [
             0.4,
             "#fde0ef"
            ],
            [
             0.5,
             "#f7f7f7"
            ],
            [
             0.6,
             "#e6f5d0"
            ],
            [
             0.7,
             "#b8e186"
            ],
            [
             0.8,
             "#7fbc41"
            ],
            [
             0.9,
             "#4d9221"
            ],
            [
             1,
             "#276419"
            ]
           ],
           "sequential": [
            [
             0,
             "#0d0887"
            ],
            [
             0.1111111111111111,
             "#46039f"
            ],
            [
             0.2222222222222222,
             "#7201a8"
            ],
            [
             0.3333333333333333,
             "#9c179e"
            ],
            [
             0.4444444444444444,
             "#bd3786"
            ],
            [
             0.5555555555555556,
             "#d8576b"
            ],
            [
             0.6666666666666666,
             "#ed7953"
            ],
            [
             0.7777777777777778,
             "#fb9f3a"
            ],
            [
             0.8888888888888888,
             "#fdca26"
            ],
            [
             1,
             "#f0f921"
            ]
           ],
           "sequentialminus": [
            [
             0,
             "#0d0887"
            ],
            [
             0.1111111111111111,
             "#46039f"
            ],
            [
             0.2222222222222222,
             "#7201a8"
            ],
            [
             0.3333333333333333,
             "#9c179e"
            ],
            [
             0.4444444444444444,
             "#bd3786"
            ],
            [
             0.5555555555555556,
             "#d8576b"
            ],
            [
             0.6666666666666666,
             "#ed7953"
            ],
            [
             0.7777777777777778,
             "#fb9f3a"
            ],
            [
             0.8888888888888888,
             "#fdca26"
            ],
            [
             1,
             "#f0f921"
            ]
           ]
          },
          "colorway": [
           "#636efa",
           "#EF553B",
           "#00cc96",
           "#ab63fa",
           "#FFA15A",
           "#19d3f3",
           "#FF6692",
           "#B6E880",
           "#FF97FF",
           "#FECB52"
          ],
          "font": {
           "color": "#2a3f5f"
          },
          "geo": {
           "bgcolor": "white",
           "lakecolor": "white",
           "landcolor": "#E5ECF6",
           "showlakes": true,
           "showland": true,
           "subunitcolor": "white"
          },
          "hoverlabel": {
           "align": "left"
          },
          "hovermode": "closest",
          "mapbox": {
           "style": "light"
          },
          "paper_bgcolor": "white",
          "plot_bgcolor": "#E5ECF6",
          "polar": {
           "angularaxis": {
            "gridcolor": "white",
            "linecolor": "white",
            "ticks": ""
           },
           "bgcolor": "#E5ECF6",
           "radialaxis": {
            "gridcolor": "white",
            "linecolor": "white",
            "ticks": ""
           }
          },
          "scene": {
           "xaxis": {
            "backgroundcolor": "#E5ECF6",
            "gridcolor": "white",
            "gridwidth": 2,
            "linecolor": "white",
            "showbackground": true,
            "ticks": "",
            "zerolinecolor": "white"
           },
           "yaxis": {
            "backgroundcolor": "#E5ECF6",
            "gridcolor": "white",
            "gridwidth": 2,
            "linecolor": "white",
            "showbackground": true,
            "ticks": "",
            "zerolinecolor": "white"
           },
           "zaxis": {
            "backgroundcolor": "#E5ECF6",
            "gridcolor": "white",
            "gridwidth": 2,
            "linecolor": "white",
            "showbackground": true,
            "ticks": "",
            "zerolinecolor": "white"
           }
          },
          "shapedefaults": {
           "line": {
            "color": "#2a3f5f"
           }
          },
          "ternary": {
           "aaxis": {
            "gridcolor": "white",
            "linecolor": "white",
            "ticks": ""
           },
           "baxis": {
            "gridcolor": "white",
            "linecolor": "white",
            "ticks": ""
           },
           "bgcolor": "#E5ECF6",
           "caxis": {
            "gridcolor": "white",
            "linecolor": "white",
            "ticks": ""
           }
          },
          "title": {
           "x": 0.05
          },
          "xaxis": {
           "automargin": true,
           "gridcolor": "white",
           "linecolor": "white",
           "ticks": "",
           "title": {
            "standoff": 15
           },
           "zerolinecolor": "white",
           "zerolinewidth": 2
          },
          "yaxis": {
           "automargin": true,
           "gridcolor": "white",
           "linecolor": "white",
           "ticks": "",
           "title": {
            "standoff": 15
           },
           "zerolinecolor": "white",
           "zerolinewidth": 2
          }
         }
        }
       }
      },
      "text/html": [
       "<div>                            <div id=\"88374d6d-6b92-496d-aeea-8909fc5033c4\" class=\"plotly-graph-div\" style=\"height:525px; width:100%;\"></div>            <script type=\"text/javascript\">                require([\"plotly\"], function(Plotly) {                    window.PLOTLYENV=window.PLOTLYENV || {};                                    if (document.getElementById(\"88374d6d-6b92-496d-aeea-8909fc5033c4\")) {                    Plotly.newPlot(                        \"88374d6d-6b92-496d-aeea-8909fc5033c4\",                        [{\"name\":\"gurobi_multi_flow\",\"x\":[100,100,100,100,100,100,300,300,300,300,300,300,500,500,500,500,500,500,100,100,100,100,100,100,300,300,300,300,300,300,500,500,500,500,500,500],\"y\":[4.695259380340576,3.4982601165771485,24.2800430059433,3.3036349773406983,27.38611142635345,64.00101318359376,274.607262802124,632.4992215156556,2181.5251220226287,341.8546901226044,2711.9597900594986,2051.5815839767456,1477.3343539237976,1743.0253049135208,null,569.2087634801865,null,null,9.888533449172972,81.77967321872711,25.561787176132203,6.761332654953003,47.867442917823794,159.8067451238632,461.52055552005766,413.9706585407257,1223.6832828521729,604.0907405138016,2480.793935060501,3581.453766822815,1612.1056880950928,743.288341999054,null,986.1412814855576,null,null],\"type\":\"scatter\"},{\"name\":\"gurobi_multi_flow.dinic\",\"x\":[100,100,100,100,100,100,300,300,300,300,300,300,500,500,500,500,500,500,100,100,100,100,100,100,300,300,300,300,300,300,500,500,500,500,500,500],\"y\":[0.979185914993286,1.1255067348480223,5.933051490783692,0.7958209037780761,7.184721946716309,20.00567388534546,54.398054814338686,86.44076018333435,469.1211822509766,46.69544339179993,648.5961483001709,971.4762411382465,648.3821205615998,676.255090212822,2496.5966140202117,1195.2964333891869,1850.310276031494,null,2.9915313482284547,1.756734204292297,8.787892055511474,2.146406817436218,15.238521313667295,37.05128099918365,84.1140197277069,93.66160483360292,454.19923067092896,98.42974429130554,1024.9538928985596,2216.151418089866,1030.5667750597,1285.994432592392,3360.98112988472,1234.828389512168,null,null],\"type\":\"scatter\"},{\"name\":\"gurobi_multi_flow.max_flood\",\"x\":[100,100,100,100,100,100,300,300,300,300,300,300,500,500,500,500,500,500,100,100,100,100,100,100,300,300,300,300,300,300,500,500,500,500,500,500],\"y\":[1.9871696710586548,2.138152289390564,12.029416179656982,1.5192683458328249,16.422341561317445,35.74274590015411,82.05128078460693,217.3825957775116,697.3835277822283,117.990616440773,1406.460810157988,1323.4075825554985,1375.1542900138431,1820.3378371851784,null,2160.815570831299,null,null,6.134797668457031,3.5315202951431277,16.39885017871857,4.008041453361511,27.652449941635133,59.95728919506073,145.5517653942108,249.28466796875,1097.385549879074,230.45011415481568,1792.0449963145786,3224.772380709648,1923.7526379823685,1649.7638226032257,null,2020.004966199398,null,null],\"type\":\"scatter\"},{\"name\":\"gurobi_multi_flow.min_flood\",\"x\":[100,100,100,100,100,100,300,300,300,300,300,300,500,500,500,500,500,500,100,100,100,100,100,100,300,300,300,300,300,300,500,500,500,500,500,500],\"y\":[1.1783050060272218,1.354506492614746,7.948791599273681,0.9616146087646484,10.713627290725707,27.29736771583557,57.64426412582397,113.78042941093445,451.89403595924375,76.69959301948548,948.4787609815596,1034.0424006581306,838.9027585983276,873.5835888624191,2559.92649974823,666.2112515767416,null,null,3.65834481716156,2.0841343879699705,13.349778032302856,2.6918155193328857,22.867129540443425,47.90845656394959,115.40887660980223,124.55292129516602,600.8620838403701,126.9050591945648,1287.9406028323704,2292.821607691901,1595.769820511341,1537.4433614313602,3305.0680725574493,1551.6832907795906,null,null],\"type\":\"scatter\"},{\"name\":\"gurobi_single_flow\",\"x\":[100,100,100,100,100,100,300,300,300,300,300,300,500,500,500,500,500,500,100,100,100,100,100,100,300,300,300,300,300,300,500,500,500,500,500,500],\"y\":[4.779088878631592,3.166109395027161,5.998707842826843,3.206985521316528,5.431742215156556,6.708827638626099,359.7274964570999,449.6227999925613,449.2126852750778,367.6204551696777,341.3264621734619,318.4520063638687,1956.3553317387896,972.5828251838684,2285.351790189743,424.1477852662404,null,3425.068447828293,9.440333986282347,6.5478040933609005,8.712462568283081,6.275637221336365,10.071486759185792,9.544803547859193,546.8780389308929,333.4901319265365,654.9288609027863,183.0090150356293,804.4336251735688,757.1116209745408,1486.9496200084686,887.3881729841232,3311.787110090256,1287.5933836301167,null,1776.4059109687803],\"type\":\"scatter\"},{\"name\":\"gurobi_single_flow.dinic\",\"x\":[100,100,100,100,100,100,300,300,300,300,300,300,500,500,500,500,500,500,100,100,100,100,100,100,300,300,300,300,300,300,500,500,500,500,500,500],\"y\":[0.9415801286697388,1.1336727142333984,1.252578902244568,0.8240440845489502,1.7422795057296754,1.5553082942962646,56.76578788757324,82.37619116306306,81.76466610431672,48.64776451587677,72.28736107349395,49.60091338157654,648.7014718294143,644.7554015874863,753.1547350168228,785.2167990888868,973.4191014289856,731.9982315540313,3.401996684074402,1.8478780031204225,2.594360518455505,2.1372422218322757,3.132133626937866,2.848820161819458,79.12244958877564,94.47468767166136,100.15268268585206,91.8462123632431,120.41482362747192,129.57919118404388,830.9697888238089,1258.7221374988555,1601.7175508737564,1199.1162838670944,1805.8882222652437,1647.9562527868484],\"type\":\"scatter\"},{\"name\":\"gurobi_single_flow.max_flood\",\"x\":[100,100,100,100,100,100,300,300,300,300,300,300,500,500,500,500,500,500,100,100,100,100,100,100,300,300,300,300,300,300,500,500,500,500,500,500],\"y\":[1.8999267578125,2.093434548377991,2.687999415397644,1.4040499448776245,2.533316397666931,3.2854988098144533,141.53230016231538,218.8016907930374,146.79104096889495,121.62925925254822,161.5608892440796,148.65069437026978,1474.6518496142494,1845.9939936995504,1860.962747120857,1682.6581200361252,2593.796325594187,1876.8717323064805,6.421218895912171,3.357216167449951,4.997292470932007,3.5736163377761843,5.660499787330627,5.270852780342102,182.5433577299118,238.39308469295503,203.65822196006772,174.8343764066696,288.5468010902405,277.53768553733823,877.5034962495168,2353.9928081830344,2105.6427549918494,1438.7900927066803,2720.5509755015373,2326.649430155754],\"type\":\"scatter\"},{\"name\":\"gurobi_single_flow.min_flood\",\"x\":[100,100,100,100,100,100,300,300,300,300,300,300,500,500,500,500,500,500,100,100,100,100,100,100,300,300,300,300,300,300,500,500,500,500,500,500],\"y\":[1.25675630569458,1.2999536037445067,1.8604061365127564,0.9189724683761596,1.890441918373108,2.288214921951294,67.81997411251068,102.1309327840805,101.15141389369964,55.20868027210236,104.28927969932556,74.58978853225707,715.781148314476,969.9861005306244,903.9492961883544,1345.724556718554,1293.4418346616958,1094.5825647115707,3.712325263023376,2.104100966453552,3.5086307764053344,2.587150049209595,4.479019331932068,4.27211298942566,81.98404259681702,129.8576250076294,124.05984754562378,143.35288984775542,171.12190268039703,171.21031620502472,1082.1019788265228,1921.3574744224547,1557.7154607091632,1717.981523513794,2422.629846387439,2096.2397171258926],\"type\":\"scatter\"},{\"name\":\"gurobi_y_binary_multi_flow\",\"x\":[100,100,100,100,100,100,300,300,300,300,300,300,500,500,500,500,500,500,100,100,100,100,100,100,300,300,300,300,300,300,500,500,500,500,500,500],\"y\":[11.692959260940553,7.778427767753601,102.08259406089785,4.86180100440979,75.84595968723298,305.7403548717499,1807.375019407272,1435.264171218872,1900.5050231218336,775.6140955924988,3175.319342494011,2632.934789180756,177.24141192436218,null,null,null,null,null,45.98919985294342,93.40265064239502,301.8571917295456,17.99517664909363,233.3276208162308,1059.1586359262467,2346.7463850180307,1372.070409332003,null,1605.2233092784882,null,null,null,null,null,null,null,null],\"type\":\"scatter\"},{\"name\":\"gurobi_y_binary_single_flow\",\"x\":[100,100,100,100,100,100,300,300,300,300,300,300,500,500,500,500,500,500,100,100,100,100,100,100,300,300,300,300,300,300,500,500,500,500,500,500],\"y\":[11.799262523651125,7.267240977287292,14.164676332473755,4.065822386741639,13.47618489265442,17.34592456817627,1859.3533409833908,1342.116393963496,1677.2519664049148,824.3385233879089,1364.3352473576865,679.4760138988495,176.52013397216797,null,null,1387.8558530807495,null,null,49.58883845806122,23.256470584869383,41.67567684650421,14.674041533470154,34.63271253108978,38.31807775497437,1948.6035913944245,1296.5650992734093,1188.141257572174,1215.311696427209,1943.324004530907,2247.9716488520303,null,null,null,null,null,null],\"type\":\"scatter\"}],                        {\"template\":{\"data\":{\"histogram2dcontour\":[{\"type\":\"histogram2dcontour\",\"colorbar\":{\"outlinewidth\":0,\"ticks\":\"\"},\"colorscale\":[[0.0,\"#0d0887\"],[0.1111111111111111,\"#46039f\"],[0.2222222222222222,\"#7201a8\"],[0.3333333333333333,\"#9c179e\"],[0.4444444444444444,\"#bd3786\"],[0.5555555555555556,\"#d8576b\"],[0.6666666666666666,\"#ed7953\"],[0.7777777777777778,\"#fb9f3a\"],[0.8888888888888888,\"#fdca26\"],[1.0,\"#f0f921\"]]}],\"choropleth\":[{\"type\":\"choropleth\",\"colorbar\":{\"outlinewidth\":0,\"ticks\":\"\"}}],\"histogram2d\":[{\"type\":\"histogram2d\",\"colorbar\":{\"outlinewidth\":0,\"ticks\":\"\"},\"colorscale\":[[0.0,\"#0d0887\"],[0.1111111111111111,\"#46039f\"],[0.2222222222222222,\"#7201a8\"],[0.3333333333333333,\"#9c179e\"],[0.4444444444444444,\"#bd3786\"],[0.5555555555555556,\"#d8576b\"],[0.6666666666666666,\"#ed7953\"],[0.7777777777777778,\"#fb9f3a\"],[0.8888888888888888,\"#fdca26\"],[1.0,\"#f0f921\"]]}],\"heatmap\":[{\"type\":\"heatmap\",\"colorbar\":{\"outlinewidth\":0,\"ticks\":\"\"},\"colorscale\":[[0.0,\"#0d0887\"],[0.1111111111111111,\"#46039f\"],[0.2222222222222222,\"#7201a8\"],[0.3333333333333333,\"#9c179e\"],[0.4444444444444444,\"#bd3786\"],[0.5555555555555556,\"#d8576b\"],[0.6666666666666666,\"#ed7953\"],[0.7777777777777778,\"#fb9f3a\"],[0.8888888888888888,\"#fdca26\"],[1.0,\"#f0f921\"]]}],\"heatmapgl\":[{\"type\":\"heatmapgl\",\"colorbar\":{\"outlinewidth\":0,\"ticks\":\"\"},\"colorscale\":[[0.0,\"#0d0887\"],[0.1111111111111111,\"#46039f\"],[0.2222222222222222,\"#7201a8\"],[0.3333333333333333,\"#9c179e\"],[0.4444444444444444,\"#bd3786\"],[0.5555555555555556,\"#d8576b\"],[0.6666666666666666,\"#ed7953\"],[0.7777777777777778,\"#fb9f3a\"],[0.8888888888888888,\"#fdca26\"],[1.0,\"#f0f921\"]]}],\"contourcarpet\":[{\"type\":\"contourcarpet\",\"colorbar\":{\"outlinewidth\":0,\"ticks\":\"\"}}],\"contour\":[{\"type\":\"contour\",\"colorbar\":{\"outlinewidth\":0,\"ticks\":\"\"},\"colorscale\":[[0.0,\"#0d0887\"],[0.1111111111111111,\"#46039f\"],[0.2222222222222222,\"#7201a8\"],[0.3333333333333333,\"#9c179e\"],[0.4444444444444444,\"#bd3786\"],[0.5555555555555556,\"#d8576b\"],[0.6666666666666666,\"#ed7953\"],[0.7777777777777778,\"#fb9f3a\"],[0.8888888888888888,\"#fdca26\"],[1.0,\"#f0f921\"]]}],\"surface\":[{\"type\":\"surface\",\"colorbar\":{\"outlinewidth\":0,\"ticks\":\"\"},\"colorscale\":[[0.0,\"#0d0887\"],[0.1111111111111111,\"#46039f\"],[0.2222222222222222,\"#7201a8\"],[0.3333333333333333,\"#9c179e\"],[0.4444444444444444,\"#bd3786\"],[0.5555555555555556,\"#d8576b\"],[0.6666666666666666,\"#ed7953\"],[0.7777777777777778,\"#fb9f3a\"],[0.8888888888888888,\"#fdca26\"],[1.0,\"#f0f921\"]]}],\"mesh3d\":[{\"type\":\"mesh3d\",\"colorbar\":{\"outlinewidth\":0,\"ticks\":\"\"}}],\"scatter\":[{\"fillpattern\":{\"fillmode\":\"overlay\",\"size\":10,\"solidity\":0.2},\"type\":\"scatter\"}],\"parcoords\":[{\"type\":\"parcoords\",\"line\":{\"colorbar\":{\"outlinewidth\":0,\"ticks\":\"\"}}}],\"scatterpolargl\":[{\"type\":\"scatterpolargl\",\"marker\":{\"colorbar\":{\"outlinewidth\":0,\"ticks\":\"\"}}}],\"bar\":[{\"error_x\":{\"color\":\"#2a3f5f\"},\"error_y\":{\"color\":\"#2a3f5f\"},\"marker\":{\"line\":{\"color\":\"#E5ECF6\",\"width\":0.5},\"pattern\":{\"fillmode\":\"overlay\",\"size\":10,\"solidity\":0.2}},\"type\":\"bar\"}],\"scattergeo\":[{\"type\":\"scattergeo\",\"marker\":{\"colorbar\":{\"outlinewidth\":0,\"ticks\":\"\"}}}],\"scatterpolar\":[{\"type\":\"scatterpolar\",\"marker\":{\"colorbar\":{\"outlinewidth\":0,\"ticks\":\"\"}}}],\"histogram\":[{\"marker\":{\"pattern\":{\"fillmode\":\"overlay\",\"size\":10,\"solidity\":0.2}},\"type\":\"histogram\"}],\"scattergl\":[{\"type\":\"scattergl\",\"marker\":{\"colorbar\":{\"outlinewidth\":0,\"ticks\":\"\"}}}],\"scatter3d\":[{\"type\":\"scatter3d\",\"line\":{\"colorbar\":{\"outlinewidth\":0,\"ticks\":\"\"}},\"marker\":{\"colorbar\":{\"outlinewidth\":0,\"ticks\":\"\"}}}],\"scattermapbox\":[{\"type\":\"scattermapbox\",\"marker\":{\"colorbar\":{\"outlinewidth\":0,\"ticks\":\"\"}}}],\"scatterternary\":[{\"type\":\"scatterternary\",\"marker\":{\"colorbar\":{\"outlinewidth\":0,\"ticks\":\"\"}}}],\"scattercarpet\":[{\"type\":\"scattercarpet\",\"marker\":{\"colorbar\":{\"outlinewidth\":0,\"ticks\":\"\"}}}],\"carpet\":[{\"aaxis\":{\"endlinecolor\":\"#2a3f5f\",\"gridcolor\":\"white\",\"linecolor\":\"white\",\"minorgridcolor\":\"white\",\"startlinecolor\":\"#2a3f5f\"},\"baxis\":{\"endlinecolor\":\"#2a3f5f\",\"gridcolor\":\"white\",\"linecolor\":\"white\",\"minorgridcolor\":\"white\",\"startlinecolor\":\"#2a3f5f\"},\"type\":\"carpet\"}],\"table\":[{\"cells\":{\"fill\":{\"color\":\"#EBF0F8\"},\"line\":{\"color\":\"white\"}},\"header\":{\"fill\":{\"color\":\"#C8D4E3\"},\"line\":{\"color\":\"white\"}},\"type\":\"table\"}],\"barpolar\":[{\"marker\":{\"line\":{\"color\":\"#E5ECF6\",\"width\":0.5},\"pattern\":{\"fillmode\":\"overlay\",\"size\":10,\"solidity\":0.2}},\"type\":\"barpolar\"}],\"pie\":[{\"automargin\":true,\"type\":\"pie\"}]},\"layout\":{\"autotypenumbers\":\"strict\",\"colorway\":[\"#636efa\",\"#EF553B\",\"#00cc96\",\"#ab63fa\",\"#FFA15A\",\"#19d3f3\",\"#FF6692\",\"#B6E880\",\"#FF97FF\",\"#FECB52\"],\"font\":{\"color\":\"#2a3f5f\"},\"hovermode\":\"closest\",\"hoverlabel\":{\"align\":\"left\"},\"paper_bgcolor\":\"white\",\"plot_bgcolor\":\"#E5ECF6\",\"polar\":{\"bgcolor\":\"#E5ECF6\",\"angularaxis\":{\"gridcolor\":\"white\",\"linecolor\":\"white\",\"ticks\":\"\"},\"radialaxis\":{\"gridcolor\":\"white\",\"linecolor\":\"white\",\"ticks\":\"\"}},\"ternary\":{\"bgcolor\":\"#E5ECF6\",\"aaxis\":{\"gridcolor\":\"white\",\"linecolor\":\"white\",\"ticks\":\"\"},\"baxis\":{\"gridcolor\":\"white\",\"linecolor\":\"white\",\"ticks\":\"\"},\"caxis\":{\"gridcolor\":\"white\",\"linecolor\":\"white\",\"ticks\":\"\"}},\"coloraxis\":{\"colorbar\":{\"outlinewidth\":0,\"ticks\":\"\"}},\"colorscale\":{\"sequential\":[[0.0,\"#0d0887\"],[0.1111111111111111,\"#46039f\"],[0.2222222222222222,\"#7201a8\"],[0.3333333333333333,\"#9c179e\"],[0.4444444444444444,\"#bd3786\"],[0.5555555555555556,\"#d8576b\"],[0.6666666666666666,\"#ed7953\"],[0.7777777777777778,\"#fb9f3a\"],[0.8888888888888888,\"#fdca26\"],[1.0,\"#f0f921\"]],\"sequentialminus\":[[0.0,\"#0d0887\"],[0.1111111111111111,\"#46039f\"],[0.2222222222222222,\"#7201a8\"],[0.3333333333333333,\"#9c179e\"],[0.4444444444444444,\"#bd3786\"],[0.5555555555555556,\"#d8576b\"],[0.6666666666666666,\"#ed7953\"],[0.7777777777777778,\"#fb9f3a\"],[0.8888888888888888,\"#fdca26\"],[1.0,\"#f0f921\"]],\"diverging\":[[0,\"#8e0152\"],[0.1,\"#c51b7d\"],[0.2,\"#de77ae\"],[0.3,\"#f1b6da\"],[0.4,\"#fde0ef\"],[0.5,\"#f7f7f7\"],[0.6,\"#e6f5d0\"],[0.7,\"#b8e186\"],[0.8,\"#7fbc41\"],[0.9,\"#4d9221\"],[1,\"#276419\"]]},\"xaxis\":{\"gridcolor\":\"white\",\"linecolor\":\"white\",\"ticks\":\"\",\"title\":{\"standoff\":15},\"zerolinecolor\":\"white\",\"automargin\":true,\"zerolinewidth\":2},\"yaxis\":{\"gridcolor\":\"white\",\"linecolor\":\"white\",\"ticks\":\"\",\"title\":{\"standoff\":15},\"zerolinecolor\":\"white\",\"automargin\":true,\"zerolinewidth\":2},\"scene\":{\"xaxis\":{\"backgroundcolor\":\"#E5ECF6\",\"gridcolor\":\"white\",\"linecolor\":\"white\",\"showbackground\":true,\"ticks\":\"\",\"zerolinecolor\":\"white\",\"gridwidth\":2},\"yaxis\":{\"backgroundcolor\":\"#E5ECF6\",\"gridcolor\":\"white\",\"linecolor\":\"white\",\"showbackground\":true,\"ticks\":\"\",\"zerolinecolor\":\"white\",\"gridwidth\":2},\"zaxis\":{\"backgroundcolor\":\"#E5ECF6\",\"gridcolor\":\"white\",\"linecolor\":\"white\",\"showbackground\":true,\"ticks\":\"\",\"zerolinecolor\":\"white\",\"gridwidth\":2}},\"shapedefaults\":{\"line\":{\"color\":\"#2a3f5f\"}},\"annotationdefaults\":{\"arrowcolor\":\"#2a3f5f\",\"arrowhead\":0,\"arrowwidth\":1},\"geo\":{\"bgcolor\":\"white\",\"landcolor\":\"#E5ECF6\",\"subunitcolor\":\"white\",\"showland\":true,\"showlakes\":true,\"lakecolor\":\"white\"},\"title\":{\"x\":0.05},\"mapbox\":{\"style\":\"light\"}}}},                        {\"responsive\": true}                    ).then(function(){\n",
       "                            \n",
       "var gd = document.getElementById('88374d6d-6b92-496d-aeea-8909fc5033c4');\n",
       "var x = new MutationObserver(function (mutations, observer) {{\n",
       "        var display = window.getComputedStyle(gd).display;\n",
       "        if (!display || display === 'none') {{\n",
       "            console.log([gd, 'removed!']);\n",
       "            Plotly.purge(gd);\n",
       "            observer.disconnect();\n",
       "        }}\n",
       "}});\n",
       "\n",
       "// Listen for the removal of the full notebook cells\n",
       "var notebookContainer = gd.closest('#notebook-container');\n",
       "if (notebookContainer) {{\n",
       "    x.observe(notebookContainer, {childList: true});\n",
       "}}\n",
       "\n",
       "// Listen for the clearing of the current output cell\n",
       "var outputEl = gd.closest('.output');\n",
       "if (outputEl) {{\n",
       "    x.observe(outputEl, {childList: true});\n",
       "}}\n",
       "\n",
       "                        })                };                });            </script>        </div>"
      ]
     },
     "metadata": {},
     "output_type": "display_data"
    }
   ],
   "source": [
    "tempo = get_column('mean_time')\n",
    "cols_gurobi = sorted([c for c in tempo.columns\n",
    "                      if c not in ['pois', 'sensors', 'k', 'm']\n",
    "                      if 'gurobi' in c])\n",
    "cols_heur = sorted([c for c in tempo.columns\n",
    "                    if c not in ['pois', 'sensors', 'k', 'm']\n",
    "                    if 'gurobi' not in c])\n",
    "\n",
    "fig = go.Figure(data=[\n",
    "    go.Scatter(x=tempo['sensors'], y=tempo[col], name=col)\n",
    "    for col in cols_gurobi\n",
    "])\n",
    "fig.show()"
   ]
  },
  {
   "cell_type": "code",
   "execution_count": 35,
   "id": "c976f9a5",
   "metadata": {},
   "outputs": [
    {
     "data": {
      "application/vnd.plotly.v1+json": {
       "config": {
        "plotlyServerURL": "https://plot.ly"
       },
       "data": [
        {
         "name": "dinic",
         "type": "scatter",
         "x": [
          100,
          100,
          100,
          100,
          100,
          100,
          300,
          300,
          300,
          300,
          300,
          300,
          500,
          500,
          500,
          500,
          500,
          500,
          100,
          100,
          100,
          100,
          100,
          100,
          300,
          300,
          300,
          300,
          300,
          300,
          500,
          500,
          500,
          500,
          500,
          500
         ],
         "y": [
          42,
          45.5,
          45.2,
          44.6,
          48,
          47.3,
          127.6,
          126.9,
          129.1,
          125.3,
          128.4,
          126,
          214.5,
          205.8,
          212.7,
          209.8,
          210.6,
          207.5,
          45.1,
          41.5,
          44.4,
          44.6,
          47.8,
          46.7,
          124.9,
          128.3,
          123.1,
          122.4,
          128.4,
          128.6,
          207.5,
          203,
          205.3,
          208.1,
          207.3,
          207.1
         ]
        },
        {
         "name": "max_reuse",
         "type": "scatter",
         "x": [
          100,
          100,
          100,
          100,
          100,
          100,
          300,
          300,
          300,
          300,
          300,
          300,
          500,
          500,
          500,
          500,
          500,
          500,
          100,
          100,
          100,
          100,
          100,
          100,
          300,
          300,
          300,
          300,
          300,
          300,
          500,
          500,
          500,
          500,
          500,
          500
         ],
         "y": [
          9.7,
          14.7,
          16.444444444444443,
          19.8,
          20.3,
          23.6,
          13.7,
          17.2,
          23.2,
          21.9,
          27.1,
          31.444444444444443,
          13.6,
          17.2,
          26.1,
          22,
          29.33333333333333,
          36.1,
          10.3,
          14.8,
          18.22222222222222,
          21.1,
          21.6,
          23.77777777777778,
          14.2,
          18.2,
          24,
          22.9,
          26.5,
          35.1,
          17,
          21.9,
          27.7,
          24.1,
          33.5,
          44.6
         ]
        },
        {
         "name": "min_reuse",
         "type": "scatter",
         "x": [
          100,
          100,
          100,
          100,
          100,
          100,
          300,
          300,
          300,
          300,
          300,
          300,
          500,
          500,
          500,
          500,
          500,
          500,
          100,
          100,
          100,
          100,
          100,
          100,
          300,
          300,
          300,
          300,
          300,
          300,
          500,
          500,
          500,
          500,
          500,
          500
         ],
         "y": [
          9.4,
          14.8,
          16.2,
          20,
          20.3,
          22.3,
          12,
          16.2,
          21.9,
          21.1,
          26.2,
          29.55555555555556,
          11.8,
          15.5,
          24.77777777777778,
          21.8,
          24.6,
          33.44444444444444,
          10.3,
          14.8,
          18,
          21,
          21.1,
          23.25,
          13.1,
          16.9,
          24.1,
          22.1,
          25.3,
          33.77777777777778,
          14.2,
          20.7,
          23.1,
          22.9,
          30.6,
          40.44444444444444
         ]
        },
        {
         "name": "no_reuse",
         "type": "scatter",
         "x": [
          100,
          100,
          100,
          100,
          100,
          100,
          300,
          300,
          300,
          300,
          300,
          300,
          500,
          500,
          500,
          500,
          500,
          500,
          100,
          100,
          100,
          100,
          100,
          100,
          300,
          300,
          300,
          300,
          300,
          300,
          500,
          500,
          500,
          500,
          500,
          500
         ],
         "y": [
          9.3,
          15,
          16.555555555555557,
          21.2,
          21.8,
          24.3,
          8.8,
          15.8,
          17.9,
          22.7,
          22.7,
          25.4,
          8.9,
          15.4,
          16.9,
          22.4,
          21.9,
          25.7,
          9.5,
          15.2,
          18.4,
          21.4,
          22.1,
          25.6,
          9.4,
          15.8,
          17.2,
          22.8,
          23.5,
          26,
          9.2,
          16,
          17.5,
          23.1,
          23.8,
          26
         ]
        }
       ],
       "layout": {
        "template": {
         "data": {
          "bar": [
           {
            "error_x": {
             "color": "#2a3f5f"
            },
            "error_y": {
             "color": "#2a3f5f"
            },
            "marker": {
             "line": {
              "color": "#E5ECF6",
              "width": 0.5
             },
             "pattern": {
              "fillmode": "overlay",
              "size": 10,
              "solidity": 0.2
             }
            },
            "type": "bar"
           }
          ],
          "barpolar": [
           {
            "marker": {
             "line": {
              "color": "#E5ECF6",
              "width": 0.5
             },
             "pattern": {
              "fillmode": "overlay",
              "size": 10,
              "solidity": 0.2
             }
            },
            "type": "barpolar"
           }
          ],
          "carpet": [
           {
            "aaxis": {
             "endlinecolor": "#2a3f5f",
             "gridcolor": "white",
             "linecolor": "white",
             "minorgridcolor": "white",
             "startlinecolor": "#2a3f5f"
            },
            "baxis": {
             "endlinecolor": "#2a3f5f",
             "gridcolor": "white",
             "linecolor": "white",
             "minorgridcolor": "white",
             "startlinecolor": "#2a3f5f"
            },
            "type": "carpet"
           }
          ],
          "choropleth": [
           {
            "colorbar": {
             "outlinewidth": 0,
             "ticks": ""
            },
            "type": "choropleth"
           }
          ],
          "contour": [
           {
            "colorbar": {
             "outlinewidth": 0,
             "ticks": ""
            },
            "colorscale": [
             [
              0,
              "#0d0887"
             ],
             [
              0.1111111111111111,
              "#46039f"
             ],
             [
              0.2222222222222222,
              "#7201a8"
             ],
             [
              0.3333333333333333,
              "#9c179e"
             ],
             [
              0.4444444444444444,
              "#bd3786"
             ],
             [
              0.5555555555555556,
              "#d8576b"
             ],
             [
              0.6666666666666666,
              "#ed7953"
             ],
             [
              0.7777777777777778,
              "#fb9f3a"
             ],
             [
              0.8888888888888888,
              "#fdca26"
             ],
             [
              1,
              "#f0f921"
             ]
            ],
            "type": "contour"
           }
          ],
          "contourcarpet": [
           {
            "colorbar": {
             "outlinewidth": 0,
             "ticks": ""
            },
            "type": "contourcarpet"
           }
          ],
          "heatmap": [
           {
            "colorbar": {
             "outlinewidth": 0,
             "ticks": ""
            },
            "colorscale": [
             [
              0,
              "#0d0887"
             ],
             [
              0.1111111111111111,
              "#46039f"
             ],
             [
              0.2222222222222222,
              "#7201a8"
             ],
             [
              0.3333333333333333,
              "#9c179e"
             ],
             [
              0.4444444444444444,
              "#bd3786"
             ],
             [
              0.5555555555555556,
              "#d8576b"
             ],
             [
              0.6666666666666666,
              "#ed7953"
             ],
             [
              0.7777777777777778,
              "#fb9f3a"
             ],
             [
              0.8888888888888888,
              "#fdca26"
             ],
             [
              1,
              "#f0f921"
             ]
            ],
            "type": "heatmap"
           }
          ],
          "heatmapgl": [
           {
            "colorbar": {
             "outlinewidth": 0,
             "ticks": ""
            },
            "colorscale": [
             [
              0,
              "#0d0887"
             ],
             [
              0.1111111111111111,
              "#46039f"
             ],
             [
              0.2222222222222222,
              "#7201a8"
             ],
             [
              0.3333333333333333,
              "#9c179e"
             ],
             [
              0.4444444444444444,
              "#bd3786"
             ],
             [
              0.5555555555555556,
              "#d8576b"
             ],
             [
              0.6666666666666666,
              "#ed7953"
             ],
             [
              0.7777777777777778,
              "#fb9f3a"
             ],
             [
              0.8888888888888888,
              "#fdca26"
             ],
             [
              1,
              "#f0f921"
             ]
            ],
            "type": "heatmapgl"
           }
          ],
          "histogram": [
           {
            "marker": {
             "pattern": {
              "fillmode": "overlay",
              "size": 10,
              "solidity": 0.2
             }
            },
            "type": "histogram"
           }
          ],
          "histogram2d": [
           {
            "colorbar": {
             "outlinewidth": 0,
             "ticks": ""
            },
            "colorscale": [
             [
              0,
              "#0d0887"
             ],
             [
              0.1111111111111111,
              "#46039f"
             ],
             [
              0.2222222222222222,
              "#7201a8"
             ],
             [
              0.3333333333333333,
              "#9c179e"
             ],
             [
              0.4444444444444444,
              "#bd3786"
             ],
             [
              0.5555555555555556,
              "#d8576b"
             ],
             [
              0.6666666666666666,
              "#ed7953"
             ],
             [
              0.7777777777777778,
              "#fb9f3a"
             ],
             [
              0.8888888888888888,
              "#fdca26"
             ],
             [
              1,
              "#f0f921"
             ]
            ],
            "type": "histogram2d"
           }
          ],
          "histogram2dcontour": [
           {
            "colorbar": {
             "outlinewidth": 0,
             "ticks": ""
            },
            "colorscale": [
             [
              0,
              "#0d0887"
             ],
             [
              0.1111111111111111,
              "#46039f"
             ],
             [
              0.2222222222222222,
              "#7201a8"
             ],
             [
              0.3333333333333333,
              "#9c179e"
             ],
             [
              0.4444444444444444,
              "#bd3786"
             ],
             [
              0.5555555555555556,
              "#d8576b"
             ],
             [
              0.6666666666666666,
              "#ed7953"
             ],
             [
              0.7777777777777778,
              "#fb9f3a"
             ],
             [
              0.8888888888888888,
              "#fdca26"
             ],
             [
              1,
              "#f0f921"
             ]
            ],
            "type": "histogram2dcontour"
           }
          ],
          "mesh3d": [
           {
            "colorbar": {
             "outlinewidth": 0,
             "ticks": ""
            },
            "type": "mesh3d"
           }
          ],
          "parcoords": [
           {
            "line": {
             "colorbar": {
              "outlinewidth": 0,
              "ticks": ""
             }
            },
            "type": "parcoords"
           }
          ],
          "pie": [
           {
            "automargin": true,
            "type": "pie"
           }
          ],
          "scatter": [
           {
            "fillpattern": {
             "fillmode": "overlay",
             "size": 10,
             "solidity": 0.2
            },
            "type": "scatter"
           }
          ],
          "scatter3d": [
           {
            "line": {
             "colorbar": {
              "outlinewidth": 0,
              "ticks": ""
             }
            },
            "marker": {
             "colorbar": {
              "outlinewidth": 0,
              "ticks": ""
             }
            },
            "type": "scatter3d"
           }
          ],
          "scattercarpet": [
           {
            "marker": {
             "colorbar": {
              "outlinewidth": 0,
              "ticks": ""
             }
            },
            "type": "scattercarpet"
           }
          ],
          "scattergeo": [
           {
            "marker": {
             "colorbar": {
              "outlinewidth": 0,
              "ticks": ""
             }
            },
            "type": "scattergeo"
           }
          ],
          "scattergl": [
           {
            "marker": {
             "colorbar": {
              "outlinewidth": 0,
              "ticks": ""
             }
            },
            "type": "scattergl"
           }
          ],
          "scattermapbox": [
           {
            "marker": {
             "colorbar": {
              "outlinewidth": 0,
              "ticks": ""
             }
            },
            "type": "scattermapbox"
           }
          ],
          "scatterpolar": [
           {
            "marker": {
             "colorbar": {
              "outlinewidth": 0,
              "ticks": ""
             }
            },
            "type": "scatterpolar"
           }
          ],
          "scatterpolargl": [
           {
            "marker": {
             "colorbar": {
              "outlinewidth": 0,
              "ticks": ""
             }
            },
            "type": "scatterpolargl"
           }
          ],
          "scatterternary": [
           {
            "marker": {
             "colorbar": {
              "outlinewidth": 0,
              "ticks": ""
             }
            },
            "type": "scatterternary"
           }
          ],
          "surface": [
           {
            "colorbar": {
             "outlinewidth": 0,
             "ticks": ""
            },
            "colorscale": [
             [
              0,
              "#0d0887"
             ],
             [
              0.1111111111111111,
              "#46039f"
             ],
             [
              0.2222222222222222,
              "#7201a8"
             ],
             [
              0.3333333333333333,
              "#9c179e"
             ],
             [
              0.4444444444444444,
              "#bd3786"
             ],
             [
              0.5555555555555556,
              "#d8576b"
             ],
             [
              0.6666666666666666,
              "#ed7953"
             ],
             [
              0.7777777777777778,
              "#fb9f3a"
             ],
             [
              0.8888888888888888,
              "#fdca26"
             ],
             [
              1,
              "#f0f921"
             ]
            ],
            "type": "surface"
           }
          ],
          "table": [
           {
            "cells": {
             "fill": {
              "color": "#EBF0F8"
             },
             "line": {
              "color": "white"
             }
            },
            "header": {
             "fill": {
              "color": "#C8D4E3"
             },
             "line": {
              "color": "white"
             }
            },
            "type": "table"
           }
          ]
         },
         "layout": {
          "annotationdefaults": {
           "arrowcolor": "#2a3f5f",
           "arrowhead": 0,
           "arrowwidth": 1
          },
          "autotypenumbers": "strict",
          "coloraxis": {
           "colorbar": {
            "outlinewidth": 0,
            "ticks": ""
           }
          },
          "colorscale": {
           "diverging": [
            [
             0,
             "#8e0152"
            ],
            [
             0.1,
             "#c51b7d"
            ],
            [
             0.2,
             "#de77ae"
            ],
            [
             0.3,
             "#f1b6da"
            ],
            [
             0.4,
             "#fde0ef"
            ],
            [
             0.5,
             "#f7f7f7"
            ],
            [
             0.6,
             "#e6f5d0"
            ],
            [
             0.7,
             "#b8e186"
            ],
            [
             0.8,
             "#7fbc41"
            ],
            [
             0.9,
             "#4d9221"
            ],
            [
             1,
             "#276419"
            ]
           ],
           "sequential": [
            [
             0,
             "#0d0887"
            ],
            [
             0.1111111111111111,
             "#46039f"
            ],
            [
             0.2222222222222222,
             "#7201a8"
            ],
            [
             0.3333333333333333,
             "#9c179e"
            ],
            [
             0.4444444444444444,
             "#bd3786"
            ],
            [
             0.5555555555555556,
             "#d8576b"
            ],
            [
             0.6666666666666666,
             "#ed7953"
            ],
            [
             0.7777777777777778,
             "#fb9f3a"
            ],
            [
             0.8888888888888888,
             "#fdca26"
            ],
            [
             1,
             "#f0f921"
            ]
           ],
           "sequentialminus": [
            [
             0,
             "#0d0887"
            ],
            [
             0.1111111111111111,
             "#46039f"
            ],
            [
             0.2222222222222222,
             "#7201a8"
            ],
            [
             0.3333333333333333,
             "#9c179e"
            ],
            [
             0.4444444444444444,
             "#bd3786"
            ],
            [
             0.5555555555555556,
             "#d8576b"
            ],
            [
             0.6666666666666666,
             "#ed7953"
            ],
            [
             0.7777777777777778,
             "#fb9f3a"
            ],
            [
             0.8888888888888888,
             "#fdca26"
            ],
            [
             1,
             "#f0f921"
            ]
           ]
          },
          "colorway": [
           "#636efa",
           "#EF553B",
           "#00cc96",
           "#ab63fa",
           "#FFA15A",
           "#19d3f3",
           "#FF6692",
           "#B6E880",
           "#FF97FF",
           "#FECB52"
          ],
          "font": {
           "color": "#2a3f5f"
          },
          "geo": {
           "bgcolor": "white",
           "lakecolor": "white",
           "landcolor": "#E5ECF6",
           "showlakes": true,
           "showland": true,
           "subunitcolor": "white"
          },
          "hoverlabel": {
           "align": "left"
          },
          "hovermode": "closest",
          "mapbox": {
           "style": "light"
          },
          "paper_bgcolor": "white",
          "plot_bgcolor": "#E5ECF6",
          "polar": {
           "angularaxis": {
            "gridcolor": "white",
            "linecolor": "white",
            "ticks": ""
           },
           "bgcolor": "#E5ECF6",
           "radialaxis": {
            "gridcolor": "white",
            "linecolor": "white",
            "ticks": ""
           }
          },
          "scene": {
           "xaxis": {
            "backgroundcolor": "#E5ECF6",
            "gridcolor": "white",
            "gridwidth": 2,
            "linecolor": "white",
            "showbackground": true,
            "ticks": "",
            "zerolinecolor": "white"
           },
           "yaxis": {
            "backgroundcolor": "#E5ECF6",
            "gridcolor": "white",
            "gridwidth": 2,
            "linecolor": "white",
            "showbackground": true,
            "ticks": "",
            "zerolinecolor": "white"
           },
           "zaxis": {
            "backgroundcolor": "#E5ECF6",
            "gridcolor": "white",
            "gridwidth": 2,
            "linecolor": "white",
            "showbackground": true,
            "ticks": "",
            "zerolinecolor": "white"
           }
          },
          "shapedefaults": {
           "line": {
            "color": "#2a3f5f"
           }
          },
          "ternary": {
           "aaxis": {
            "gridcolor": "white",
            "linecolor": "white",
            "ticks": ""
           },
           "baxis": {
            "gridcolor": "white",
            "linecolor": "white",
            "ticks": ""
           },
           "bgcolor": "#E5ECF6",
           "caxis": {
            "gridcolor": "white",
            "linecolor": "white",
            "ticks": ""
           }
          },
          "title": {
           "x": 0.05
          },
          "xaxis": {
           "automargin": true,
           "gridcolor": "white",
           "linecolor": "white",
           "ticks": "",
           "title": {
            "standoff": 15
           },
           "zerolinecolor": "white",
           "zerolinewidth": 2
          },
          "yaxis": {
           "automargin": true,
           "gridcolor": "white",
           "linecolor": "white",
           "ticks": "",
           "title": {
            "standoff": 15
           },
           "zerolinecolor": "white",
           "zerolinewidth": 2
          }
         }
        }
       }
      },
      "text/html": [
       "<div>                            <div id=\"e2a5fee3-53c0-4ea5-9384-c8ece685b8ca\" class=\"plotly-graph-div\" style=\"height:525px; width:100%;\"></div>            <script type=\"text/javascript\">                require([\"plotly\"], function(Plotly) {                    window.PLOTLYENV=window.PLOTLYENV || {};                                    if (document.getElementById(\"e2a5fee3-53c0-4ea5-9384-c8ece685b8ca\")) {                    Plotly.newPlot(                        \"e2a5fee3-53c0-4ea5-9384-c8ece685b8ca\",                        [{\"name\":\"dinic\",\"x\":[100,100,100,100,100,100,300,300,300,300,300,300,500,500,500,500,500,500,100,100,100,100,100,100,300,300,300,300,300,300,500,500,500,500,500,500],\"y\":[42.0,45.5,45.2,44.6,48.0,47.3,127.6,126.9,129.1,125.3,128.4,126.0,214.5,205.8,212.7,209.8,210.6,207.5,45.1,41.5,44.4,44.6,47.8,46.7,124.9,128.3,123.1,122.4,128.4,128.6,207.5,203.0,205.3,208.1,207.3,207.1],\"type\":\"scatter\"},{\"name\":\"max_reuse\",\"x\":[100,100,100,100,100,100,300,300,300,300,300,300,500,500,500,500,500,500,100,100,100,100,100,100,300,300,300,300,300,300,500,500,500,500,500,500],\"y\":[9.7,14.7,16.444444444444443,19.8,20.3,23.6,13.7,17.2,23.2,21.9,27.1,31.444444444444443,13.6,17.2,26.1,22.0,29.33333333333333,36.1,10.3,14.8,18.22222222222222,21.1,21.6,23.77777777777778,14.2,18.2,24.0,22.9,26.5,35.1,17.0,21.9,27.7,24.1,33.5,44.6],\"type\":\"scatter\"},{\"name\":\"min_reuse\",\"x\":[100,100,100,100,100,100,300,300,300,300,300,300,500,500,500,500,500,500,100,100,100,100,100,100,300,300,300,300,300,300,500,500,500,500,500,500],\"y\":[9.4,14.8,16.2,20.0,20.3,22.3,12.0,16.2,21.9,21.1,26.2,29.55555555555556,11.8,15.5,24.77777777777778,21.8,24.6,33.44444444444444,10.3,14.8,18.0,21.0,21.1,23.25,13.1,16.9,24.1,22.1,25.3,33.77777777777778,14.2,20.7,23.1,22.9,30.6,40.44444444444444],\"type\":\"scatter\"},{\"name\":\"no_reuse\",\"x\":[100,100,100,100,100,100,300,300,300,300,300,300,500,500,500,500,500,500,100,100,100,100,100,100,300,300,300,300,300,300,500,500,500,500,500,500],\"y\":[9.3,15.0,16.555555555555557,21.2,21.8,24.3,8.8,15.8,17.9,22.7,22.7,25.4,8.9,15.4,16.9,22.4,21.9,25.7,9.5,15.2,18.4,21.4,22.1,25.6,9.4,15.8,17.2,22.8,23.5,26.0,9.2,16.0,17.5,23.1,23.8,26.0],\"type\":\"scatter\"}],                        {\"template\":{\"data\":{\"histogram2dcontour\":[{\"type\":\"histogram2dcontour\",\"colorbar\":{\"outlinewidth\":0,\"ticks\":\"\"},\"colorscale\":[[0.0,\"#0d0887\"],[0.1111111111111111,\"#46039f\"],[0.2222222222222222,\"#7201a8\"],[0.3333333333333333,\"#9c179e\"],[0.4444444444444444,\"#bd3786\"],[0.5555555555555556,\"#d8576b\"],[0.6666666666666666,\"#ed7953\"],[0.7777777777777778,\"#fb9f3a\"],[0.8888888888888888,\"#fdca26\"],[1.0,\"#f0f921\"]]}],\"choropleth\":[{\"type\":\"choropleth\",\"colorbar\":{\"outlinewidth\":0,\"ticks\":\"\"}}],\"histogram2d\":[{\"type\":\"histogram2d\",\"colorbar\":{\"outlinewidth\":0,\"ticks\":\"\"},\"colorscale\":[[0.0,\"#0d0887\"],[0.1111111111111111,\"#46039f\"],[0.2222222222222222,\"#7201a8\"],[0.3333333333333333,\"#9c179e\"],[0.4444444444444444,\"#bd3786\"],[0.5555555555555556,\"#d8576b\"],[0.6666666666666666,\"#ed7953\"],[0.7777777777777778,\"#fb9f3a\"],[0.8888888888888888,\"#fdca26\"],[1.0,\"#f0f921\"]]}],\"heatmap\":[{\"type\":\"heatmap\",\"colorbar\":{\"outlinewidth\":0,\"ticks\":\"\"},\"colorscale\":[[0.0,\"#0d0887\"],[0.1111111111111111,\"#46039f\"],[0.2222222222222222,\"#7201a8\"],[0.3333333333333333,\"#9c179e\"],[0.4444444444444444,\"#bd3786\"],[0.5555555555555556,\"#d8576b\"],[0.6666666666666666,\"#ed7953\"],[0.7777777777777778,\"#fb9f3a\"],[0.8888888888888888,\"#fdca26\"],[1.0,\"#f0f921\"]]}],\"heatmapgl\":[{\"type\":\"heatmapgl\",\"colorbar\":{\"outlinewidth\":0,\"ticks\":\"\"},\"colorscale\":[[0.0,\"#0d0887\"],[0.1111111111111111,\"#46039f\"],[0.2222222222222222,\"#7201a8\"],[0.3333333333333333,\"#9c179e\"],[0.4444444444444444,\"#bd3786\"],[0.5555555555555556,\"#d8576b\"],[0.6666666666666666,\"#ed7953\"],[0.7777777777777778,\"#fb9f3a\"],[0.8888888888888888,\"#fdca26\"],[1.0,\"#f0f921\"]]}],\"contourcarpet\":[{\"type\":\"contourcarpet\",\"colorbar\":{\"outlinewidth\":0,\"ticks\":\"\"}}],\"contour\":[{\"type\":\"contour\",\"colorbar\":{\"outlinewidth\":0,\"ticks\":\"\"},\"colorscale\":[[0.0,\"#0d0887\"],[0.1111111111111111,\"#46039f\"],[0.2222222222222222,\"#7201a8\"],[0.3333333333333333,\"#9c179e\"],[0.4444444444444444,\"#bd3786\"],[0.5555555555555556,\"#d8576b\"],[0.6666666666666666,\"#ed7953\"],[0.7777777777777778,\"#fb9f3a\"],[0.8888888888888888,\"#fdca26\"],[1.0,\"#f0f921\"]]}],\"surface\":[{\"type\":\"surface\",\"colorbar\":{\"outlinewidth\":0,\"ticks\":\"\"},\"colorscale\":[[0.0,\"#0d0887\"],[0.1111111111111111,\"#46039f\"],[0.2222222222222222,\"#7201a8\"],[0.3333333333333333,\"#9c179e\"],[0.4444444444444444,\"#bd3786\"],[0.5555555555555556,\"#d8576b\"],[0.6666666666666666,\"#ed7953\"],[0.7777777777777778,\"#fb9f3a\"],[0.8888888888888888,\"#fdca26\"],[1.0,\"#f0f921\"]]}],\"mesh3d\":[{\"type\":\"mesh3d\",\"colorbar\":{\"outlinewidth\":0,\"ticks\":\"\"}}],\"scatter\":[{\"fillpattern\":{\"fillmode\":\"overlay\",\"size\":10,\"solidity\":0.2},\"type\":\"scatter\"}],\"parcoords\":[{\"type\":\"parcoords\",\"line\":{\"colorbar\":{\"outlinewidth\":0,\"ticks\":\"\"}}}],\"scatterpolargl\":[{\"type\":\"scatterpolargl\",\"marker\":{\"colorbar\":{\"outlinewidth\":0,\"ticks\":\"\"}}}],\"bar\":[{\"error_x\":{\"color\":\"#2a3f5f\"},\"error_y\":{\"color\":\"#2a3f5f\"},\"marker\":{\"line\":{\"color\":\"#E5ECF6\",\"width\":0.5},\"pattern\":{\"fillmode\":\"overlay\",\"size\":10,\"solidity\":0.2}},\"type\":\"bar\"}],\"scattergeo\":[{\"type\":\"scattergeo\",\"marker\":{\"colorbar\":{\"outlinewidth\":0,\"ticks\":\"\"}}}],\"scatterpolar\":[{\"type\":\"scatterpolar\",\"marker\":{\"colorbar\":{\"outlinewidth\":0,\"ticks\":\"\"}}}],\"histogram\":[{\"marker\":{\"pattern\":{\"fillmode\":\"overlay\",\"size\":10,\"solidity\":0.2}},\"type\":\"histogram\"}],\"scattergl\":[{\"type\":\"scattergl\",\"marker\":{\"colorbar\":{\"outlinewidth\":0,\"ticks\":\"\"}}}],\"scatter3d\":[{\"type\":\"scatter3d\",\"line\":{\"colorbar\":{\"outlinewidth\":0,\"ticks\":\"\"}},\"marker\":{\"colorbar\":{\"outlinewidth\":0,\"ticks\":\"\"}}}],\"scattermapbox\":[{\"type\":\"scattermapbox\",\"marker\":{\"colorbar\":{\"outlinewidth\":0,\"ticks\":\"\"}}}],\"scatterternary\":[{\"type\":\"scatterternary\",\"marker\":{\"colorbar\":{\"outlinewidth\":0,\"ticks\":\"\"}}}],\"scattercarpet\":[{\"type\":\"scattercarpet\",\"marker\":{\"colorbar\":{\"outlinewidth\":0,\"ticks\":\"\"}}}],\"carpet\":[{\"aaxis\":{\"endlinecolor\":\"#2a3f5f\",\"gridcolor\":\"white\",\"linecolor\":\"white\",\"minorgridcolor\":\"white\",\"startlinecolor\":\"#2a3f5f\"},\"baxis\":{\"endlinecolor\":\"#2a3f5f\",\"gridcolor\":\"white\",\"linecolor\":\"white\",\"minorgridcolor\":\"white\",\"startlinecolor\":\"#2a3f5f\"},\"type\":\"carpet\"}],\"table\":[{\"cells\":{\"fill\":{\"color\":\"#EBF0F8\"},\"line\":{\"color\":\"white\"}},\"header\":{\"fill\":{\"color\":\"#C8D4E3\"},\"line\":{\"color\":\"white\"}},\"type\":\"table\"}],\"barpolar\":[{\"marker\":{\"line\":{\"color\":\"#E5ECF6\",\"width\":0.5},\"pattern\":{\"fillmode\":\"overlay\",\"size\":10,\"solidity\":0.2}},\"type\":\"barpolar\"}],\"pie\":[{\"automargin\":true,\"type\":\"pie\"}]},\"layout\":{\"autotypenumbers\":\"strict\",\"colorway\":[\"#636efa\",\"#EF553B\",\"#00cc96\",\"#ab63fa\",\"#FFA15A\",\"#19d3f3\",\"#FF6692\",\"#B6E880\",\"#FF97FF\",\"#FECB52\"],\"font\":{\"color\":\"#2a3f5f\"},\"hovermode\":\"closest\",\"hoverlabel\":{\"align\":\"left\"},\"paper_bgcolor\":\"white\",\"plot_bgcolor\":\"#E5ECF6\",\"polar\":{\"bgcolor\":\"#E5ECF6\",\"angularaxis\":{\"gridcolor\":\"white\",\"linecolor\":\"white\",\"ticks\":\"\"},\"radialaxis\":{\"gridcolor\":\"white\",\"linecolor\":\"white\",\"ticks\":\"\"}},\"ternary\":{\"bgcolor\":\"#E5ECF6\",\"aaxis\":{\"gridcolor\":\"white\",\"linecolor\":\"white\",\"ticks\":\"\"},\"baxis\":{\"gridcolor\":\"white\",\"linecolor\":\"white\",\"ticks\":\"\"},\"caxis\":{\"gridcolor\":\"white\",\"linecolor\":\"white\",\"ticks\":\"\"}},\"coloraxis\":{\"colorbar\":{\"outlinewidth\":0,\"ticks\":\"\"}},\"colorscale\":{\"sequential\":[[0.0,\"#0d0887\"],[0.1111111111111111,\"#46039f\"],[0.2222222222222222,\"#7201a8\"],[0.3333333333333333,\"#9c179e\"],[0.4444444444444444,\"#bd3786\"],[0.5555555555555556,\"#d8576b\"],[0.6666666666666666,\"#ed7953\"],[0.7777777777777778,\"#fb9f3a\"],[0.8888888888888888,\"#fdca26\"],[1.0,\"#f0f921\"]],\"sequentialminus\":[[0.0,\"#0d0887\"],[0.1111111111111111,\"#46039f\"],[0.2222222222222222,\"#7201a8\"],[0.3333333333333333,\"#9c179e\"],[0.4444444444444444,\"#bd3786\"],[0.5555555555555556,\"#d8576b\"],[0.6666666666666666,\"#ed7953\"],[0.7777777777777778,\"#fb9f3a\"],[0.8888888888888888,\"#fdca26\"],[1.0,\"#f0f921\"]],\"diverging\":[[0,\"#8e0152\"],[0.1,\"#c51b7d\"],[0.2,\"#de77ae\"],[0.3,\"#f1b6da\"],[0.4,\"#fde0ef\"],[0.5,\"#f7f7f7\"],[0.6,\"#e6f5d0\"],[0.7,\"#b8e186\"],[0.8,\"#7fbc41\"],[0.9,\"#4d9221\"],[1,\"#276419\"]]},\"xaxis\":{\"gridcolor\":\"white\",\"linecolor\":\"white\",\"ticks\":\"\",\"title\":{\"standoff\":15},\"zerolinecolor\":\"white\",\"automargin\":true,\"zerolinewidth\":2},\"yaxis\":{\"gridcolor\":\"white\",\"linecolor\":\"white\",\"ticks\":\"\",\"title\":{\"standoff\":15},\"zerolinecolor\":\"white\",\"automargin\":true,\"zerolinewidth\":2},\"scene\":{\"xaxis\":{\"backgroundcolor\":\"#E5ECF6\",\"gridcolor\":\"white\",\"linecolor\":\"white\",\"showbackground\":true,\"ticks\":\"\",\"zerolinecolor\":\"white\",\"gridwidth\":2},\"yaxis\":{\"backgroundcolor\":\"#E5ECF6\",\"gridcolor\":\"white\",\"linecolor\":\"white\",\"showbackground\":true,\"ticks\":\"\",\"zerolinecolor\":\"white\",\"gridwidth\":2},\"zaxis\":{\"backgroundcolor\":\"#E5ECF6\",\"gridcolor\":\"white\",\"linecolor\":\"white\",\"showbackground\":true,\"ticks\":\"\",\"zerolinecolor\":\"white\",\"gridwidth\":2}},\"shapedefaults\":{\"line\":{\"color\":\"#2a3f5f\"}},\"annotationdefaults\":{\"arrowcolor\":\"#2a3f5f\",\"arrowhead\":0,\"arrowwidth\":1},\"geo\":{\"bgcolor\":\"white\",\"landcolor\":\"#E5ECF6\",\"subunitcolor\":\"white\",\"showland\":true,\"showlakes\":true,\"lakecolor\":\"white\"},\"title\":{\"x\":0.05},\"mapbox\":{\"style\":\"light\"}}}},                        {\"responsive\": true}                    ).then(function(){\n",
       "                            \n",
       "var gd = document.getElementById('e2a5fee3-53c0-4ea5-9384-c8ece685b8ca');\n",
       "var x = new MutationObserver(function (mutations, observer) {{\n",
       "        var display = window.getComputedStyle(gd).display;\n",
       "        if (!display || display === 'none') {{\n",
       "            console.log([gd, 'removed!']);\n",
       "            Plotly.purge(gd);\n",
       "            observer.disconnect();\n",
       "        }}\n",
       "}});\n",
       "\n",
       "// Listen for the removal of the full notebook cells\n",
       "var notebookContainer = gd.closest('#notebook-container');\n",
       "if (notebookContainer) {{\n",
       "    x.observe(notebookContainer, {childList: true});\n",
       "}}\n",
       "\n",
       "// Listen for the clearing of the current output cell\n",
       "var outputEl = gd.closest('.output');\n",
       "if (outputEl) {{\n",
       "    x.observe(outputEl, {childList: true});\n",
       "}}\n",
       "\n",
       "                        })                };                });            </script>        </div>"
      ]
     },
     "metadata": {},
     "output_type": "display_data"
    }
   ],
   "source": [
    "fig = go.Figure(data=[\n",
    "    go.Scatter(x=tempo['sensors'], y=tempo[col], name=col)\n",
    "    for col in cols_heur if ('flood' not in col)\n",
    "])\n",
    "fig.show()"
   ]
  },
  {
   "cell_type": "code",
   "execution_count": null,
   "id": "37f97087",
   "metadata": {},
   "outputs": [],
   "source": []
  },
  {
   "cell_type": "code",
   "execution_count": null,
   "id": "c8428f93",
   "metadata": {},
   "outputs": [],
   "source": []
  },
  {
   "cell_type": "code",
   "execution_count": null,
   "id": "370582a7",
   "metadata": {},
   "outputs": [],
   "source": []
  },
  {
   "cell_type": "code",
   "execution_count": 33,
   "id": "ab6b3b75",
   "metadata": {},
   "outputs": [
    {
     "data": {
      "application/vnd.plotly.v1+json": {
       "config": {
        "plotlyServerURL": "https://plot.ly"
       },
       "data": [
        {
         "name": "gurobi_multi_flow",
         "type": "scatter",
         "x": [
          100,
          100,
          100,
          100,
          100,
          100,
          300,
          300,
          300,
          300,
          300,
          300,
          500,
          500,
          500,
          500,
          500,
          500,
          100,
          100,
          100,
          100,
          100,
          100,
          300,
          300,
          300,
          300,
          300,
          300,
          500,
          500,
          500,
          500,
          500,
          500
         ],
         "y": [
          5.6,
          11.6,
          11.4,
          16.9,
          16.7,
          17.2,
          5,
          10,
          10,
          15.1,
          15,
          9,
          1.9,
          5,
          0,
          10.5,
          0,
          0,
          5.6,
          11.2,
          11.2,
          17.3,
          17.1,
          17.6,
          5,
          10,
          10,
          15.2,
          10.5,
          1.5,
          1.25,
          3,
          0,
          3,
          0,
          0
         ]
        },
        {
         "name": "gurobi_multi_flow.dinic",
         "type": "scatter",
         "x": [
          100,
          100,
          100,
          100,
          100,
          100,
          300,
          300,
          300,
          300,
          300,
          300,
          500,
          500,
          500,
          500,
          500,
          500,
          100,
          100,
          100,
          100,
          100,
          100,
          300,
          300,
          300,
          300,
          300,
          300,
          500,
          500,
          500,
          500,
          500,
          500
         ],
         "y": [
          5.6,
          11.6,
          11.4,
          16.9,
          16.7,
          17.2,
          5,
          10,
          10,
          15.1,
          15,
          15.3,
          4.9,
          10,
          8.9,
          15,
          6.000000000000001,
          0,
          5.6,
          11.2,
          11.2,
          17.3,
          17.1,
          17.6,
          5,
          10,
          10,
          15.2,
          15,
          15.2,
          5,
          10,
          5.000000000000001,
          15.1,
          0,
          0
         ]
        },
        {
         "name": "gurobi_multi_flow.max_flood",
         "type": "scatter",
         "x": [
          100,
          100,
          100,
          100,
          100,
          100,
          300,
          300,
          300,
          300,
          300,
          300,
          500,
          500,
          500,
          500,
          500,
          500,
          100,
          100,
          100,
          100,
          100,
          100,
          300,
          300,
          300,
          300,
          300,
          300,
          500,
          500,
          500,
          500,
          500,
          500
         ],
         "y": [
          5.6,
          11.6,
          11.4,
          16.9,
          16.7,
          17.2,
          5,
          10,
          10,
          15.1,
          15,
          15.2,
          4.9,
          10,
          1,
          15,
          0,
          0,
          5.6,
          11.2,
          11.2,
          17.3,
          17.1,
          17.6,
          5,
          10,
          10,
          15.2,
          15,
          12.1,
          5,
          9,
          0,
          13.6,
          0,
          0
         ]
        },
        {
         "name": "gurobi_multi_flow.min_flood",
         "type": "scatter",
         "x": [
          100,
          100,
          100,
          100,
          100,
          100,
          300,
          300,
          300,
          300,
          300,
          300,
          500,
          500,
          500,
          500,
          500,
          500,
          100,
          100,
          100,
          100,
          100,
          100,
          300,
          300,
          300,
          300,
          300,
          300,
          500,
          500,
          500,
          500,
          500,
          500
         ],
         "y": [
          5.6,
          11.6,
          11.4,
          16.9,
          16.7,
          17.2,
          5,
          10,
          10,
          15.1,
          15,
          15.2,
          4.9,
          10,
          6.9,
          15,
          1.5000000000000069,
          0,
          5.6,
          11.2,
          11.2,
          17.3,
          17.1,
          17.6,
          5,
          10,
          10,
          15.2,
          15,
          13.7,
          5,
          10,
          4,
          15.1,
          0,
          0
         ]
        },
        {
         "name": "gurobi_single_flow",
         "type": "scatter",
         "x": [
          100,
          100,
          100,
          100,
          100,
          100,
          300,
          300,
          300,
          300,
          300,
          300,
          500,
          500,
          500,
          500,
          500,
          500,
          100,
          100,
          100,
          100,
          100,
          100,
          300,
          300,
          300,
          300,
          300,
          300,
          500,
          500,
          500,
          500,
          500,
          500
         ],
         "y": [
          5.6,
          11.6,
          11.3,
          16.9,
          16.7,
          17.2,
          5,
          10,
          10,
          15.1,
          15,
          15.2,
          1.9,
          9,
          2.9000000000000004,
          13.5,
          4.5,
          6,
          5.6,
          11.2,
          11.2,
          17.3,
          17.1,
          17.4,
          5,
          10,
          10,
          15.2,
          15,
          15.2,
          1,
          2,
          1,
          4.5,
          0,
          3
         ]
        },
        {
         "name": "gurobi_single_flow.dinic",
         "type": "scatter",
         "x": [
          100,
          100,
          100,
          100,
          100,
          100,
          300,
          300,
          300,
          300,
          300,
          300,
          500,
          500,
          500,
          500,
          500,
          500,
          100,
          100,
          100,
          100,
          100,
          100,
          300,
          300,
          300,
          300,
          300,
          300,
          500,
          500,
          500,
          500,
          500,
          500
         ],
         "y": [
          5.6,
          11.6,
          11.3,
          16.9,
          16.7,
          17.2,
          5,
          10,
          10,
          15.1,
          15,
          15.2,
          4.9,
          10,
          9.9,
          15,
          15,
          15,
          5.6,
          11.2,
          11.2,
          17.3,
          17.1,
          17.4,
          5,
          10,
          10,
          15.2,
          15,
          15.2,
          5,
          10,
          10,
          15.1,
          15,
          15
         ]
        },
        {
         "name": "gurobi_single_flow.max_flood",
         "type": "scatter",
         "x": [
          100,
          100,
          100,
          100,
          100,
          100,
          300,
          300,
          300,
          300,
          300,
          300,
          500,
          500,
          500,
          500,
          500,
          500,
          100,
          100,
          100,
          100,
          100,
          100,
          300,
          300,
          300,
          300,
          300,
          300,
          500,
          500,
          500,
          500,
          500,
          500
         ],
         "y": [
          5.6,
          11.6,
          11.3,
          16.9,
          16.7,
          17.2,
          5,
          10,
          10,
          15.1,
          15,
          15.2,
          4.9,
          10,
          9.9,
          15,
          15,
          15,
          5.6,
          11.2,
          11.2,
          17.3,
          17.1,
          17.4,
          5,
          10,
          10,
          15.2,
          15,
          15.2,
          5,
          9,
          7,
          13.6,
          12,
          13.125
         ]
        },
        {
         "name": "gurobi_single_flow.min_flood",
         "type": "scatter",
         "x": [
          100,
          100,
          100,
          100,
          100,
          100,
          300,
          300,
          300,
          300,
          300,
          300,
          500,
          500,
          500,
          500,
          500,
          500,
          100,
          100,
          100,
          100,
          100,
          100,
          300,
          300,
          300,
          300,
          300,
          300,
          500,
          500,
          500,
          500,
          500,
          500
         ],
         "y": [
          5.6,
          11.6,
          11.3,
          16.9,
          16.7,
          17.2,
          5,
          10,
          10,
          15.1,
          15,
          15.2,
          4.9,
          10,
          9.9,
          15,
          15,
          15,
          5.6,
          11.2,
          11.2,
          17.3,
          17.1,
          17.4,
          5,
          10,
          10,
          15.2,
          15,
          15.2,
          5,
          10,
          10,
          15.11111111111111,
          15,
          15
         ]
        },
        {
         "name": "gurobi_y_binary_multi_flow",
         "type": "scatter",
         "x": [
          100,
          100,
          100,
          100,
          100,
          100,
          300,
          300,
          300,
          300,
          300,
          300,
          500,
          500,
          500,
          500,
          500,
          500,
          100,
          100,
          100,
          100,
          100,
          100,
          300,
          300,
          300,
          300,
          300,
          300,
          500,
          500,
          500,
          500,
          500,
          500
         ],
         "y": [
          5.6,
          11.6,
          11.4,
          16.9,
          16.7,
          17.2,
          5,
          5,
          3,
          7.9,
          3,
          1.5,
          0.4,
          0,
          0,
          0,
          0,
          0,
          5.6,
          11.2,
          11.2,
          17.3,
          17.1,
          17.6,
          3.5,
          7,
          2,
          6,
          0,
          0,
          0,
          0,
          0,
          0,
          0,
          null
         ]
        },
        {
         "name": "gurobi_y_binary_single_flow",
         "type": "scatter",
         "x": [
          100,
          100,
          100,
          100,
          100,
          100,
          300,
          300,
          300,
          300,
          300,
          300,
          500,
          500,
          500,
          500,
          500,
          500,
          100,
          100,
          100,
          100,
          100,
          100,
          300,
          300,
          300,
          300,
          300,
          300,
          500,
          500,
          500,
          500,
          500,
          500
         ],
         "y": [
          5.6,
          11.6,
          11.3,
          16.9,
          16.7,
          17.2,
          5,
          6,
          10,
          7.9,
          13.5,
          15.2,
          0.4,
          0,
          0,
          1.5,
          0,
          0,
          5.6,
          11.2,
          11.2,
          17.3,
          17.1,
          17.4,
          2.5,
          7,
          6.666666666666667,
          10.5,
          6,
          10.6,
          0,
          0,
          0,
          0,
          0,
          0
         ]
        },
        {
         "name": "dinic",
         "type": "scatter",
         "x": [
          100,
          100,
          100,
          100,
          100,
          100,
          300,
          300,
          300,
          300,
          300,
          300,
          500,
          500,
          500,
          500,
          500,
          500,
          100,
          100,
          100,
          100,
          100,
          100,
          300,
          300,
          300,
          300,
          300,
          300,
          500,
          500,
          500,
          500,
          500,
          500
         ],
         "y": [
          42,
          45.5,
          45.2,
          44.6,
          48,
          47.3,
          127.6,
          126.9,
          129.1,
          125.3,
          128.4,
          126,
          214.5,
          205.8,
          212.7,
          209.8,
          210.6,
          207.5,
          45.1,
          41.5,
          44.4,
          44.6,
          47.8,
          46.7,
          124.9,
          128.3,
          123.1,
          122.4,
          128.4,
          128.6,
          207.5,
          203,
          205.3,
          208.1,
          207.3,
          207.1
         ]
        },
        {
         "name": "max_flood",
         "type": "scatter",
         "x": [
          100,
          100,
          100,
          100,
          100,
          100,
          300,
          300,
          300,
          300,
          300,
          300,
          500,
          500,
          500,
          500,
          500,
          500,
          100,
          100,
          100,
          100,
          100,
          100,
          300,
          300,
          300,
          300,
          300,
          300,
          500,
          500,
          500,
          500,
          500,
          500
         ],
         "y": [
          57.5,
          63,
          62.3,
          61.7,
          63.1,
          62.4,
          178.6,
          176.7,
          178.3,
          172.7,
          177.9,
          176.2,
          289.8,
          283.1,
          300.4,
          293.2,
          285.9,
          291.2,
          64.5,
          58.4,
          62.4,
          63.8,
          63.2,
          65.6,
          180.5,
          180.1,
          180.5,
          175.2,
          172,
          176.7,
          287.4,
          277.9,
          292.6,
          285.7,
          285.6,
          283.7
         ]
        },
        {
         "name": "max_reuse",
         "type": "scatter",
         "x": [
          100,
          100,
          100,
          100,
          100,
          100,
          300,
          300,
          300,
          300,
          300,
          300,
          500,
          500,
          500,
          500,
          500,
          500,
          100,
          100,
          100,
          100,
          100,
          100,
          300,
          300,
          300,
          300,
          300,
          300,
          500,
          500,
          500,
          500,
          500,
          500
         ],
         "y": [
          9.7,
          14.7,
          16.444444444444443,
          19.8,
          20.3,
          23.6,
          13.7,
          17.2,
          23.2,
          21.9,
          27.1,
          31.444444444444443,
          13.6,
          17.2,
          26.1,
          22,
          29.33333333333333,
          36.1,
          10.3,
          14.8,
          18.22222222222222,
          21.1,
          21.6,
          23.77777777777778,
          14.2,
          18.2,
          24,
          22.9,
          26.5,
          35.1,
          17,
          21.9,
          27.7,
          24.1,
          33.5,
          44.6
         ]
        },
        {
         "name": "min_flood",
         "type": "scatter",
         "x": [
          100,
          100,
          100,
          100,
          100,
          100,
          300,
          300,
          300,
          300,
          300,
          300,
          500,
          500,
          500,
          500,
          500,
          500,
          100,
          100,
          100,
          100,
          100,
          100,
          300,
          300,
          300,
          300,
          300,
          300,
          500,
          500,
          500,
          500,
          500,
          500
         ],
         "y": [
          46.6,
          49.3,
          51.3,
          48.3,
          52,
          54.1,
          138.4,
          135.9,
          142.9,
          135.6,
          146.8,
          147.2,
          227.8,
          217.3,
          236.1,
          225.5,
          233.7,
          237.7,
          48.3,
          44.6,
          52.6,
          49.7,
          53.9,
          55.3,
          135.3,
          138.4,
          136.9,
          133.2,
          146.6,
          151.2,
          221.7,
          220.6,
          226.8,
          227.7,
          231.5,
          238.8
         ]
        },
        {
         "name": "min_reuse",
         "type": "scatter",
         "x": [
          100,
          100,
          100,
          100,
          100,
          100,
          300,
          300,
          300,
          300,
          300,
          300,
          500,
          500,
          500,
          500,
          500,
          500,
          100,
          100,
          100,
          100,
          100,
          100,
          300,
          300,
          300,
          300,
          300,
          300,
          500,
          500,
          500,
          500,
          500,
          500
         ],
         "y": [
          9.4,
          14.8,
          16.2,
          20,
          20.3,
          22.3,
          12,
          16.2,
          21.9,
          21.1,
          26.2,
          29.55555555555556,
          11.8,
          15.5,
          24.77777777777778,
          21.8,
          24.6,
          33.44444444444444,
          10.3,
          14.8,
          18,
          21,
          21.1,
          23.25,
          13.1,
          16.9,
          24.1,
          22.1,
          25.3,
          33.77777777777778,
          14.2,
          20.7,
          23.1,
          22.9,
          30.6,
          40.44444444444444
         ]
        },
        {
         "name": "no_reuse",
         "type": "scatter",
         "x": [
          100,
          100,
          100,
          100,
          100,
          100,
          300,
          300,
          300,
          300,
          300,
          300,
          500,
          500,
          500,
          500,
          500,
          500,
          100,
          100,
          100,
          100,
          100,
          100,
          300,
          300,
          300,
          300,
          300,
          300,
          500,
          500,
          500,
          500,
          500,
          500
         ],
         "y": [
          9.3,
          15,
          16.555555555555557,
          21.2,
          21.8,
          24.3,
          8.8,
          15.8,
          17.9,
          22.7,
          22.7,
          25.4,
          8.9,
          15.4,
          16.9,
          22.4,
          21.9,
          25.7,
          9.5,
          15.2,
          18.4,
          21.4,
          22.1,
          25.6,
          9.4,
          15.8,
          17.2,
          22.8,
          23.5,
          26,
          9.2,
          16,
          17.5,
          23.1,
          23.8,
          26
         ]
        }
       ],
       "layout": {
        "template": {
         "data": {
          "bar": [
           {
            "error_x": {
             "color": "#2a3f5f"
            },
            "error_y": {
             "color": "#2a3f5f"
            },
            "marker": {
             "line": {
              "color": "#E5ECF6",
              "width": 0.5
             },
             "pattern": {
              "fillmode": "overlay",
              "size": 10,
              "solidity": 0.2
             }
            },
            "type": "bar"
           }
          ],
          "barpolar": [
           {
            "marker": {
             "line": {
              "color": "#E5ECF6",
              "width": 0.5
             },
             "pattern": {
              "fillmode": "overlay",
              "size": 10,
              "solidity": 0.2
             }
            },
            "type": "barpolar"
           }
          ],
          "carpet": [
           {
            "aaxis": {
             "endlinecolor": "#2a3f5f",
             "gridcolor": "white",
             "linecolor": "white",
             "minorgridcolor": "white",
             "startlinecolor": "#2a3f5f"
            },
            "baxis": {
             "endlinecolor": "#2a3f5f",
             "gridcolor": "white",
             "linecolor": "white",
             "minorgridcolor": "white",
             "startlinecolor": "#2a3f5f"
            },
            "type": "carpet"
           }
          ],
          "choropleth": [
           {
            "colorbar": {
             "outlinewidth": 0,
             "ticks": ""
            },
            "type": "choropleth"
           }
          ],
          "contour": [
           {
            "colorbar": {
             "outlinewidth": 0,
             "ticks": ""
            },
            "colorscale": [
             [
              0,
              "#0d0887"
             ],
             [
              0.1111111111111111,
              "#46039f"
             ],
             [
              0.2222222222222222,
              "#7201a8"
             ],
             [
              0.3333333333333333,
              "#9c179e"
             ],
             [
              0.4444444444444444,
              "#bd3786"
             ],
             [
              0.5555555555555556,
              "#d8576b"
             ],
             [
              0.6666666666666666,
              "#ed7953"
             ],
             [
              0.7777777777777778,
              "#fb9f3a"
             ],
             [
              0.8888888888888888,
              "#fdca26"
             ],
             [
              1,
              "#f0f921"
             ]
            ],
            "type": "contour"
           }
          ],
          "contourcarpet": [
           {
            "colorbar": {
             "outlinewidth": 0,
             "ticks": ""
            },
            "type": "contourcarpet"
           }
          ],
          "heatmap": [
           {
            "colorbar": {
             "outlinewidth": 0,
             "ticks": ""
            },
            "colorscale": [
             [
              0,
              "#0d0887"
             ],
             [
              0.1111111111111111,
              "#46039f"
             ],
             [
              0.2222222222222222,
              "#7201a8"
             ],
             [
              0.3333333333333333,
              "#9c179e"
             ],
             [
              0.4444444444444444,
              "#bd3786"
             ],
             [
              0.5555555555555556,
              "#d8576b"
             ],
             [
              0.6666666666666666,
              "#ed7953"
             ],
             [
              0.7777777777777778,
              "#fb9f3a"
             ],
             [
              0.8888888888888888,
              "#fdca26"
             ],
             [
              1,
              "#f0f921"
             ]
            ],
            "type": "heatmap"
           }
          ],
          "heatmapgl": [
           {
            "colorbar": {
             "outlinewidth": 0,
             "ticks": ""
            },
            "colorscale": [
             [
              0,
              "#0d0887"
             ],
             [
              0.1111111111111111,
              "#46039f"
             ],
             [
              0.2222222222222222,
              "#7201a8"
             ],
             [
              0.3333333333333333,
              "#9c179e"
             ],
             [
              0.4444444444444444,
              "#bd3786"
             ],
             [
              0.5555555555555556,
              "#d8576b"
             ],
             [
              0.6666666666666666,
              "#ed7953"
             ],
             [
              0.7777777777777778,
              "#fb9f3a"
             ],
             [
              0.8888888888888888,
              "#fdca26"
             ],
             [
              1,
              "#f0f921"
             ]
            ],
            "type": "heatmapgl"
           }
          ],
          "histogram": [
           {
            "marker": {
             "pattern": {
              "fillmode": "overlay",
              "size": 10,
              "solidity": 0.2
             }
            },
            "type": "histogram"
           }
          ],
          "histogram2d": [
           {
            "colorbar": {
             "outlinewidth": 0,
             "ticks": ""
            },
            "colorscale": [
             [
              0,
              "#0d0887"
             ],
             [
              0.1111111111111111,
              "#46039f"
             ],
             [
              0.2222222222222222,
              "#7201a8"
             ],
             [
              0.3333333333333333,
              "#9c179e"
             ],
             [
              0.4444444444444444,
              "#bd3786"
             ],
             [
              0.5555555555555556,
              "#d8576b"
             ],
             [
              0.6666666666666666,
              "#ed7953"
             ],
             [
              0.7777777777777778,
              "#fb9f3a"
             ],
             [
              0.8888888888888888,
              "#fdca26"
             ],
             [
              1,
              "#f0f921"
             ]
            ],
            "type": "histogram2d"
           }
          ],
          "histogram2dcontour": [
           {
            "colorbar": {
             "outlinewidth": 0,
             "ticks": ""
            },
            "colorscale": [
             [
              0,
              "#0d0887"
             ],
             [
              0.1111111111111111,
              "#46039f"
             ],
             [
              0.2222222222222222,
              "#7201a8"
             ],
             [
              0.3333333333333333,
              "#9c179e"
             ],
             [
              0.4444444444444444,
              "#bd3786"
             ],
             [
              0.5555555555555556,
              "#d8576b"
             ],
             [
              0.6666666666666666,
              "#ed7953"
             ],
             [
              0.7777777777777778,
              "#fb9f3a"
             ],
             [
              0.8888888888888888,
              "#fdca26"
             ],
             [
              1,
              "#f0f921"
             ]
            ],
            "type": "histogram2dcontour"
           }
          ],
          "mesh3d": [
           {
            "colorbar": {
             "outlinewidth": 0,
             "ticks": ""
            },
            "type": "mesh3d"
           }
          ],
          "parcoords": [
           {
            "line": {
             "colorbar": {
              "outlinewidth": 0,
              "ticks": ""
             }
            },
            "type": "parcoords"
           }
          ],
          "pie": [
           {
            "automargin": true,
            "type": "pie"
           }
          ],
          "scatter": [
           {
            "fillpattern": {
             "fillmode": "overlay",
             "size": 10,
             "solidity": 0.2
            },
            "type": "scatter"
           }
          ],
          "scatter3d": [
           {
            "line": {
             "colorbar": {
              "outlinewidth": 0,
              "ticks": ""
             }
            },
            "marker": {
             "colorbar": {
              "outlinewidth": 0,
              "ticks": ""
             }
            },
            "type": "scatter3d"
           }
          ],
          "scattercarpet": [
           {
            "marker": {
             "colorbar": {
              "outlinewidth": 0,
              "ticks": ""
             }
            },
            "type": "scattercarpet"
           }
          ],
          "scattergeo": [
           {
            "marker": {
             "colorbar": {
              "outlinewidth": 0,
              "ticks": ""
             }
            },
            "type": "scattergeo"
           }
          ],
          "scattergl": [
           {
            "marker": {
             "colorbar": {
              "outlinewidth": 0,
              "ticks": ""
             }
            },
            "type": "scattergl"
           }
          ],
          "scattermapbox": [
           {
            "marker": {
             "colorbar": {
              "outlinewidth": 0,
              "ticks": ""
             }
            },
            "type": "scattermapbox"
           }
          ],
          "scatterpolar": [
           {
            "marker": {
             "colorbar": {
              "outlinewidth": 0,
              "ticks": ""
             }
            },
            "type": "scatterpolar"
           }
          ],
          "scatterpolargl": [
           {
            "marker": {
             "colorbar": {
              "outlinewidth": 0,
              "ticks": ""
             }
            },
            "type": "scatterpolargl"
           }
          ],
          "scatterternary": [
           {
            "marker": {
             "colorbar": {
              "outlinewidth": 0,
              "ticks": ""
             }
            },
            "type": "scatterternary"
           }
          ],
          "surface": [
           {
            "colorbar": {
             "outlinewidth": 0,
             "ticks": ""
            },
            "colorscale": [
             [
              0,
              "#0d0887"
             ],
             [
              0.1111111111111111,
              "#46039f"
             ],
             [
              0.2222222222222222,
              "#7201a8"
             ],
             [
              0.3333333333333333,
              "#9c179e"
             ],
             [
              0.4444444444444444,
              "#bd3786"
             ],
             [
              0.5555555555555556,
              "#d8576b"
             ],
             [
              0.6666666666666666,
              "#ed7953"
             ],
             [
              0.7777777777777778,
              "#fb9f3a"
             ],
             [
              0.8888888888888888,
              "#fdca26"
             ],
             [
              1,
              "#f0f921"
             ]
            ],
            "type": "surface"
           }
          ],
          "table": [
           {
            "cells": {
             "fill": {
              "color": "#EBF0F8"
             },
             "line": {
              "color": "white"
             }
            },
            "header": {
             "fill": {
              "color": "#C8D4E3"
             },
             "line": {
              "color": "white"
             }
            },
            "type": "table"
           }
          ]
         },
         "layout": {
          "annotationdefaults": {
           "arrowcolor": "#2a3f5f",
           "arrowhead": 0,
           "arrowwidth": 1
          },
          "autotypenumbers": "strict",
          "coloraxis": {
           "colorbar": {
            "outlinewidth": 0,
            "ticks": ""
           }
          },
          "colorscale": {
           "diverging": [
            [
             0,
             "#8e0152"
            ],
            [
             0.1,
             "#c51b7d"
            ],
            [
             0.2,
             "#de77ae"
            ],
            [
             0.3,
             "#f1b6da"
            ],
            [
             0.4,
             "#fde0ef"
            ],
            [
             0.5,
             "#f7f7f7"
            ],
            [
             0.6,
             "#e6f5d0"
            ],
            [
             0.7,
             "#b8e186"
            ],
            [
             0.8,
             "#7fbc41"
            ],
            [
             0.9,
             "#4d9221"
            ],
            [
             1,
             "#276419"
            ]
           ],
           "sequential": [
            [
             0,
             "#0d0887"
            ],
            [
             0.1111111111111111,
             "#46039f"
            ],
            [
             0.2222222222222222,
             "#7201a8"
            ],
            [
             0.3333333333333333,
             "#9c179e"
            ],
            [
             0.4444444444444444,
             "#bd3786"
            ],
            [
             0.5555555555555556,
             "#d8576b"
            ],
            [
             0.6666666666666666,
             "#ed7953"
            ],
            [
             0.7777777777777778,
             "#fb9f3a"
            ],
            [
             0.8888888888888888,
             "#fdca26"
            ],
            [
             1,
             "#f0f921"
            ]
           ],
           "sequentialminus": [
            [
             0,
             "#0d0887"
            ],
            [
             0.1111111111111111,
             "#46039f"
            ],
            [
             0.2222222222222222,
             "#7201a8"
            ],
            [
             0.3333333333333333,
             "#9c179e"
            ],
            [
             0.4444444444444444,
             "#bd3786"
            ],
            [
             0.5555555555555556,
             "#d8576b"
            ],
            [
             0.6666666666666666,
             "#ed7953"
            ],
            [
             0.7777777777777778,
             "#fb9f3a"
            ],
            [
             0.8888888888888888,
             "#fdca26"
            ],
            [
             1,
             "#f0f921"
            ]
           ]
          },
          "colorway": [
           "#636efa",
           "#EF553B",
           "#00cc96",
           "#ab63fa",
           "#FFA15A",
           "#19d3f3",
           "#FF6692",
           "#B6E880",
           "#FF97FF",
           "#FECB52"
          ],
          "font": {
           "color": "#2a3f5f"
          },
          "geo": {
           "bgcolor": "white",
           "lakecolor": "white",
           "landcolor": "#E5ECF6",
           "showlakes": true,
           "showland": true,
           "subunitcolor": "white"
          },
          "hoverlabel": {
           "align": "left"
          },
          "hovermode": "closest",
          "mapbox": {
           "style": "light"
          },
          "paper_bgcolor": "white",
          "plot_bgcolor": "#E5ECF6",
          "polar": {
           "angularaxis": {
            "gridcolor": "white",
            "linecolor": "white",
            "ticks": ""
           },
           "bgcolor": "#E5ECF6",
           "radialaxis": {
            "gridcolor": "white",
            "linecolor": "white",
            "ticks": ""
           }
          },
          "scene": {
           "xaxis": {
            "backgroundcolor": "#E5ECF6",
            "gridcolor": "white",
            "gridwidth": 2,
            "linecolor": "white",
            "showbackground": true,
            "ticks": "",
            "zerolinecolor": "white"
           },
           "yaxis": {
            "backgroundcolor": "#E5ECF6",
            "gridcolor": "white",
            "gridwidth": 2,
            "linecolor": "white",
            "showbackground": true,
            "ticks": "",
            "zerolinecolor": "white"
           },
           "zaxis": {
            "backgroundcolor": "#E5ECF6",
            "gridcolor": "white",
            "gridwidth": 2,
            "linecolor": "white",
            "showbackground": true,
            "ticks": "",
            "zerolinecolor": "white"
           }
          },
          "shapedefaults": {
           "line": {
            "color": "#2a3f5f"
           }
          },
          "ternary": {
           "aaxis": {
            "gridcolor": "white",
            "linecolor": "white",
            "ticks": ""
           },
           "baxis": {
            "gridcolor": "white",
            "linecolor": "white",
            "ticks": ""
           },
           "bgcolor": "#E5ECF6",
           "caxis": {
            "gridcolor": "white",
            "linecolor": "white",
            "ticks": ""
           }
          },
          "title": {
           "x": 0.05
          },
          "xaxis": {
           "automargin": true,
           "gridcolor": "white",
           "linecolor": "white",
           "ticks": "",
           "title": {
            "standoff": 15
           },
           "zerolinecolor": "white",
           "zerolinewidth": 2
          },
          "yaxis": {
           "automargin": true,
           "gridcolor": "white",
           "linecolor": "white",
           "ticks": "",
           "title": {
            "standoff": 15
           },
           "zerolinecolor": "white",
           "zerolinewidth": 2
          }
         }
        }
       }
      },
      "text/html": [
       "<div>                            <div id=\"fb13e5b7-3ab8-4df4-b78a-5a2c833c3391\" class=\"plotly-graph-div\" style=\"height:525px; width:100%;\"></div>            <script type=\"text/javascript\">                require([\"plotly\"], function(Plotly) {                    window.PLOTLYENV=window.PLOTLYENV || {};                                    if (document.getElementById(\"fb13e5b7-3ab8-4df4-b78a-5a2c833c3391\")) {                    Plotly.newPlot(                        \"fb13e5b7-3ab8-4df4-b78a-5a2c833c3391\",                        [{\"name\":\"gurobi_multi_flow\",\"x\":[100,100,100,100,100,100,300,300,300,300,300,300,500,500,500,500,500,500,100,100,100,100,100,100,300,300,300,300,300,300,500,500,500,500,500,500],\"y\":[5.6,11.6,11.4,16.9,16.7,17.2,5.0,10.0,10.0,15.1,15.0,9.0,1.9,5.0,0.0,10.5,0.0,0.0,5.6,11.2,11.2,17.3,17.1,17.6,5.0,10.0,10.0,15.2,10.5,1.5,1.25,3.0,0.0,3.0,0.0,0.0],\"type\":\"scatter\"},{\"name\":\"gurobi_multi_flow.dinic\",\"x\":[100,100,100,100,100,100,300,300,300,300,300,300,500,500,500,500,500,500,100,100,100,100,100,100,300,300,300,300,300,300,500,500,500,500,500,500],\"y\":[5.6,11.6,11.4,16.9,16.7,17.2,5.0,10.0,10.0,15.1,15.0,15.3,4.9,10.0,8.9,15.0,6.000000000000001,0.0,5.6,11.2,11.2,17.3,17.1,17.6,5.0,10.0,10.0,15.2,15.0,15.2,5.0,10.0,5.000000000000001,15.1,0.0,0.0],\"type\":\"scatter\"},{\"name\":\"gurobi_multi_flow.max_flood\",\"x\":[100,100,100,100,100,100,300,300,300,300,300,300,500,500,500,500,500,500,100,100,100,100,100,100,300,300,300,300,300,300,500,500,500,500,500,500],\"y\":[5.6,11.6,11.4,16.9,16.7,17.2,5.0,10.0,10.0,15.1,15.0,15.2,4.9,10.0,1.0,15.0,0.0,0.0,5.6,11.2,11.2,17.3,17.1,17.6,5.0,10.0,10.0,15.2,15.0,12.1,5.0,9.0,0.0,13.6,0.0,0.0],\"type\":\"scatter\"},{\"name\":\"gurobi_multi_flow.min_flood\",\"x\":[100,100,100,100,100,100,300,300,300,300,300,300,500,500,500,500,500,500,100,100,100,100,100,100,300,300,300,300,300,300,500,500,500,500,500,500],\"y\":[5.6,11.6,11.4,16.9,16.7,17.2,5.0,10.0,10.0,15.1,15.0,15.2,4.9,10.0,6.9,15.0,1.5000000000000069,0.0,5.6,11.2,11.2,17.3,17.1,17.6,5.0,10.0,10.0,15.2,15.0,13.7,5.0,10.0,4.0,15.1,0.0,0.0],\"type\":\"scatter\"},{\"name\":\"gurobi_single_flow\",\"x\":[100,100,100,100,100,100,300,300,300,300,300,300,500,500,500,500,500,500,100,100,100,100,100,100,300,300,300,300,300,300,500,500,500,500,500,500],\"y\":[5.6,11.6,11.3,16.9,16.7,17.2,5.0,10.0,10.0,15.1,15.0,15.2,1.9,9.0,2.9000000000000004,13.5,4.5,6.0,5.6,11.2,11.2,17.3,17.1,17.4,5.0,10.0,10.0,15.2,15.0,15.2,1.0,2.0,1.0,4.5,0.0,3.0],\"type\":\"scatter\"},{\"name\":\"gurobi_single_flow.dinic\",\"x\":[100,100,100,100,100,100,300,300,300,300,300,300,500,500,500,500,500,500,100,100,100,100,100,100,300,300,300,300,300,300,500,500,500,500,500,500],\"y\":[5.6,11.6,11.3,16.9,16.7,17.2,5.0,10.0,10.0,15.1,15.0,15.2,4.9,10.0,9.9,15.0,15.0,15.0,5.6,11.2,11.2,17.3,17.1,17.4,5.0,10.0,10.0,15.2,15.0,15.2,5.0,10.0,10.0,15.1,15.0,15.0],\"type\":\"scatter\"},{\"name\":\"gurobi_single_flow.max_flood\",\"x\":[100,100,100,100,100,100,300,300,300,300,300,300,500,500,500,500,500,500,100,100,100,100,100,100,300,300,300,300,300,300,500,500,500,500,500,500],\"y\":[5.6,11.6,11.3,16.9,16.7,17.2,5.0,10.0,10.0,15.1,15.0,15.2,4.9,10.0,9.9,15.0,15.0,15.0,5.6,11.2,11.2,17.3,17.1,17.4,5.0,10.0,10.0,15.2,15.0,15.2,5.0,9.0,7.0,13.6,12.0,13.125],\"type\":\"scatter\"},{\"name\":\"gurobi_single_flow.min_flood\",\"x\":[100,100,100,100,100,100,300,300,300,300,300,300,500,500,500,500,500,500,100,100,100,100,100,100,300,300,300,300,300,300,500,500,500,500,500,500],\"y\":[5.6,11.6,11.3,16.9,16.7,17.2,5.0,10.0,10.0,15.1,15.0,15.2,4.9,10.0,9.9,15.0,15.0,15.0,5.6,11.2,11.2,17.3,17.1,17.4,5.0,10.0,10.0,15.2,15.0,15.2,5.0,10.0,10.0,15.11111111111111,15.0,15.0],\"type\":\"scatter\"},{\"name\":\"gurobi_y_binary_multi_flow\",\"x\":[100,100,100,100,100,100,300,300,300,300,300,300,500,500,500,500,500,500,100,100,100,100,100,100,300,300,300,300,300,300,500,500,500,500,500,500],\"y\":[5.6,11.6,11.4,16.9,16.7,17.2,5.0,5.0,3.0,7.9,3.0,1.5,0.4,0.0,0.0,0.0,0.0,0.0,5.6,11.2,11.2,17.3,17.1,17.6,3.5,7.0,2.0,6.0,0.0,0.0,0.0,0.0,0.0,0.0,0.0,null],\"type\":\"scatter\"},{\"name\":\"gurobi_y_binary_single_flow\",\"x\":[100,100,100,100,100,100,300,300,300,300,300,300,500,500,500,500,500,500,100,100,100,100,100,100,300,300,300,300,300,300,500,500,500,500,500,500],\"y\":[5.6,11.6,11.3,16.9,16.7,17.2,5.0,6.0,10.0,7.9,13.5,15.2,0.4,0.0,0.0,1.5,0.0,0.0,5.6,11.2,11.2,17.3,17.1,17.4,2.5,7.0,6.666666666666667,10.5,6.0,10.6,0.0,0.0,0.0,0.0,0.0,0.0],\"type\":\"scatter\"},{\"name\":\"dinic\",\"x\":[100,100,100,100,100,100,300,300,300,300,300,300,500,500,500,500,500,500,100,100,100,100,100,100,300,300,300,300,300,300,500,500,500,500,500,500],\"y\":[42.0,45.5,45.2,44.6,48.0,47.3,127.6,126.9,129.1,125.3,128.4,126.0,214.5,205.8,212.7,209.8,210.6,207.5,45.1,41.5,44.4,44.6,47.8,46.7,124.9,128.3,123.1,122.4,128.4,128.6,207.5,203.0,205.3,208.1,207.3,207.1],\"type\":\"scatter\"},{\"name\":\"max_flood\",\"x\":[100,100,100,100,100,100,300,300,300,300,300,300,500,500,500,500,500,500,100,100,100,100,100,100,300,300,300,300,300,300,500,500,500,500,500,500],\"y\":[57.5,63.0,62.3,61.7,63.1,62.4,178.6,176.7,178.3,172.7,177.9,176.2,289.8,283.1,300.4,293.2,285.9,291.2,64.5,58.4,62.4,63.8,63.2,65.6,180.5,180.1,180.5,175.2,172.0,176.7,287.4,277.9,292.6,285.7,285.6,283.7],\"type\":\"scatter\"},{\"name\":\"max_reuse\",\"x\":[100,100,100,100,100,100,300,300,300,300,300,300,500,500,500,500,500,500,100,100,100,100,100,100,300,300,300,300,300,300,500,500,500,500,500,500],\"y\":[9.7,14.7,16.444444444444443,19.8,20.3,23.6,13.7,17.2,23.2,21.9,27.1,31.444444444444443,13.6,17.2,26.1,22.0,29.33333333333333,36.1,10.3,14.8,18.22222222222222,21.1,21.6,23.77777777777778,14.2,18.2,24.0,22.9,26.5,35.1,17.0,21.9,27.7,24.1,33.5,44.6],\"type\":\"scatter\"},{\"name\":\"min_flood\",\"x\":[100,100,100,100,100,100,300,300,300,300,300,300,500,500,500,500,500,500,100,100,100,100,100,100,300,300,300,300,300,300,500,500,500,500,500,500],\"y\":[46.6,49.3,51.3,48.3,52.0,54.1,138.4,135.9,142.9,135.6,146.8,147.2,227.8,217.3,236.1,225.5,233.7,237.7,48.3,44.6,52.6,49.7,53.9,55.3,135.3,138.4,136.9,133.2,146.6,151.2,221.7,220.6,226.8,227.7,231.5,238.8],\"type\":\"scatter\"},{\"name\":\"min_reuse\",\"x\":[100,100,100,100,100,100,300,300,300,300,300,300,500,500,500,500,500,500,100,100,100,100,100,100,300,300,300,300,300,300,500,500,500,500,500,500],\"y\":[9.4,14.8,16.2,20.0,20.3,22.3,12.0,16.2,21.9,21.1,26.2,29.55555555555556,11.8,15.5,24.77777777777778,21.8,24.6,33.44444444444444,10.3,14.8,18.0,21.0,21.1,23.25,13.1,16.9,24.1,22.1,25.3,33.77777777777778,14.2,20.7,23.1,22.9,30.6,40.44444444444444],\"type\":\"scatter\"},{\"name\":\"no_reuse\",\"x\":[100,100,100,100,100,100,300,300,300,300,300,300,500,500,500,500,500,500,100,100,100,100,100,100,300,300,300,300,300,300,500,500,500,500,500,500],\"y\":[9.3,15.0,16.555555555555557,21.2,21.8,24.3,8.8,15.8,17.9,22.7,22.7,25.4,8.9,15.4,16.9,22.4,21.9,25.7,9.5,15.2,18.4,21.4,22.1,25.6,9.4,15.8,17.2,22.8,23.5,26.0,9.2,16.0,17.5,23.1,23.8,26.0],\"type\":\"scatter\"}],                        {\"template\":{\"data\":{\"histogram2dcontour\":[{\"type\":\"histogram2dcontour\",\"colorbar\":{\"outlinewidth\":0,\"ticks\":\"\"},\"colorscale\":[[0.0,\"#0d0887\"],[0.1111111111111111,\"#46039f\"],[0.2222222222222222,\"#7201a8\"],[0.3333333333333333,\"#9c179e\"],[0.4444444444444444,\"#bd3786\"],[0.5555555555555556,\"#d8576b\"],[0.6666666666666666,\"#ed7953\"],[0.7777777777777778,\"#fb9f3a\"],[0.8888888888888888,\"#fdca26\"],[1.0,\"#f0f921\"]]}],\"choropleth\":[{\"type\":\"choropleth\",\"colorbar\":{\"outlinewidth\":0,\"ticks\":\"\"}}],\"histogram2d\":[{\"type\":\"histogram2d\",\"colorbar\":{\"outlinewidth\":0,\"ticks\":\"\"},\"colorscale\":[[0.0,\"#0d0887\"],[0.1111111111111111,\"#46039f\"],[0.2222222222222222,\"#7201a8\"],[0.3333333333333333,\"#9c179e\"],[0.4444444444444444,\"#bd3786\"],[0.5555555555555556,\"#d8576b\"],[0.6666666666666666,\"#ed7953\"],[0.7777777777777778,\"#fb9f3a\"],[0.8888888888888888,\"#fdca26\"],[1.0,\"#f0f921\"]]}],\"heatmap\":[{\"type\":\"heatmap\",\"colorbar\":{\"outlinewidth\":0,\"ticks\":\"\"},\"colorscale\":[[0.0,\"#0d0887\"],[0.1111111111111111,\"#46039f\"],[0.2222222222222222,\"#7201a8\"],[0.3333333333333333,\"#9c179e\"],[0.4444444444444444,\"#bd3786\"],[0.5555555555555556,\"#d8576b\"],[0.6666666666666666,\"#ed7953\"],[0.7777777777777778,\"#fb9f3a\"],[0.8888888888888888,\"#fdca26\"],[1.0,\"#f0f921\"]]}],\"heatmapgl\":[{\"type\":\"heatmapgl\",\"colorbar\":{\"outlinewidth\":0,\"ticks\":\"\"},\"colorscale\":[[0.0,\"#0d0887\"],[0.1111111111111111,\"#46039f\"],[0.2222222222222222,\"#7201a8\"],[0.3333333333333333,\"#9c179e\"],[0.4444444444444444,\"#bd3786\"],[0.5555555555555556,\"#d8576b\"],[0.6666666666666666,\"#ed7953\"],[0.7777777777777778,\"#fb9f3a\"],[0.8888888888888888,\"#fdca26\"],[1.0,\"#f0f921\"]]}],\"contourcarpet\":[{\"type\":\"contourcarpet\",\"colorbar\":{\"outlinewidth\":0,\"ticks\":\"\"}}],\"contour\":[{\"type\":\"contour\",\"colorbar\":{\"outlinewidth\":0,\"ticks\":\"\"},\"colorscale\":[[0.0,\"#0d0887\"],[0.1111111111111111,\"#46039f\"],[0.2222222222222222,\"#7201a8\"],[0.3333333333333333,\"#9c179e\"],[0.4444444444444444,\"#bd3786\"],[0.5555555555555556,\"#d8576b\"],[0.6666666666666666,\"#ed7953\"],[0.7777777777777778,\"#fb9f3a\"],[0.8888888888888888,\"#fdca26\"],[1.0,\"#f0f921\"]]}],\"surface\":[{\"type\":\"surface\",\"colorbar\":{\"outlinewidth\":0,\"ticks\":\"\"},\"colorscale\":[[0.0,\"#0d0887\"],[0.1111111111111111,\"#46039f\"],[0.2222222222222222,\"#7201a8\"],[0.3333333333333333,\"#9c179e\"],[0.4444444444444444,\"#bd3786\"],[0.5555555555555556,\"#d8576b\"],[0.6666666666666666,\"#ed7953\"],[0.7777777777777778,\"#fb9f3a\"],[0.8888888888888888,\"#fdca26\"],[1.0,\"#f0f921\"]]}],\"mesh3d\":[{\"type\":\"mesh3d\",\"colorbar\":{\"outlinewidth\":0,\"ticks\":\"\"}}],\"scatter\":[{\"fillpattern\":{\"fillmode\":\"overlay\",\"size\":10,\"solidity\":0.2},\"type\":\"scatter\"}],\"parcoords\":[{\"type\":\"parcoords\",\"line\":{\"colorbar\":{\"outlinewidth\":0,\"ticks\":\"\"}}}],\"scatterpolargl\":[{\"type\":\"scatterpolargl\",\"marker\":{\"colorbar\":{\"outlinewidth\":0,\"ticks\":\"\"}}}],\"bar\":[{\"error_x\":{\"color\":\"#2a3f5f\"},\"error_y\":{\"color\":\"#2a3f5f\"},\"marker\":{\"line\":{\"color\":\"#E5ECF6\",\"width\":0.5},\"pattern\":{\"fillmode\":\"overlay\",\"size\":10,\"solidity\":0.2}},\"type\":\"bar\"}],\"scattergeo\":[{\"type\":\"scattergeo\",\"marker\":{\"colorbar\":{\"outlinewidth\":0,\"ticks\":\"\"}}}],\"scatterpolar\":[{\"type\":\"scatterpolar\",\"marker\":{\"colorbar\":{\"outlinewidth\":0,\"ticks\":\"\"}}}],\"histogram\":[{\"marker\":{\"pattern\":{\"fillmode\":\"overlay\",\"size\":10,\"solidity\":0.2}},\"type\":\"histogram\"}],\"scattergl\":[{\"type\":\"scattergl\",\"marker\":{\"colorbar\":{\"outlinewidth\":0,\"ticks\":\"\"}}}],\"scatter3d\":[{\"type\":\"scatter3d\",\"line\":{\"colorbar\":{\"outlinewidth\":0,\"ticks\":\"\"}},\"marker\":{\"colorbar\":{\"outlinewidth\":0,\"ticks\":\"\"}}}],\"scattermapbox\":[{\"type\":\"scattermapbox\",\"marker\":{\"colorbar\":{\"outlinewidth\":0,\"ticks\":\"\"}}}],\"scatterternary\":[{\"type\":\"scatterternary\",\"marker\":{\"colorbar\":{\"outlinewidth\":0,\"ticks\":\"\"}}}],\"scattercarpet\":[{\"type\":\"scattercarpet\",\"marker\":{\"colorbar\":{\"outlinewidth\":0,\"ticks\":\"\"}}}],\"carpet\":[{\"aaxis\":{\"endlinecolor\":\"#2a3f5f\",\"gridcolor\":\"white\",\"linecolor\":\"white\",\"minorgridcolor\":\"white\",\"startlinecolor\":\"#2a3f5f\"},\"baxis\":{\"endlinecolor\":\"#2a3f5f\",\"gridcolor\":\"white\",\"linecolor\":\"white\",\"minorgridcolor\":\"white\",\"startlinecolor\":\"#2a3f5f\"},\"type\":\"carpet\"}],\"table\":[{\"cells\":{\"fill\":{\"color\":\"#EBF0F8\"},\"line\":{\"color\":\"white\"}},\"header\":{\"fill\":{\"color\":\"#C8D4E3\"},\"line\":{\"color\":\"white\"}},\"type\":\"table\"}],\"barpolar\":[{\"marker\":{\"line\":{\"color\":\"#E5ECF6\",\"width\":0.5},\"pattern\":{\"fillmode\":\"overlay\",\"size\":10,\"solidity\":0.2}},\"type\":\"barpolar\"}],\"pie\":[{\"automargin\":true,\"type\":\"pie\"}]},\"layout\":{\"autotypenumbers\":\"strict\",\"colorway\":[\"#636efa\",\"#EF553B\",\"#00cc96\",\"#ab63fa\",\"#FFA15A\",\"#19d3f3\",\"#FF6692\",\"#B6E880\",\"#FF97FF\",\"#FECB52\"],\"font\":{\"color\":\"#2a3f5f\"},\"hovermode\":\"closest\",\"hoverlabel\":{\"align\":\"left\"},\"paper_bgcolor\":\"white\",\"plot_bgcolor\":\"#E5ECF6\",\"polar\":{\"bgcolor\":\"#E5ECF6\",\"angularaxis\":{\"gridcolor\":\"white\",\"linecolor\":\"white\",\"ticks\":\"\"},\"radialaxis\":{\"gridcolor\":\"white\",\"linecolor\":\"white\",\"ticks\":\"\"}},\"ternary\":{\"bgcolor\":\"#E5ECF6\",\"aaxis\":{\"gridcolor\":\"white\",\"linecolor\":\"white\",\"ticks\":\"\"},\"baxis\":{\"gridcolor\":\"white\",\"linecolor\":\"white\",\"ticks\":\"\"},\"caxis\":{\"gridcolor\":\"white\",\"linecolor\":\"white\",\"ticks\":\"\"}},\"coloraxis\":{\"colorbar\":{\"outlinewidth\":0,\"ticks\":\"\"}},\"colorscale\":{\"sequential\":[[0.0,\"#0d0887\"],[0.1111111111111111,\"#46039f\"],[0.2222222222222222,\"#7201a8\"],[0.3333333333333333,\"#9c179e\"],[0.4444444444444444,\"#bd3786\"],[0.5555555555555556,\"#d8576b\"],[0.6666666666666666,\"#ed7953\"],[0.7777777777777778,\"#fb9f3a\"],[0.8888888888888888,\"#fdca26\"],[1.0,\"#f0f921\"]],\"sequentialminus\":[[0.0,\"#0d0887\"],[0.1111111111111111,\"#46039f\"],[0.2222222222222222,\"#7201a8\"],[0.3333333333333333,\"#9c179e\"],[0.4444444444444444,\"#bd3786\"],[0.5555555555555556,\"#d8576b\"],[0.6666666666666666,\"#ed7953\"],[0.7777777777777778,\"#fb9f3a\"],[0.8888888888888888,\"#fdca26\"],[1.0,\"#f0f921\"]],\"diverging\":[[0,\"#8e0152\"],[0.1,\"#c51b7d\"],[0.2,\"#de77ae\"],[0.3,\"#f1b6da\"],[0.4,\"#fde0ef\"],[0.5,\"#f7f7f7\"],[0.6,\"#e6f5d0\"],[0.7,\"#b8e186\"],[0.8,\"#7fbc41\"],[0.9,\"#4d9221\"],[1,\"#276419\"]]},\"xaxis\":{\"gridcolor\":\"white\",\"linecolor\":\"white\",\"ticks\":\"\",\"title\":{\"standoff\":15},\"zerolinecolor\":\"white\",\"automargin\":true,\"zerolinewidth\":2},\"yaxis\":{\"gridcolor\":\"white\",\"linecolor\":\"white\",\"ticks\":\"\",\"title\":{\"standoff\":15},\"zerolinecolor\":\"white\",\"automargin\":true,\"zerolinewidth\":2},\"scene\":{\"xaxis\":{\"backgroundcolor\":\"#E5ECF6\",\"gridcolor\":\"white\",\"linecolor\":\"white\",\"showbackground\":true,\"ticks\":\"\",\"zerolinecolor\":\"white\",\"gridwidth\":2},\"yaxis\":{\"backgroundcolor\":\"#E5ECF6\",\"gridcolor\":\"white\",\"linecolor\":\"white\",\"showbackground\":true,\"ticks\":\"\",\"zerolinecolor\":\"white\",\"gridwidth\":2},\"zaxis\":{\"backgroundcolor\":\"#E5ECF6\",\"gridcolor\":\"white\",\"linecolor\":\"white\",\"showbackground\":true,\"ticks\":\"\",\"zerolinecolor\":\"white\",\"gridwidth\":2}},\"shapedefaults\":{\"line\":{\"color\":\"#2a3f5f\"}},\"annotationdefaults\":{\"arrowcolor\":\"#2a3f5f\",\"arrowhead\":0,\"arrowwidth\":1},\"geo\":{\"bgcolor\":\"white\",\"landcolor\":\"#E5ECF6\",\"subunitcolor\":\"white\",\"showland\":true,\"showlakes\":true,\"lakecolor\":\"white\"},\"title\":{\"x\":0.05},\"mapbox\":{\"style\":\"light\"}}}},                        {\"responsive\": true}                    ).then(function(){\n",
       "                            \n",
       "var gd = document.getElementById('fb13e5b7-3ab8-4df4-b78a-5a2c833c3391');\n",
       "var x = new MutationObserver(function (mutations, observer) {{\n",
       "        var display = window.getComputedStyle(gd).display;\n",
       "        if (!display || display === 'none') {{\n",
       "            console.log([gd, 'removed!']);\n",
       "            Plotly.purge(gd);\n",
       "            observer.disconnect();\n",
       "        }}\n",
       "}});\n",
       "\n",
       "// Listen for the removal of the full notebook cells\n",
       "var notebookContainer = gd.closest('#notebook-container');\n",
       "if (notebookContainer) {{\n",
       "    x.observe(notebookContainer, {childList: true});\n",
       "}}\n",
       "\n",
       "// Listen for the clearing of the current output cell\n",
       "var outputEl = gd.closest('.output');\n",
       "if (outputEl) {{\n",
       "    x.observe(outputEl, {childList: true});\n",
       "}}\n",
       "\n",
       "                        })                };                });            </script>        </div>"
      ]
     },
     "metadata": {},
     "output_type": "display_data"
    }
   ],
   "source": [
    "qualidade = get_column('mean_lower_bound')\n",
    "\n",
    "fig = go.Figure(data=[\n",
    "    go.Scatter(x=qualidade['sensors'], y=qualidade[col], name=col)\n",
    "    for col in cols_gurobi+cols_heur\n",
    "])\n",
    "fig.show()"
   ]
  },
  {
   "cell_type": "code",
   "execution_count": null,
   "id": "4553950c",
   "metadata": {},
   "outputs": [],
   "source": []
  },
  {
   "cell_type": "code",
   "execution_count": null,
   "id": "e0b3e128",
   "metadata": {},
   "outputs": [],
   "source": []
  },
  {
   "cell_type": "code",
   "execution_count": null,
   "id": "01247f86",
   "metadata": {},
   "outputs": [],
   "source": []
  },
  {
   "cell_type": "code",
   "execution_count": null,
   "id": "e7bf7ed6",
   "metadata": {},
   "outputs": [],
   "source": []
  },
  {
   "cell_type": "code",
   "execution_count": null,
   "id": "ba34755a",
   "metadata": {},
   "outputs": [],
   "source": []
  },
  {
   "cell_type": "code",
   "execution_count": null,
   "id": "f22fdb16",
   "metadata": {},
   "outputs": [],
   "source": []
  },
  {
   "cell_type": "code",
   "execution_count": null,
   "id": "fdca4810",
   "metadata": {},
   "outputs": [],
   "source": []
  },
  {
   "cell_type": "code",
   "execution_count": null,
   "id": "1ecaddfd",
   "metadata": {},
   "outputs": [],
   "source": []
  },
  {
   "cell_type": "code",
   "execution_count": null,
   "id": "c4dd92dc",
   "metadata": {},
   "outputs": [],
   "source": []
  },
  {
   "cell_type": "code",
   "execution_count": null,
   "id": "8d35d436",
   "metadata": {},
   "outputs": [],
   "source": []
  },
  {
   "cell_type": "code",
   "execution_count": null,
   "id": "3f3d79fc",
   "metadata": {},
   "outputs": [],
   "source": []
  },
  {
   "cell_type": "code",
   "execution_count": null,
   "id": "0023051a",
   "metadata": {},
   "outputs": [],
   "source": []
  },
  {
   "cell_type": "code",
   "execution_count": null,
   "id": "de0ebdb3",
   "metadata": {},
   "outputs": [],
   "source": []
  },
  {
   "cell_type": "code",
   "execution_count": null,
   "id": "88ecf1c3",
   "metadata": {},
   "outputs": [],
   "source": []
  },
  {
   "cell_type": "code",
   "execution_count": null,
   "id": "238c7a9a",
   "metadata": {},
   "outputs": [],
   "source": []
  },
  {
   "cell_type": "code",
   "execution_count": null,
   "id": "bd3e37e2",
   "metadata": {},
   "outputs": [],
   "source": []
  },
  {
   "cell_type": "code",
   "execution_count": null,
   "id": "a90f3140",
   "metadata": {},
   "outputs": [],
   "source": []
  },
  {
   "cell_type": "code",
   "execution_count": null,
   "id": "59879ef3",
   "metadata": {},
   "outputs": [],
   "source": []
  },
  {
   "cell_type": "code",
   "execution_count": null,
   "id": "360ffcec",
   "metadata": {},
   "outputs": [],
   "source": []
  },
  {
   "cell_type": "code",
   "execution_count": null,
   "id": "df5265b6",
   "metadata": {},
   "outputs": [],
   "source": []
  },
  {
   "cell_type": "code",
   "execution_count": null,
   "id": "bc697533",
   "metadata": {},
   "outputs": [],
   "source": []
  },
  {
   "cell_type": "code",
   "execution_count": null,
   "id": "e20b641e",
   "metadata": {},
   "outputs": [],
   "source": []
  },
  {
   "cell_type": "code",
   "execution_count": null,
   "id": "92abac69",
   "metadata": {},
   "outputs": [],
   "source": []
  },
  {
   "cell_type": "code",
   "execution_count": null,
   "id": "b7fac793",
   "metadata": {},
   "outputs": [],
   "source": []
  },
  {
   "cell_type": "code",
   "execution_count": null,
   "id": "475daf51",
   "metadata": {},
   "outputs": [],
   "source": []
  },
  {
   "cell_type": "markdown",
   "id": "276aa3ab",
   "metadata": {},
   "source": [
    "# GENERIC"
   ]
  },
  {
   "cell_type": "code",
   "execution_count": null,
   "id": "ec3823c2",
   "metadata": {},
   "outputs": [],
   "source": [
    "def get_model_results(heuristic_name, model_name,\n",
    "                      max_k=5, max_m=5,\n",
    "                      file_name='results.pq', expected_instances=10,\n",
    "                      verbose=True):\n",
    "\n",
    "\n",
    "    # DATA PREP ---------------------------------------------\n",
    "    df = pd.read_parquet(file_name)\n",
    "    all_data = len(df)\n",
    "    index = [\n",
    "        'pois', 'sensors', 'sinks',\n",
    "        # 'area_side', 'coverage_radius', 'communication_radius',\n",
    "        'k', 'm'\n",
    "    ]\n",
    "\n",
    "\n",
    "    # FILTERS AND METADATA ---------------------------------\n",
    "\n",
    "    # Get only the desired heuristic, model, and K and M no larger than the max specified\n",
    "    df = df[  (df['heuristic_name'] == heuristic_name)\n",
    "            & (df['gurobi_model_name'] == model_name)\n",
    "            & (df['k'] <= max_k) & (df['m'] <= max_m)].copy()\n",
    "\n",
    "    # Prepare the aggregate result\n",
    "    agg = df[index].drop_duplicates().sort_values(index).reset_index(drop=True).copy()\n",
    "\n",
    "    # Count the number of instances with any results\n",
    "    sdf = (\n",
    "        df[index+['random_seed']].groupby(index).nunique()\n",
    "        .sort_index().reset_index()\n",
    "        .rename(columns={'random_seed': 'num_instances'})\n",
    "    ).copy()\n",
    "    agg.loc[:, 'num_instances'] = sdf['num_instances'].copy(deep=True)\n",
    "\n",
    "    # Apply the filter\n",
    "    df = df.merge(sdf.drop(columns=['num_instances']))\n",
    "    if verbose: print(f'Filtered {len(df)} of {all_data} rows')\n",
    "    assert len(df) == expected_instances * len(sdf), (len(df), (expected_instances * len(sdf)))\n",
    "\n",
    "\n",
    "    # QUANTIFIERS ---------------------------------------\n",
    "\n",
    "    # Get the Gurobi Optimal Solution Found column\n",
    "    opt = df[df['gurobi_optimal']]\n",
    "    sdf = (\n",
    "        opt[index+['random_seed']].groupby(index).nunique()\n",
    "        .sort_index().reset_index()\n",
    "        .rename(columns={'random_seed': 'num_optimal'})\n",
    "    ).copy()\n",
    "    agg.loc[:, 'num_optimal'] = sdf['num_optimal'].copy(deep=True)\n",
    "\n",
    "    if verbose: print(f'Have {len(opt)} optimal results of {len(df)}')\n",
    "\n",
    "    # Get the Gurobi Integer Solution Found column\n",
    "    sdf = (\n",
    "        df[df['gurobi_solutions_count'] > 0]\n",
    "        [index+['random_seed']].groupby(index).nunique()\n",
    "        .sort_index().reset_index()\n",
    "        .rename(columns={'random_seed': 'num_integer_solution'})\n",
    "    ).copy()\n",
    "    agg.loc[:, 'num_integer_solution'] = sdf['num_integer_solution'].copy(deep=True)\n",
    "\n",
    "    # Get the Gurobi Non-Zero Solution Found column\n",
    "    # Every instance has a possible solution, so its always the same as the num of instances\n",
    "    agg.loc[:, 'num_nonzero_solution'] = agg['num_instances'].copy(deep=True)\n",
    "\n",
    "\n",
    "    # GLOBAL AVERAGES -------------------------------------\n",
    "    sdf = (\n",
    "        df[index+['gurobi_node_count', 'gurobi_bound', 'gurobi_bound_c']].groupby(index).mean()\n",
    "        .sort_index().reset_index()\n",
    "        .rename(columns={'gurobi_node_count': 'mean_nodes',\n",
    "                         'gurobi_bound': 'mean_lower_bound',\n",
    "                         'gurobi_bound_c': 'mean_upper_bound'})\n",
    "    ).copy()\n",
    "    agg.loc[:, 'mean_nodes'] = sdf['mean_nodes'].copy(deep=True)\n",
    "    agg.loc[:, 'mean_lower_bound'] = sdf['mean_lower_bound'].copy(deep=True)\n",
    "    agg.loc[:, 'mean_upper_bound'] = sdf['mean_upper_bound'].copy(deep=True)\n",
    "\n",
    "\n",
    "    sdf = (\n",
    "        df[index+['gurobi_mip_gap']].dropna()\n",
    "        [df['gurobi_mip_gap'] < df['sensors']]\n",
    "        .groupby(index).mean()\n",
    "        .sort_index().reset_index()\n",
    "        .rename(columns={'gurobi_mip_gap': 'mean_gap'})\n",
    "    ).copy()\n",
    "    agg.loc[:, 'mean_gap'] = sdf['mean_gap'].copy(deep=True)\n",
    "\n",
    "\n",
    "    # GUROBI OPTIMAL AVERAGES -------------------------------------\n",
    "    sdf = (\n",
    "        opt[index+['gurobi_run_time']].groupby(index).mean()\n",
    "        .sort_index().reset_index()\n",
    "        .rename(columns={'gurobi_run_time': 'mean_gurobi_time'})\n",
    "    ).copy()\n",
    "    agg.loc[:, 'mean_gurobi_time'] = sdf['mean_gurobi_time'].copy(deep=True)\n",
    "\n",
    "    return df, agg"
   ]
  },
  {
   "cell_type": "markdown",
   "id": "c459589e",
   "metadata": {},
   "source": [
    "# SBPO 2022"
   ]
  },
  {
   "cell_type": "code",
   "execution_count": null,
   "id": "bd3a540a",
   "metadata": {},
   "outputs": [],
   "source": [
    "df, agg = get_model_results('None', 'gurobi_y_binary_multi_flow', max_k=2, max_m=2)\n",
    "\n",
    "agg = agg.drop(columns='num_instances')\n",
    "int_cols = ['pois', 'sensors', 'k', 'm', 'num_optimal', 'num_integer_solution', 'num_nonzero_solution']\n",
    "float_cols = ['mean_nodes', 'mean_lower_bound', 'mean_upper_bound', 'mean_gap', 'mean_gurobi_time']\n",
    "agg = agg[int_cols+float_cols].copy()\n",
    "agg.loc[:, int_cols] = agg[int_cols].applymap(lambda v: int(v) if str(v).lower() != 'nan' else '-')\n",
    "agg.loc[:, float_cols] = agg[float_cols].applymap(lambda v: round(float(v), 2) if str(v).lower() != 'nan' else '-')\n",
    "agg.columns = ['|P|', '|I|', 'K', 'M', '#opt', '#int', '#non-zero', '#nodes', 'LB', 'UB', '%GAP', 'time(s)']\n",
    "\n",
    "#print(agg.to_latex(index=None))\n",
    "agg"
   ]
  },
  {
   "cell_type": "code",
   "execution_count": null,
   "id": "2ff35d68",
   "metadata": {},
   "outputs": [],
   "source": []
  }
 ],
 "metadata": {
  "kernelspec": {
   "display_name": "Python 3 (ipykernel)",
   "language": "python",
   "name": "python3"
  },
  "language_info": {
   "codemirror_mode": {
    "name": "ipython",
    "version": 3
   },
   "file_extension": ".py",
   "mimetype": "text/x-python",
   "name": "python",
   "nbconvert_exporter": "python",
   "pygments_lexer": "ipython3",
   "version": "3.7.12"
  }
 },
 "nbformat": 4,
 "nbformat_minor": 5
}
