{
 "cells": [
  {
   "cell_type": "code",
   "execution_count": 2,
   "id": "bbad58f7",
   "metadata": {},
   "outputs": [
    {
     "data": {
      "application/vnd.jupyter.widget-view+json": {
       "model_id": "e2dda79eb4bb432aacb9667bcf879e27",
       "version_major": 2,
       "version_minor": 0
      },
      "text/plain": [
       "  0%|          | 0/22782 [00:00<?, ?it/s]"
      ]
     },
     "metadata": {},
     "output_type": "display_data"
    }
   ],
   "source": [
    "import subprocess\n",
    "from tqdm.notebook import tqdm\n",
    "\n",
    "import pandas as pd\n",
    "df = pd.read_csv('/data/small_instances.csv', sep='|', header=None)\n",
    "list_instances = df[0].unique().tolist()\n",
    "\n",
    "pbar = tqdm(total=6*len(list_instances))\n",
    "maxes = {}\n",
    "for instance in list_instances:\n",
    "    maxes[instance] = (0, 0)\n",
    "    for k in [1, 2, 3]:\n",
    "        for m in [1, 2, 3]:\n",
    "            if k < m: continue\n",
    "\n",
    "            out = subprocess.Popen(\n",
    "                list(map(str, ['/app/instance_evaluator', k, m, instance])),\n",
    "                stdout=subprocess.PIPE, stderr=subprocess.STDOUT\n",
    "            )\n",
    "            stdout,stderr = out.communicate()\n",
    "            assert out.returncode == 0\n",
    "            \n",
    "            if 'success' in stdout.decode().lower():\n",
    "                if (k, m) > maxes[instance]:\n",
    "                    maxes[instance] = (k, m)        \n",
    "            pbar.update(1)\n",
    "pbar.close()"
   ]
  },
  {
   "cell_type": "code",
   "execution_count": 6,
   "id": "7a23bda3",
   "metadata": {},
   "outputs": [
    {
     "ename": "StopIteration",
     "evalue": "",
     "output_type": "error",
     "traceback": [
      "\u001b[0;31m---------------------------------------------------------------------------\u001b[0m",
      "\u001b[0;31mStopIteration\u001b[0m                             Traceback (most recent call last)",
      "\u001b[0;32m/tmp/ipykernel_6247/2739054929.py\u001b[0m in \u001b[0;36m<module>\u001b[0;34m\u001b[0m\n\u001b[0;32m----> 1\u001b[0;31m \u001b[0mnext\u001b[0m\u001b[0;34m(\u001b[0m\u001b[0mi\u001b[0m \u001b[0;32mfor\u001b[0m \u001b[0mi\u001b[0m\u001b[0;34m,\u001b[0m \u001b[0mv\u001b[0m \u001b[0;32min\u001b[0m \u001b[0mmaxes\u001b[0m\u001b[0;34m.\u001b[0m\u001b[0mitems\u001b[0m\u001b[0;34m(\u001b[0m\u001b[0;34m)\u001b[0m \u001b[0;32mif\u001b[0m \u001b[0;36m0\u001b[0m \u001b[0;32min\u001b[0m \u001b[0mv\u001b[0m\u001b[0;34m)\u001b[0m\u001b[0;34m\u001b[0m\u001b[0;34m\u001b[0m\u001b[0m\n\u001b[0m",
      "\u001b[0;31mStopIteration\u001b[0m: "
     ]
    }
   ],
   "source": [
    "next(i for i, v in maxes.items() if 0 in v)"
   ]
  },
  {
   "cell_type": "code",
   "execution_count": 16,
   "id": "87b0e748",
   "metadata": {},
   "outputs": [],
   "source": [
    "pd.DataFrame([{'instance': i, 'kcmc': f'(K{v[0]}M{v[1]})'} for i, v in maxes.items()]\n",
    "            ).to_csv('/data/tstr.small_instances.csv', sep='|', header=None, index=None)"
   ]
  },
  {
   "cell_type": "code",
   "execution_count": null,
   "id": "440efdb5",
   "metadata": {},
   "outputs": [],
   "source": []
  }
 ],
 "metadata": {
  "kernelspec": {
   "display_name": "Python 3 (ipykernel)",
   "language": "python",
   "name": "python3"
  },
  "language_info": {
   "codemirror_mode": {
    "name": "ipython",
    "version": 3
   },
   "file_extension": ".py",
   "mimetype": "text/x-python",
   "name": "python",
   "nbconvert_exporter": "python",
   "pygments_lexer": "ipython3",
   "version": "3.7.12"
  }
 },
 "nbformat": 4,
 "nbformat_minor": 5
}
