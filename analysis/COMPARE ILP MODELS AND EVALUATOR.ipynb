{
 "cells": [
  {
   "cell_type": "code",
   "execution_count": null,
   "id": "e8af47da",
   "metadata": {},
   "outputs": [],
   "source": [
    "import os.path\n",
    "import subprocess\n",
    "\n",
    "import pandas as pd\n",
    "\n",
    "from kcmc_instance import KCMC_Instance\n",
    "\n",
    "from gurobi_models import gurobi_multi_flow, gurobi_single_flow, get_installation\n",
    "\n",
    "\n",
    "from tqdm.notebook import tqdm\n",
    "    \n",
    "\n",
    "\n",
    "list_serialized_instances = pd.read_csv('/data/instances.csv', header=None)[0].tolist()[:1000]\n",
    "\n",
    "K = 3\n",
    "M = 2\n",
    "\n",
    "GUROBI_TIMEOUT = 60\n",
    "GUROBI_THREADS = 4"
   ]
  },
  {
   "cell_type": "code",
   "execution_count": null,
   "id": "0e3a1745",
   "metadata": {},
   "outputs": [],
   "source": [
    "def get_cache(prefix):\n",
    "    file = f'/data/{prefix}_{K}_{M}.pq'\n",
    "    if os.path.exists(file):\n",
    "        data = pd.read_parquet(file)\n",
    "        cache = set(data['serialized_instance'].unique())\n",
    "        return data.to_dict(orient='records'), cache\n",
    "    return [], set()\n",
    "\n",
    "def to_cache(prefix, df):\n",
    "    file = f'/data/{prefix}_{K}_{M}.pq'\n",
    "    df.to_parquet(file)"
   ]
  },
  {
   "cell_type": "code",
   "execution_count": null,
   "id": "7690262d",
   "metadata": {
    "scrolled": true
   },
   "outputs": [],
   "source": [
    "gurobi_mf_data, cache = get_cache('gurobi_mf')\n",
    "for ser_instance in tqdm(list_serialized_instances):\n",
    "    if ser_instance in cache: continue\n",
    "    try:\n",
    "        obj_instance = KCMC_Instance(ser_instance, False, True, True)\n",
    "    except: continue\n",
    "        \n",
    "    model, X, Y = gurobi_multi_flow(K, M, obj_instance, GUROBI_TIMEOUT, GUROBI_THREADS)\n",
    "    results = model.optimize()\n",
    "    \n",
    "    gurobi_mf_data.append({\n",
    "        'serialized_instance': ser_instance,\n",
    "        'gurobi_mf_status': results['status'],\n",
    "        'gurobi_mf_feasible': results['status'] == 'OPTIMAL',\n",
    "        'gurobi_mf_runtime': results['gurobi_runtime']\n",
    "    })\n",
    "    \n",
    "    #print('\\n\\n', obj_instance)\n",
    "    #print(results['status'], results['gurobi_runtime'])\n",
    "    if results['status'] in {'OPTIMAL'}:\n",
    "        wsn, installation = get_installation(X)\n",
    "        #print(len(wsn), len(installation), round(len(installation)/len(wsn), 3))        \n",
    "        gurobi_mf_data[-1].update({'gurobi_mf_installation': installation,\n",
    "                                   'gurobi_mf_size': len(installation),\n",
    "                                   'gurobi_mf_quality': len(installation)/len(wsn)})\n",
    "        \n",
    "gurobi_mf_data = pd.DataFrame(gurobi_mf_data)\n",
    "to_cache('gurobi_mf', gurobi_mf_data)\n",
    "len(gurobi_mf_data)"
   ]
  },
  {
   "cell_type": "code",
   "execution_count": null,
   "id": "2d0a82ad",
   "metadata": {},
   "outputs": [],
   "source": [
    "gurobi_sf_data, cache = get_cache('gurobi_sf')\n",
    "for ser_instance in tqdm(list_serialized_instances):\n",
    "    if ser_instance in cache: continue\n",
    "    try:\n",
    "        obj_instance = KCMC_Instance(ser_instance, False, True, True)\n",
    "    except: continue\n",
    "        \n",
    "    model, X, Y = gurobi_single_flow(K, M, obj_instance, GUROBI_TIMEOUT, GUROBI_THREADS)\n",
    "    results = model.optimize()\n",
    "    \n",
    "    gurobi_sf_data.append({\n",
    "        'serialized_instance': ser_instance,\n",
    "        'gurobi_sf_status': results['status'],\n",
    "        'gurobi_sf_feasible': results['status'] == 'OPTIMAL',\n",
    "        'gurobi_sf_runtime': results['gurobi_runtime']\n",
    "    })\n",
    "    \n",
    "    #print('\\n\\n', obj_instance)\n",
    "    #print(results['status'], results['gurobi_runtime'])\n",
    "    if results['status'] in {'OPTIMAL'}:\n",
    "        wsn, installation = get_installation(X)\n",
    "        #print(len(wsn), len(installation), round(len(installation)/len(wsn), 3))        \n",
    "        gurobi_sf_data[-1].update({'gurobi_sf_installation': installation,\n",
    "                                   'gurobi_sf_size': len(installation),\n",
    "                                   'gurobi_sf_quality': len(installation)/len(wsn)})\n",
    "        \n",
    "gurobi_sf_data = pd.DataFrame(gurobi_sf_data)\n",
    "to_cache('gurobi_sf', gurobi_sf_data)\n",
    "len(gurobi_sf_data)"
   ]
  },
  {
   "cell_type": "code",
   "execution_count": null,
   "id": "3d9e6f56",
   "metadata": {},
   "outputs": [],
   "source": [
    "eval_data, cache = get_cache('eval')\n",
    "for ser_instance in tqdm(list_serialized_instances):\n",
    "    if ser_instance in cache: continue   \n",
    "    result_evaluator = subprocess.run([\n",
    "        \"time\", \"-f\", \"%P %S %U\",\n",
    "        \"/builds/instance_evaluator\", \n",
    "        str(K), str(M), ser_instance\n",
    "    ], capture_output=True)\n",
    "    \n",
    "    assert int(result_evaluator.returncode) == 0\n",
    "    \n",
    "    output = result_evaluator.stdout.decode()\n",
    "    i, j = output.replace('\\t', '').split('|')\n",
    "    status = (i.split(':')[-1].strip(), j.split(':')[-1].strip())\n",
    "    feasible = status == ('SUCCESS', 'SUCCESS')\n",
    "    \n",
    "    cpu, systime, usertime = map(\n",
    "        float,\n",
    "        result_evaluator.stderr.decode().replace('%', 'e-2').split(' ')\n",
    "    )\n",
    "    \n",
    "    eval_data.append({\n",
    "        'serialized_instance': ser_instance,\n",
    "        'eval_status': status, 'eval_feasible': feasible,\n",
    "        'eval_runtime': (systime+usertime)*cpu,\n",
    "        'eval_cpu': cpu, 'eval_sys_time': systime, 'eval_user_time': usertime\n",
    "    })\n",
    "    \n",
    "eval_data = pd.DataFrame(eval_data)\n",
    "to_cache('eval', eval_data)\n",
    "len(eval_data)"
   ]
  },
  {
   "cell_type": "code",
   "execution_count": null,
   "id": "3f877be3",
   "metadata": {},
   "outputs": [],
   "source": [
    "df = (eval_data\n",
    "      .merge(gurobi_mf_data)\n",
    "      .merge(gurobi_sf_data)\n",
    ").sort_values('serialized_instance').reset_index(drop=True).copy()"
   ]
  },
  {
   "cell_type": "code",
   "execution_count": null,
   "id": "809596cc",
   "metadata": {},
   "outputs": [],
   "source": [
    "df_diff = df[\n",
    "    (df['gurobi_mf_feasible'] != df['eval_feasible'])\n",
    "  | (df['gurobi_sf_feasible'] != df['eval_feasible'])\n",
    "  | (df['gurobi_mf_feasible'] != df['gurobi_sf_feasible'])\n",
    "  | (df['gurobi_mf_size'].fillna(-1) != df['gurobi_sf_size'].fillna(-1))\n",
    "]\n",
    "\n",
    "assert len(df_diff) == 0"
   ]
  },
  {
   "cell_type": "code",
   "execution_count": null,
   "id": "9b01effa",
   "metadata": {},
   "outputs": [],
   "source": [
    "VIEW = [#'serialized_instance',\n",
    "    'gurobi_mf_feasible', 'gurobi_sf_feasible', 'eval_feasible',\n",
    "    # 'gurobi_mf_status', 'gurobi_sf_status', 'eval_status',\n",
    "    'gurobi_mf_size', 'gurobi_sf_size',\n",
    "    'gurobi_mf_runtime', 'gurobi_sf_runtime', 'eval_runtime',\n",
    "    # 'eval_sys_time', 'eval_user_time',  'eval_cpu'\n",
    "]\n",
    "\n",
    "\n",
    "\n",
    "df_diff[VIEW]"
   ]
  },
  {
   "cell_type": "code",
   "execution_count": null,
   "id": "8068ded0",
   "metadata": {},
   "outputs": [],
   "source": [
    "!pip install plotly"
   ]
  },
  {
   "cell_type": "code",
   "execution_count": null,
   "id": "37f893ae",
   "metadata": {},
   "outputs": [],
   "source": [
    "import plotly.graph_objects as go\n",
    "\n",
    "fig = go.Figure()\n",
    "\n",
    "fig.add_trace(go.Scatter(x=df.index, y=df['gurobi_mf_runtime'],\n",
    "                         mode='lines', name='GUROBY MULTI'))\n",
    "fig.add_trace(go.Scatter(x=df.index, y=df['gurobi_sf_runtime'],\n",
    "                         mode='lines', name='GUROBY SINGLE'))\n",
    "fig.add_trace(go.Scatter(x=df.index, y=df['eval_runtime']*100,\n",
    "                         mode='lines', name='EVAL x100'))\n",
    "\n",
    "fig.show()"
   ]
  },
  {
   "cell_type": "code",
   "execution_count": null,
   "id": "13b1bdc4",
   "metadata": {},
   "outputs": [],
   "source": [
    "df[VIEW].sort_values('gurobi_sf_runtime')"
   ]
  },
  {
   "cell_type": "code",
   "execution_count": null,
   "id": "b5e11096",
   "metadata": {},
   "outputs": [],
   "source": [
    "ROW = df.loc[55]\n",
    "KCMC_Instance(ROW['serialized_instance'], False, True, True).plot(\n",
    "    labels=True, installation=ROW['gurobi_mf_installation'], minimal=True)"
   ]
  },
  {
   "cell_type": "code",
   "execution_count": null,
   "id": "afec9ced",
   "metadata": {},
   "outputs": [],
   "source": [
    "KCMC_Instance(ROW['serialized_instance'], False, True, True).plot(\n",
    "    labels=True, installation=ROW['gurobi_sf_installation'], minimal=True)"
   ]
  },
  {
   "cell_type": "code",
   "execution_count": null,
   "id": "d56408ce",
   "metadata": {},
   "outputs": [],
   "source": [
    "ROW['gurobi_sf_installation']"
   ]
  },
  {
   "cell_type": "code",
   "execution_count": null,
   "id": "a139db0e",
   "metadata": {},
   "outputs": [],
   "source": []
  }
 ],
 "metadata": {
  "kernelspec": {
   "display_name": "Python 3 (ipykernel)",
   "language": "python",
   "name": "python3"
  },
  "language_info": {
   "codemirror_mode": {
    "name": "ipython",
    "version": 3
   },
   "file_extension": ".py",
   "mimetype": "text/x-python",
   "name": "python",
   "nbconvert_exporter": "python",
   "pygments_lexer": "ipython3",
   "version": "3.7.12"
  }
 },
 "nbformat": 4,
 "nbformat_minor": 5
}
