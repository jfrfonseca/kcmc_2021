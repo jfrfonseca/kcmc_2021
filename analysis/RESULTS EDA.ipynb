{
 "cells": [
  {
   "cell_type": "markdown",
   "id": "930bf831",
   "metadata": {},
   "source": [
    "# RESULTS EDA"
   ]
  },
  {
   "cell_type": "code",
   "execution_count": null,
   "id": "1ee0518d",
   "metadata": {},
   "outputs": [],
   "source": [
    "import os\n",
    "import json\n",
    "import base64\n",
    "from math import sqrt, pi\n",
    "\n",
    "import ijson\n",
    "import numpy as np\n",
    "import pandas as pd\n",
    "import plotly.express as px\n",
    "import plotly.graph_objects as go\n",
    "\n",
    "import multiprocessing\n",
    "\n",
    "from tqdm.notebook import tqdm\n",
    "\n",
    "from kcmc_instance import KCMC_Instance"
   ]
  },
  {
   "cell_type": "code",
   "execution_count": null,
   "id": "a261cab5",
   "metadata": {},
   "outputs": [],
   "source": [
    "# PARSING THE INSTANCES\n",
    "instances = pd.read_csv('/data/instances.csv', sep='|', header=None)\n",
    "instances.columns = ['serial', 'kcmc']\n",
    "instances.loc[:, 'instance_key'] = instances['serial'].str.split(';', 4).str[:-1]\n",
    "instances.loc[:, 'pois'] = instances['instance_key'].str[1].str.split(' ').str[0]\n",
    "instances.loc[:, 'sensors'] = instances['instance_key'].str[1].str.split(' ').str[1]\n",
    "instances.loc[:, 'sinks'] = instances['instance_key'].str[1].str.split(' ').str[2]\n",
    "instances.loc[:, 'communication_radius'] = instances['instance_key'].str[2].str.split(' ').str[0]\n",
    "instances.loc[:, 'coverage_radius'] = instances['instance_key'].str[2].str.split(' ').str[1]\n",
    "instances.loc[:, 'area_side'] = instances['instance_key'].str[2].str.split(' ').str[2]\n",
    "instances.loc[:, 'seed'] = instances['instance_key'].str[3].astype(int)\n",
    "instances.loc[:, 'instance_key'] = instances['instance_key'].str.join('_').str.replace(' ', '_')\n",
    "instances.loc[:, 'K'] = instances['kcmc'].str.strip().str[2]\n",
    "instances.loc[:, 'M'] = instances['kcmc'].str.strip().str[4]\n",
    "len(instances)"
   ]
  },
  {
   "cell_type": "code",
   "execution_count": null,
   "id": "f07d0b1a",
   "metadata": {},
   "outputs": [],
   "source": [
    "prep = pd.read_parquet('/data/preprocessing.parquet')"
   ]
  },
  {
   "cell_type": "code",
   "execution_count": null,
   "id": "b545eb5f",
   "metadata": {},
   "outputs": [],
   "source": [
    "DATA_DIR = '/data/parsed_results/'\n",
    "\n",
    "df = pd.concat([\n",
    "    pd.read_parquet(DATA_DIR+file, engine='fastparquet')\n",
    "    for file in os.listdir(DATA_DIR) if file.endswith('.pq')\n",
    "]).sort_values('instance_key').reset_index(drop=True).copy()\n",
    "df.loc[:, 'seed'] = df['instance_key'].str.split('_').str[-1].str.strip().astype(int)\n",
    "\n",
    "df = (df.drop(columns=['instance_key'])\n",
    "        .merge(instances, on='seed')\n",
    "        .drop_duplicates().reset_index(drop=True)).copy()\n",
    "\n",
    "df = df.merge(pd.DataFrame(df['SolutionInfo'].apply(lambda s: eval(s)).tolist(),\n",
    "                           index=df.index),\n",
    "              left_index=True, right_index=True).copy()\n",
    "\n",
    "colunas_float = ['gurobi_runtime', 'communication_density', 'coverage_density']\n",
    "df.loc[:, colunas_float] = df[colunas_float].apply(lambda col: col.astype(float))\n",
    "colunas_int = ['pois', 'sensors', 'K', 'M']\n",
    "df.loc[:, colunas_int] = df[colunas_int].apply(lambda col: col.astype(int))\n",
    "\n",
    "len(df), sorted(df.columns)"
   ]
  },
  {
   "cell_type": "code",
   "execution_count": null,
   "id": "86dc34e1",
   "metadata": {},
   "outputs": [],
   "source": [
    "df_prep = df.merge(prep, how='left').copy()\n",
    "\n",
    "len(df_prep)"
   ]
  },
  {
   "cell_type": "markdown",
   "id": "363d9a4a",
   "metadata": {},
   "source": [
    "# RUNTIME"
   ]
  },
  {
   "cell_type": "code",
   "execution_count": null,
   "id": "c66f6c7a",
   "metadata": {},
   "outputs": [],
   "source": [
    "def get_groupby(df, group_columns, target_columns):\n",
    "    if not isinstance(group_columns, list): group_columns = [group_columns]\n",
    "    if not isinstance(target_columns, list): target_columns = [target_columns]\n",
    "    dedup_columns = list(set(group_columns).union({\n",
    "        'instance_key', 'K', 'M', 'gurobi_model_type'\n",
    "    }))\n",
    "    sdf = df.drop_duplicates(subset=dedup_columns).copy()\n",
    "    return sdf[group_columns+target_columns].groupby(group_columns)"
   ]
  },
  {
   "cell_type": "code",
   "execution_count": null,
   "id": "a631c2b9",
   "metadata": {},
   "outputs": [],
   "source": [
    "mean_km_runtime = (\n",
    "    get_groupby(df, ['K', 'M', 'gurobi_model_type'], 'gurobi_runtime')\n",
    "    .mean()\n",
    "    .reset_index(drop=False).copy()\n",
    ")\n",
    "\n",
    "mean_pi_prep_size = (\n",
    "    get_groupby(df_prep, ['pois', 'sensors', 'prep_heuristic'], 'prep_runtime')\n",
    "    .mean()\n",
    "    .reset_index(drop=False).copy()\n",
    ").merge(\n",
    "    get_groupby(df_prep, ['pois', 'sensors', 'prep_heuristic'], 'prep_size')\n",
    "    .mean()\n",
    "    .reset_index(drop=False).copy()\n",
    ").merge(\n",
    "    get_groupby(df_prep, ['pois', 'sensors', 'prep_heuristic'], 'prep_compression_rate')\n",
    "    .mean()\n",
    "    .reset_index(drop=False).copy()\n",
    ")"
   ]
  },
  {
   "cell_type": "code",
   "execution_count": null,
   "id": "f0cb0b0c",
   "metadata": {},
   "outputs": [],
   "source": [
    "mean_pi_prep_size.sort_values('prep_compression_rate', ascending=False).iloc[:50]"
   ]
  },
  {
   "cell_type": "code",
   "execution_count": null,
   "id": "9e8c6298",
   "metadata": {},
   "outputs": [],
   "source": [
    "fig = px.scatter_3d(\n",
    "    # df,\n",
    "    mean_km_runtime,\n",
    "    x='K', y='M', z='gurobi_runtime',\n",
    "    color='gurobi_model_type', log_z=True,\n",
    "    title='Log_RUNTIME on K vs M'\n",
    ")\n",
    "fig.show()"
   ]
  },
  {
   "cell_type": "code",
   "execution_count": null,
   "id": "cb541b37",
   "metadata": {},
   "outputs": [],
   "source": [
    "fig = px.scatter_3d(df, x='communication_density', y='coverage_density', z='gurobi_runtime',\n",
    "                    color='gurobi_model_type',\n",
    "                    # log_x=True, log_y=True,\n",
    "                    log_z=True,\n",
    "                    title='Log_RUNTIME on pois vs sensors')\n",
    "fig.show()"
   ]
  },
  {
   "cell_type": "markdown",
   "id": "044d2f0c",
   "metadata": {},
   "source": [
    "# GUROBI LOGS"
   ]
  },
  {
   "cell_type": "code",
   "execution_count": null,
   "id": "b674c394",
   "metadata": {},
   "outputs": [],
   "source": [
    "df_logs = df[~df['gurobi_logs'].isnull()]\n",
    "len(df), len(df_logs), len(df_logs['instance_key'].unique())"
   ]
  },
  {
   "cell_type": "code",
   "execution_count": null,
   "id": "2541f66b",
   "metadata": {},
   "outputs": [],
   "source": [
    "dict_colunas = {\n",
    "    'pois': 'pois',\n",
    "    'sensors': 'sensors',\n",
    "    #'area': 'area',\n",
    "    #'coverage': 'coverage_radius',\n",
    "    #'communication': 'communication_radius',\n",
    "    'seed': 'seed',\n",
    "    'K': 'K',\n",
    "    'M': 'M',\n",
    "    'model': 'gurobi_model_type',\n",
    "    #'binary_variables': 'binary_variables',\n",
    "    'status': 'status',\n",
    "    'solutions_count': 'solutions_count',\n",
    "    'node_count': 'node_count',\n",
    "    #'gurobi_runtime': 'gurobi_runtime',\n",
    "    #'simplex_iterations': 'simplex_iterations_count',\n",
    "    'MIPGap': 'mip_gap',\n",
    "    'ObjVal': 'ObjVal',\n",
    "    'ObjBound': 'ObjBound',\n",
    "    'ObjBoundC': 'ObjBoundC'\n",
    "}"
   ]
  },
  {
   "cell_type": "code",
   "execution_count": null,
   "id": "54dbb50b",
   "metadata": {
    "scrolled": false
   },
   "outputs": [],
   "source": [
    "COLSIZE = 9\n",
    "for instance_key, sdf in df_logs.groupby('instance_key'):\n",
    "    if not ('179561007' in instance_key): continue\n",
    "    print(instance_key)\n",
    "    header = ''\n",
    "    for col in dict_colunas.keys():\n",
    "        header += col[:COLSIZE]\n",
    "        header += ' '*((COLSIZE-len(col[:COLSIZE])) if col not in 'KM' else 1)\n",
    "        header += '|'\n",
    "    \n",
    "    \n",
    "    for idx, i in sdf.iterrows():\n",
    "        row = ''\n",
    "        for col in dict_colunas.values():\n",
    "            row += str(i[col])[:COLSIZE]\n",
    "            row += ' '*(COLSIZE-len(str(i[col])[:COLSIZE]) if col not in 'KM' else 1)\n",
    "            row += '|'\n",
    "            \n",
    "        print('|'+header[:-1])\n",
    "        print('|'+row[:-1], '\\n')\n",
    "        print(i['gurobi_logs'])\n",
    "        print('-'*70)\n",
    "        print()\n",
    "        print()\n",
    "    print('#'*80)"
   ]
  },
  {
   "cell_type": "markdown",
   "id": "cc180811",
   "metadata": {},
   "source": [
    "### Visual"
   ]
  },
  {
   "cell_type": "code",
   "execution_count": null,
   "id": "743c6226",
   "metadata": {},
   "outputs": [],
   "source": [
    "SEED = 147946681\n",
    "inst = KCMC_Instance(instances[instances['seed'] == SEED].iloc[0]['serial'],\n",
    "                     True, True, True)\n",
    "inst"
   ]
  },
  {
   "cell_type": "code",
   "execution_count": null,
   "id": "02dce9a6",
   "metadata": {},
   "outputs": [],
   "source": [
    "inst.plot(minimal=True)"
   ]
  },
  {
   "cell_type": "code",
   "execution_count": null,
   "id": "050b0b18",
   "metadata": {},
   "outputs": [],
   "source": []
  }
 ],
 "metadata": {
  "kernelspec": {
   "display_name": "Python 3 (ipykernel)",
   "language": "python",
   "name": "python3"
  },
  "language_info": {
   "codemirror_mode": {
    "name": "ipython",
    "version": 3
   },
   "file_extension": ".py",
   "mimetype": "text/x-python",
   "name": "python",
   "nbconvert_exporter": "python",
   "pygments_lexer": "ipython3",
   "version": "3.7.12"
  }
 },
 "nbformat": 4,
 "nbformat_minor": 5
}
