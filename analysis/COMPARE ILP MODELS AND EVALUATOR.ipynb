{
 "cells": [
  {
   "cell_type": "code",
   "execution_count": 1,
   "id": "e8af47da",
   "metadata": {},
   "outputs": [],
   "source": [
    "import os.path\n",
    "import subprocess\n",
    "\n",
    "import pandas as pd\n",
    "\n",
    "from kcmc_instance import KCMC_Instance\n",
    "\n",
    "from gurobi_models import gurobi_multi_flow, gurobi_single_flow, get_installation\n",
    "\n",
    "\n",
    "from tqdm.notebook import tqdm\n",
    "    \n",
    "\n",
    "\n",
    "# list_serialized_instances = pd.read_csv('/data/instances.csv', header=None)[0].tolist()[1000:1010]\n",
    "list_serialized_instances = open('/data/instances_gupta.txt', 'r').read().splitlines()[:1]\n",
    "\n",
    "K = 3\n",
    "M = 2\n",
    "\n",
    "GUROBI_TIMEOUT = 60\n",
    "GUROBI_THREADS = 4"
   ]
  },
  {
   "cell_type": "code",
   "execution_count": 2,
   "id": "0e3a1745",
   "metadata": {},
   "outputs": [],
   "source": [
    "def get_cache(prefix):\n",
    "    file = f'/data/{prefix}_{K}_{M}.pq'\n",
    "    if os.path.exists(file):\n",
    "        data = pd.read_parquet(file)\n",
    "        cache = set(data['serialized_instance'].unique())\n",
    "        return data.to_dict(orient='records'), cache\n",
    "    return [], set()\n",
    "\n",
    "def to_cache(prefix, df):\n",
    "    file = f'/data/{prefix}_{K}_{M}.pq'\n",
    "    df.to_parquet(file)"
   ]
  },
  {
   "cell_type": "code",
   "execution_count": 3,
   "id": "7690262d",
   "metadata": {
    "scrolled": true
   },
   "outputs": [
    {
     "data": {
      "application/vnd.jupyter.widget-view+json": {
       "model_id": "ba015cf3220d4c368e719b069d0d908a",
       "version_major": 2,
       "version_minor": 0
      },
      "text/plain": [
       "  0%|          | 0/1 [00:00<?, ?it/s]"
      ]
     },
     "metadata": {},
     "output_type": "display_data"
    },
    {
     "name": "stdout",
     "output_type": "stream",
     "text": [
      "[client] info  : Using libcurl/7.76.1 OpenSSL/1.1.1k\n",
      "[client] info  : Default certificate path is /etc/ssl/certs/ca-certificates.crt\n",
      "[client] info  : No HTTPS proxy\n",
      "[client] info  : No HTTP proxy\n",
      "[client] info  : Validate web license token 813d29df-e6ac-42e9-bff6-2178b73d0b3f for container d948a34dccd1eeb65e36687706e634ec1f7776fa67e1ab70215ca0163d01bee1\n",
      "Academic license - for non-commercial use only - registered to josefrf@ufmg.br\n",
      "[client] info  : Web license token valid\n",
      "Using license file /opt/gurobi/gurobi.lic\n",
      "Set parameter WLSAccessID\n",
      "Set parameter WLSSecret\n",
      "Set parameter LicenseID\n",
      "Changed value of parameter TimeLimit to 60.0\n",
      "   Prev: inf  Min: 0.0  Max: inf  Default: inf\n",
      "Changed value of parameter Threads to 4\n",
      "   Prev: 0  Min: 0  Max: 1024  Default: 0\n",
      "Parameter OutputFlag unchanged\n",
      "   Value: 1  Min: 0  Max: 1  Default: 1\n",
      "[client] info  : Validate web license token 813d29df-e6ac-42e9-bff6-2178b73d0b3f for container d948a34dccd1eeb65e36687706e634ec1f7776fa67e1ab70215ca0163d01bee1\n",
      "Academic license - for non-commercial use only - registered to josefrf@ufmg.br\n",
      "[client] info  : Web license token valid\n"
     ]
    },
    {
     "data": {
      "text/plain": [
       "1"
      ]
     },
     "execution_count": 3,
     "metadata": {},
     "output_type": "execute_result"
    }
   ],
   "source": [
    "gurobi_mf_data, cache = get_cache('gurobi_mf')\n",
    "for ser_instance in tqdm(list_serialized_instances):\n",
    "    if ser_instance in cache: continue\n",
    "    try:\n",
    "        obj_instance = KCMC_Instance(ser_instance, False, True, True)\n",
    "    except: continue\n",
    "        \n",
    "    model, X, Y = gurobi_multi_flow(K, M, obj_instance, GUROBI_TIMEOUT, GUROBI_THREADS)\n",
    "    results = model.optimize()\n",
    "    \n",
    "    gurobi_mf_data.append({\n",
    "        'serialized_instance': ser_instance,\n",
    "        'gurobi_mf_status': results['status'],\n",
    "        'gurobi_mf_gap': results['mip_gap'],\n",
    "        'gurobi_mf_feasible': results['status'] == 'OPTIMAL',\n",
    "        'gurobi_mf_runtime': results['gurobi_runtime']\n",
    "    })\n",
    "    \n",
    "    #print('\\n\\n', obj_instance)\n",
    "    #print(results['status'], results['gurobi_runtime'])\n",
    "    if results['status'] in {'OPTIMAL'}:\n",
    "        wsn, installation = get_installation(X)\n",
    "        #print(len(wsn), len(installation), round(len(installation)/len(wsn), 3))        \n",
    "        gurobi_mf_data[-1].update({'gurobi_mf_installation': installation,\n",
    "                                   'gurobi_mf_size': len(installation),\n",
    "                                   'gurobi_mf_quality': len(installation)/len(wsn)})\n",
    "        \n",
    "gurobi_mf_data = pd.DataFrame(gurobi_mf_data)\n",
    "to_cache('gurobi_mf', gurobi_mf_data)\n",
    "len(gurobi_mf_data)"
   ]
  },
  {
   "cell_type": "code",
   "execution_count": 4,
   "id": "2d0a82ad",
   "metadata": {},
   "outputs": [
    {
     "data": {
      "application/vnd.jupyter.widget-view+json": {
       "model_id": "dca80fdc6ffa4b16beef587be63729a8",
       "version_major": 2,
       "version_minor": 0
      },
      "text/plain": [
       "  0%|          | 0/1 [00:00<?, ?it/s]"
      ]
     },
     "metadata": {},
     "output_type": "display_data"
    },
    {
     "name": "stdout",
     "output_type": "stream",
     "text": [
      "Changed value of parameter TimeLimit to 60.0\n",
      "   Prev: inf  Min: 0.0  Max: inf  Default: inf\n",
      "Changed value of parameter Threads to 4\n",
      "   Prev: 0  Min: 0  Max: 1024  Default: 0\n",
      "Parameter OutputFlag unchanged\n",
      "   Value: 1  Min: 0  Max: 1  Default: 1\n",
      "[client] info  : Validate web license token 813d29df-e6ac-42e9-bff6-2178b73d0b3f for container d948a34dccd1eeb65e36687706e634ec1f7776fa67e1ab70215ca0163d01bee1\n",
      "[client] error : Web license token expired\n",
      "[client] info  : Validate web license token bc1d5a5e-c469-4e39-b2c9-57ce52328337 for container d948a34dccd1eeb65e36687706e634ec1f7776fa67e1ab70215ca0163d01bee1\n",
      "Academic license - for non-commercial use only - registered to josefrf@ufmg.br\n",
      "[client] info  : Web license token valid\n"
     ]
    },
    {
     "data": {
      "text/plain": [
       "1"
      ]
     },
     "execution_count": 4,
     "metadata": {},
     "output_type": "execute_result"
    }
   ],
   "source": [
    "gurobi_sf_data, cache = get_cache('gurobi_sf')\n",
    "for ser_instance in tqdm(list_serialized_instances):\n",
    "    if ser_instance in cache: continue\n",
    "    try:\n",
    "        obj_instance = KCMC_Instance(ser_instance, False, True, True)\n",
    "    except: continue\n",
    "        \n",
    "    model, X, Y = gurobi_single_flow(K, M, obj_instance, GUROBI_TIMEOUT, GUROBI_THREADS)\n",
    "    results = model.optimize()\n",
    "    \n",
    "    gurobi_sf_data.append({\n",
    "        'serialized_instance': ser_instance,\n",
    "        'gurobi_sf_gap': results['mip_gap'],\n",
    "        'gurobi_sf_status': results['status'],\n",
    "        'gurobi_sf_feasible': results['status'] == 'OPTIMAL',\n",
    "        'gurobi_sf_runtime': results['gurobi_runtime']\n",
    "    })\n",
    "    \n",
    "    #print('\\n\\n', obj_instance)\n",
    "    #print(results['status'], results['gurobi_runtime'])\n",
    "    if results['status'] in {'OPTIMAL'}:\n",
    "        wsn, installation = get_installation(X)\n",
    "        #print(len(wsn), len(installation), round(len(installation)/len(wsn), 3))        \n",
    "        gurobi_sf_data[-1].update({'gurobi_sf_installation': installation,\n",
    "                                   'gurobi_sf_size': len(installation),\n",
    "                                   'gurobi_sf_quality': len(installation)/len(wsn)})\n",
    "        \n",
    "gurobi_sf_data = pd.DataFrame(gurobi_sf_data)\n",
    "to_cache('gurobi_sf', gurobi_sf_data)\n",
    "len(gurobi_sf_data)"
   ]
  },
  {
   "cell_type": "code",
   "execution_count": 5,
   "id": "3d9e6f56",
   "metadata": {},
   "outputs": [
    {
     "data": {
      "application/vnd.jupyter.widget-view+json": {
       "model_id": "6456f91f370d4947b08d959e739ca9ab",
       "version_major": 2,
       "version_minor": 0
      },
      "text/plain": [
       "  0%|          | 0/1 [00:00<?, ?it/s]"
      ]
     },
     "metadata": {},
     "output_type": "display_data"
    },
    {
     "data": {
      "text/plain": [
       "1011"
      ]
     },
     "execution_count": 5,
     "metadata": {},
     "output_type": "execute_result"
    }
   ],
   "source": [
    "eval_data, cache = get_cache('eval')\n",
    "for ser_instance in tqdm(list_serialized_instances):\n",
    "    if ser_instance in cache: continue   \n",
    "    result_evaluator = subprocess.run([\n",
    "        \"time\", \"-f\", \"%P %S %U\",\n",
    "        \"/builds/instance_evaluator\", \n",
    "        str(K), str(M), ser_instance\n",
    "    ], capture_output=True)\n",
    "    \n",
    "    assert int(result_evaluator.returncode) == 0\n",
    "    \n",
    "    output = result_evaluator.stdout.decode()\n",
    "    i, j = output.replace('\\t', '').split('|')\n",
    "    status = (i.split(':')[-1].strip(), j.split(':')[-1].strip())\n",
    "    feasible = status == ('SUCCESS', 'SUCCESS')\n",
    "    \n",
    "    cpu, systime, usertime = map(\n",
    "        float,\n",
    "        result_evaluator.stderr.decode().replace('%', 'e-2').split(' ')\n",
    "    )\n",
    "    \n",
    "    eval_data.append({\n",
    "        'serialized_instance': ser_instance,\n",
    "        'eval_status': status, 'eval_feasible': feasible,\n",
    "        'eval_runtime': (systime+usertime)*cpu,\n",
    "        'eval_cpu': cpu, 'eval_sys_time': systime, 'eval_user_time': usertime\n",
    "    })\n",
    "    \n",
    "eval_data = pd.DataFrame(eval_data)\n",
    "to_cache('eval', eval_data)\n",
    "len(eval_data)"
   ]
  },
  {
   "cell_type": "code",
   "execution_count": 6,
   "id": "3f877be3",
   "metadata": {},
   "outputs": [],
   "source": [
    "df = (eval_data\n",
    "      .merge(gurobi_mf_data)\n",
    "      .merge(gurobi_sf_data)\n",
    ").sort_values('serialized_instance').reset_index(drop=True).copy()"
   ]
  },
  {
   "cell_type": "code",
   "execution_count": 7,
   "id": "e93d7741",
   "metadata": {},
   "outputs": [
    {
     "data": {
      "text/plain": [
       "1"
      ]
     },
     "execution_count": 7,
     "metadata": {},
     "output_type": "execute_result"
    }
   ],
   "source": [
    "len(df)"
   ]
  },
  {
   "cell_type": "code",
   "execution_count": 8,
   "id": "2fe66b36",
   "metadata": {},
   "outputs": [],
   "source": [
    "df.loc[:, 'obj_instance'] = df['serialized_instance'].apply(lambda i: KCMC_Instance(i, False, True, True))"
   ]
  },
  {
   "cell_type": "code",
   "execution_count": 9,
   "id": "70481cb3",
   "metadata": {},
   "outputs": [],
   "source": [
    "df.loc[:, 'instance_size'] = df['obj_instance'].apply(lambda i: i.num_sensors)"
   ]
  },
  {
   "cell_type": "code",
   "execution_count": 10,
   "id": "a0521102",
   "metadata": {},
   "outputs": [
    {
     "data": {
      "text/plain": [
       "array([100])"
      ]
     },
     "execution_count": 10,
     "metadata": {},
     "output_type": "execute_result"
    }
   ],
   "source": [
    "df['instance_size'].unique()"
   ]
  },
  {
   "cell_type": "code",
   "execution_count": 12,
   "id": "011d4a3f",
   "metadata": {},
   "outputs": [
    {
     "data": {
      "text/html": [
       "<div>\n",
       "<style scoped>\n",
       "    .dataframe tbody tr th:only-of-type {\n",
       "        vertical-align: middle;\n",
       "    }\n",
       "\n",
       "    .dataframe tbody tr th {\n",
       "        vertical-align: top;\n",
       "    }\n",
       "\n",
       "    .dataframe thead th {\n",
       "        text-align: right;\n",
       "    }\n",
       "</style>\n",
       "<table border=\"1\" class=\"dataframe\">\n",
       "  <thead>\n",
       "    <tr style=\"text-align: right;\">\n",
       "      <th></th>\n",
       "      <th>serialized_instance</th>\n",
       "      <th>eval_status</th>\n",
       "      <th>eval_feasible</th>\n",
       "      <th>eval_runtime</th>\n",
       "      <th>eval_cpu</th>\n",
       "      <th>eval_sys_time</th>\n",
       "      <th>eval_user_time</th>\n",
       "      <th>gurobi_mf_status</th>\n",
       "      <th>gurobi_mf_gap</th>\n",
       "      <th>gurobi_mf_feasible</th>\n",
       "      <th>gurobi_mf_runtime</th>\n",
       "      <th>gurobi_sf_gap</th>\n",
       "      <th>gurobi_sf_status</th>\n",
       "      <th>gurobi_sf_feasible</th>\n",
       "      <th>gurobi_sf_runtime</th>\n",
       "      <th>gurobi_sf_installation</th>\n",
       "      <th>gurobi_sf_size</th>\n",
       "      <th>gurobi_sf_quality</th>\n",
       "      <th>obj_instance</th>\n",
       "      <th>instance_size</th>\n",
       "    </tr>\n",
       "  </thead>\n",
       "  <tbody>\n",
       "    <tr>\n",
       "      <th>0</th>\n",
       "      <td>KCMC;100 100 1;300 50 100;170369128;PS;0 6;0 8...</td>\n",
       "      <td>(SUCCESS, SUCCESS)</td>\n",
       "      <td>True</td>\n",
       "      <td>0.0282</td>\n",
       "      <td>0.94</td>\n",
       "      <td>0.0</td>\n",
       "      <td>0.03</td>\n",
       "      <td>LIMIT</td>\n",
       "      <td>inf</td>\n",
       "      <td>False</td>\n",
       "      <td>60.092767</td>\n",
       "      <td>0.0</td>\n",
       "      <td>OPTIMAL</td>\n",
       "      <td>True</td>\n",
       "      <td>41.051327</td>\n",
       "      <td>{'i6': '0', 'i7': '0', 'i8': '0', 'i14': '0', ...</td>\n",
       "      <td>18</td>\n",
       "      <td>0.191489</td>\n",
       "      <td>&lt;KCMC_0.1:100:100:1:300:50:100 170369128 [0]&gt;</td>\n",
       "      <td>100</td>\n",
       "    </tr>\n",
       "  </tbody>\n",
       "</table>\n",
       "</div>"
      ],
      "text/plain": [
       "                                 serialized_instance         eval_status  \\\n",
       "0  KCMC;100 100 1;300 50 100;170369128;PS;0 6;0 8...  (SUCCESS, SUCCESS)   \n",
       "\n",
       "   eval_feasible  eval_runtime  eval_cpu  eval_sys_time  eval_user_time  \\\n",
       "0           True        0.0282      0.94            0.0            0.03   \n",
       "\n",
       "  gurobi_mf_status  gurobi_mf_gap  gurobi_mf_feasible  gurobi_mf_runtime  \\\n",
       "0            LIMIT            inf               False          60.092767   \n",
       "\n",
       "   gurobi_sf_gap gurobi_sf_status  gurobi_sf_feasible  gurobi_sf_runtime  \\\n",
       "0            0.0          OPTIMAL                True          41.051327   \n",
       "\n",
       "                              gurobi_sf_installation  gurobi_sf_size  \\\n",
       "0  {'i6': '0', 'i7': '0', 'i8': '0', 'i14': '0', ...              18   \n",
       "\n",
       "   gurobi_sf_quality                                   obj_instance  \\\n",
       "0           0.191489  <KCMC_0.1:100:100:1:300:50:100 170369128 [0]>   \n",
       "\n",
       "   instance_size  \n",
       "0            100  "
      ]
     },
     "execution_count": 12,
     "metadata": {},
     "output_type": "execute_result"
    }
   ],
   "source": [
    "df"
   ]
  },
  {
   "cell_type": "code",
   "execution_count": 11,
   "id": "588095ed",
   "metadata": {},
   "outputs": [
    {
     "ename": "NameError",
     "evalue": "name 'go' is not defined",
     "output_type": "error",
     "traceback": [
      "\u001b[0;31m---------------------------------------------------------------------------\u001b[0m",
      "\u001b[0;31mNameError\u001b[0m                                 Traceback (most recent call last)",
      "\u001b[0;32m/tmp/ipykernel_107/2897490467.py\u001b[0m in \u001b[0;36m<module>\u001b[0;34m\u001b[0m\n\u001b[1;32m      1\u001b[0m \u001b[0mdf\u001b[0m\u001b[0;34m[\u001b[0m\u001b[0;34m[\u001b[0m\u001b[0;34m'instance_size'\u001b[0m\u001b[0;34m,\u001b[0m \u001b[0;34m'gurobi_mf_runtime'\u001b[0m\u001b[0;34m]\u001b[0m\u001b[0;34m]\u001b[0m\u001b[0;34m\u001b[0m\u001b[0;34m\u001b[0m\u001b[0m\n\u001b[1;32m      2\u001b[0m \u001b[0;34m\u001b[0m\u001b[0m\n\u001b[0;32m----> 3\u001b[0;31m \u001b[0mfig\u001b[0m \u001b[0;34m=\u001b[0m \u001b[0mgo\u001b[0m\u001b[0;34m.\u001b[0m\u001b[0mFigure\u001b[0m\u001b[0;34m(\u001b[0m\u001b[0;34m)\u001b[0m\u001b[0;34m\u001b[0m\u001b[0;34m\u001b[0m\u001b[0m\n\u001b[0m\u001b[1;32m      4\u001b[0m \u001b[0;34m\u001b[0m\u001b[0m\n\u001b[1;32m      5\u001b[0m fig.add_trace(go.Bar(x=df['instance_size'], y=df['gurobi_mf_runtime'],\n",
      "\u001b[0;31mNameError\u001b[0m: name 'go' is not defined"
     ]
    }
   ],
   "source": [
    "df[['instance_size', 'gurobi_mf_runtime']]\n",
    "\n",
    "fig = go.Figure()\n",
    "\n",
    "fig.add_trace(go.Bar(x=df['instance_size'], y=df['gurobi_mf_runtime'],\n",
    "                         name='GUROBY MULTI'))\n",
    "\n",
    "fig.show()"
   ]
  },
  {
   "cell_type": "code",
   "execution_count": null,
   "id": "809596cc",
   "metadata": {},
   "outputs": [],
   "source": [
    "df_diff = df[\n",
    "  ((\n",
    "       (df['gurobi_mf_feasible'] != df['eval_feasible'])\n",
    "     | (df['gurobi_sf_feasible'] != df['eval_feasible'])\n",
    "     | (df['gurobi_mf_feasible'] != df['gurobi_sf_feasible'])\n",
    "     | (df['gurobi_mf_size'].fillna(-1) != df['gurobi_sf_size'].fillna(-1))\n",
    "   ) & (df['gurobi_mf_status'] != 'LIMIT')\n",
    "     & (df['gurobi_sf_status'] != 'LIMIT'))\n",
    "]\n",
    "\n",
    "assert len(df_diff) == 0"
   ]
  },
  {
   "cell_type": "code",
   "execution_count": null,
   "id": "9b01effa",
   "metadata": {},
   "outputs": [],
   "source": [
    "VIEW = [#'serialized_instance',\n",
    "    'gurobi_mf_feasible', 'gurobi_sf_feasible', 'eval_feasible',\n",
    "    # 'gurobi_mf_status', 'gurobi_sf_status', 'eval_status',\n",
    "    'gurobi_mf_size', 'gurobi_sf_size',\n",
    "    'gurobi_mf_runtime', 'gurobi_sf_runtime', 'eval_runtime',\n",
    "    # 'eval_sys_time', 'eval_user_time',  'eval_cpu'\n",
    "]\n",
    "\n",
    "\n",
    "\n",
    "df_diff[VIEW]"
   ]
  },
  {
   "cell_type": "code",
   "execution_count": null,
   "id": "8068ded0",
   "metadata": {},
   "outputs": [],
   "source": [
    "!pip install plotly"
   ]
  },
  {
   "cell_type": "code",
   "execution_count": null,
   "id": "37f893ae",
   "metadata": {},
   "outputs": [],
   "source": [
    "import plotly.graph_objects as go\n",
    "\n",
    "fig = go.Figure()\n",
    "\n",
    "fig.add_trace(go.Bar(x=df.index, y=df['gurobi_mf_runtime'],\n",
    "                         name='GUROBY MULTI'))\n",
    "# fig.add_trace(go.Scatter(x=df.index, y=df['gurobi_sf_runtime'],\n",
    "#                          mode='lines', name='GUROBY SINGLE'))\n",
    "# fig.add_trace(go.Scatter(x=df.index, y=df['eval_runtime']*100,\n",
    "#                          mode='lines', name='EVAL x100'))\n",
    "\n",
    "fig.show()"
   ]
  },
  {
   "cell_type": "code",
   "execution_count": null,
   "id": "13b1bdc4",
   "metadata": {},
   "outputs": [],
   "source": [
    "df[VIEW].sort_values('gurobi_sf_runtime')"
   ]
  },
  {
   "cell_type": "code",
   "execution_count": null,
   "id": "b5e11096",
   "metadata": {},
   "outputs": [],
   "source": [
    "ROW = df.loc[55]\n",
    "KCMC_Instance(ROW['serialized_instance'], False, True, True).plot(\n",
    "    labels=True, installation=ROW['gurobi_mf_installation'], minimal=True)"
   ]
  },
  {
   "cell_type": "code",
   "execution_count": null,
   "id": "afec9ced",
   "metadata": {},
   "outputs": [],
   "source": [
    "KCMC_Instance(ROW['serialized_instance'], False, True, True).plot(\n",
    "    labels=True, installation=ROW['gurobi_sf_installation'], minimal=True)"
   ]
  },
  {
   "cell_type": "code",
   "execution_count": null,
   "id": "d56408ce",
   "metadata": {},
   "outputs": [],
   "source": [
    "ROW['gurobi_sf_installation']"
   ]
  },
  {
   "cell_type": "code",
   "execution_count": null,
   "id": "a139db0e",
   "metadata": {},
   "outputs": [],
   "source": []
  }
 ],
 "metadata": {
  "kernelspec": {
   "display_name": "Python 3 (ipykernel)",
   "language": "python",
   "name": "python3"
  },
  "language_info": {
   "codemirror_mode": {
    "name": "ipython",
    "version": 3
   },
   "file_extension": ".py",
   "mimetype": "text/x-python",
   "name": "python",
   "nbconvert_exporter": "python",
   "pygments_lexer": "ipython3",
   "version": "3.7.12"
  }
 },
 "nbformat": 4,
 "nbformat_minor": 5
}
