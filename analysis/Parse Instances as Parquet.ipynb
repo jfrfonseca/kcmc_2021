{
 "cells": [
  {
   "cell_type": "code",
   "execution_count": 1,
   "metadata": {
    "ExecuteTime": {
     "end_time": "2021-08-03T15:09:32.898500Z",
     "start_time": "2021-08-03T15:09:32.717639Z"
    }
   },
   "outputs": [],
   "source": [
    "from kcmc_instance import KCMC_Instance\n",
    "\n",
    "import os\n",
    "\n",
    "import pandas as pd\n",
    "from redis import StrictRedis"
   ]
  },
  {
   "cell_type": "markdown",
   "metadata": {},
   "source": [
    "## Parse data from the REDIS NoSQL Database to Parquet files"
   ]
  },
  {
   "cell_type": "code",
   "execution_count": 2,
   "metadata": {},
   "outputs": [],
   "source": [
    "! rm -rf instances.parquet\n",
    "! mkdir  instances.parquet "
   ]
  },
  {
   "cell_type": "code",
   "execution_count": 3,
   "metadata": {},
   "outputs": [],
   "source": [
    "def parse_evaluation(evaluation):\n",
    "    result = []\n",
    "    for k_m, msg_k, msg_m in [i.strip().split(' | ')\n",
    "                              for i in evaluation.strip().split(';') if len(i) > 1]:\n",
    "        k, m = k_m.strip().split(' ')\n",
    "        k_success = (msg_k.strip().upper() == 'SUCCESS')\n",
    "        m_success = (msg_m.strip().upper() == 'SUCCESS')\n",
    "        result.append({\n",
    "            'K='+k: k_success,\n",
    "            'M='+m: m_success,\n",
    "        })\n",
    "        \n",
    "        raise Exception(msg_k + ' | ' + m_success)\n",
    "        \n",
    "    return result\n",
    "\n",
    "\n",
    "def parse_block(df):\n",
    "\n",
    "    # Parse each evaluation as a list of dicts\n",
    "    df.loc[:, 'evaluation'] = df['raw_evaluation'].apply(parse_evaluation)\n",
    "\n",
    "    # Parse the instance as a KCMC_Instance object\n",
    "    df.loc[:, 'obj_instance'] = df['instance'].apply(\n",
    "        lambda instance: KCMC_Instance(instance,\n",
    "                                       accept_loose_pois=True,\n",
    "                                       accept_loose_sensors=True,\n",
    "                                       accept_loose_sinks=True)\n",
    "    )\n",
    "\n",
    "    # Extract basic attributes of the instance\n",
    "    df.loc[:, 'key'] = df['obj_instance'].apply(lambda i: i.key_str)\n",
    "    df.loc[:, 'random_seed'] = df['obj_instance'].apply(lambda i: i.random_seed)\n",
    "    df.loc[:, 'pois'] = df['obj_instance'].apply(lambda i: i.num_pois)\n",
    "    df.loc[:, 'sensors'] = df['obj_instance'].apply(lambda i: i.num_sensors)\n",
    "    df.loc[:, 'sinks'] = df['obj_instance'].apply(lambda i: i.num_sinks)\n",
    "    df.loc[:, 'area_side'] = df['obj_instance'].apply(lambda i: i.area_side)\n",
    "    df.loc[:, 'coverage_r'] = df['obj_instance'].apply(lambda i: i.sensor_coverage_radius)\n",
    "    df.loc[:, 'communication_r'] = df['obj_instance'].apply(lambda i: i.sensor_communication_radius)\n",
    "\n",
    "    # Extract attributes of the instance that cannot be calculated from other attributes\n",
    "    \n",
    "    # Reformat the dataframe\n",
    "    df = df.explode('evaluation').reset_index(drop=True).copy()\n",
    "    df = df.merge(pd.DataFrame(df['evaluation'].tolist(), index=df.index),\n",
    "                  left_index=True, right_index=True)\n",
    "    df = df[[\n",
    "            'key', 'random_seed',\n",
    "            'pois', 'sensors', 'sinks', 'area_side', 'coverage_r', 'communication_r',\n",
    "        ] + [col for col in df.columns if (col.startswith('K') or col.startswith('M'))]\n",
    "    ].fillna(False).copy()\n",
    "    \n",
    "    return df"
   ]
  },
  {
   "cell_type": "code",
   "execution_count": 4,
   "metadata": {},
   "outputs": [
    {
     "name": "stdout",
     "output_type": "stream",
     "text": [
      "KCMC_30_150_15_30000_100_50\n"
     ]
    },
    {
     "ename": "Exception",
     "evalue": "POI 0 COVERAGE 0",
     "output_type": "error",
     "traceback": [
      "\u001b[0;31m---------------------------------------------------------------------------\u001b[0m",
      "\u001b[0;31mException\u001b[0m                                 Traceback (most recent call last)",
      "\u001b[0;32m<ipython-input-4-4dd20a345db5>\u001b[0m in \u001b[0;36m<module>\u001b[0;34m\u001b[0m\n\u001b[1;32m     15\u001b[0m             \u001b[0;34m'raw_evaluation'\u001b[0m\u001b[0;34m:\u001b[0m \u001b[0mredis\u001b[0m\u001b[0;34m.\u001b[0m\u001b[0mhget\u001b[0m\u001b[0;34m(\u001b[0m\u001b[0mevaluation_key\u001b[0m\u001b[0;34m,\u001b[0m \u001b[0mrandom_seed\u001b[0m\u001b[0;34m)\u001b[0m\u001b[0;34m\u001b[0m\u001b[0;34m\u001b[0m\u001b[0m\n\u001b[1;32m     16\u001b[0m         })\n\u001b[0;32m---> 17\u001b[0;31m     \u001b[0mdf\u001b[0m \u001b[0;34m=\u001b[0m \u001b[0mparse_block\u001b[0m\u001b[0;34m(\u001b[0m\u001b[0mpd\u001b[0m\u001b[0;34m.\u001b[0m\u001b[0mDataFrame\u001b[0m\u001b[0;34m(\u001b[0m\u001b[0mdf\u001b[0m\u001b[0;34m)\u001b[0m\u001b[0;34m)\u001b[0m\u001b[0;34m\u001b[0m\u001b[0;34m\u001b[0m\u001b[0m\n\u001b[0m\u001b[1;32m     18\u001b[0m     \u001b[0mdf\u001b[0m\u001b[0;34m.\u001b[0m\u001b[0mto_parquet\u001b[0m\u001b[0;34m(\u001b[0m\u001b[0;34mf'instances.parquet/{key}.pq'\u001b[0m\u001b[0;34m)\u001b[0m\u001b[0;34m\u001b[0m\u001b[0;34m\u001b[0m\u001b[0m\n\u001b[1;32m     19\u001b[0m     \u001b[0;32mdel\u001b[0m \u001b[0mdf\u001b[0m\u001b[0;34m\u001b[0m\u001b[0;34m\u001b[0m\u001b[0m\n",
      "\u001b[0;32m<ipython-input-3-7cc8375bbc7a>\u001b[0m in \u001b[0;36mparse_block\u001b[0;34m(df)\u001b[0m\n\u001b[1;32m     19\u001b[0m \u001b[0;34m\u001b[0m\u001b[0m\n\u001b[1;32m     20\u001b[0m     \u001b[0;31m# Parse each evaluation as a list of dicts\u001b[0m\u001b[0;34m\u001b[0m\u001b[0;34m\u001b[0m\u001b[0;34m\u001b[0m\u001b[0m\n\u001b[0;32m---> 21\u001b[0;31m     \u001b[0mdf\u001b[0m\u001b[0;34m.\u001b[0m\u001b[0mloc\u001b[0m\u001b[0;34m[\u001b[0m\u001b[0;34m:\u001b[0m\u001b[0;34m,\u001b[0m \u001b[0;34m'evaluation'\u001b[0m\u001b[0;34m]\u001b[0m \u001b[0;34m=\u001b[0m \u001b[0mdf\u001b[0m\u001b[0;34m[\u001b[0m\u001b[0;34m'raw_evaluation'\u001b[0m\u001b[0;34m]\u001b[0m\u001b[0;34m.\u001b[0m\u001b[0mapply\u001b[0m\u001b[0;34m(\u001b[0m\u001b[0mparse_evaluation\u001b[0m\u001b[0;34m)\u001b[0m\u001b[0;34m\u001b[0m\u001b[0;34m\u001b[0m\u001b[0m\n\u001b[0m\u001b[1;32m     22\u001b[0m \u001b[0;34m\u001b[0m\u001b[0m\n\u001b[1;32m     23\u001b[0m     \u001b[0;31m# Parse the instance as a KCMC_Instance object\u001b[0m\u001b[0;34m\u001b[0m\u001b[0;34m\u001b[0m\u001b[0;34m\u001b[0m\u001b[0m\n",
      "\u001b[0;32m/usr/local/lib/python3.7/site-packages/pandas/core/series.py\u001b[0m in \u001b[0;36mapply\u001b[0;34m(self, func, convert_dtype, args, **kwds)\u001b[0m\n\u001b[1;32m   4136\u001b[0m             \u001b[0;32melse\u001b[0m\u001b[0;34m:\u001b[0m\u001b[0;34m\u001b[0m\u001b[0;34m\u001b[0m\u001b[0m\n\u001b[1;32m   4137\u001b[0m                 \u001b[0mvalues\u001b[0m \u001b[0;34m=\u001b[0m \u001b[0mself\u001b[0m\u001b[0;34m.\u001b[0m\u001b[0mastype\u001b[0m\u001b[0;34m(\u001b[0m\u001b[0mobject\u001b[0m\u001b[0;34m)\u001b[0m\u001b[0;34m.\u001b[0m\u001b[0m_values\u001b[0m\u001b[0;34m\u001b[0m\u001b[0;34m\u001b[0m\u001b[0m\n\u001b[0;32m-> 4138\u001b[0;31m                 \u001b[0mmapped\u001b[0m \u001b[0;34m=\u001b[0m \u001b[0mlib\u001b[0m\u001b[0;34m.\u001b[0m\u001b[0mmap_infer\u001b[0m\u001b[0;34m(\u001b[0m\u001b[0mvalues\u001b[0m\u001b[0;34m,\u001b[0m \u001b[0mf\u001b[0m\u001b[0;34m,\u001b[0m \u001b[0mconvert\u001b[0m\u001b[0;34m=\u001b[0m\u001b[0mconvert_dtype\u001b[0m\u001b[0;34m)\u001b[0m\u001b[0;34m\u001b[0m\u001b[0;34m\u001b[0m\u001b[0m\n\u001b[0m\u001b[1;32m   4139\u001b[0m \u001b[0;34m\u001b[0m\u001b[0m\n\u001b[1;32m   4140\u001b[0m         \u001b[0;32mif\u001b[0m \u001b[0mlen\u001b[0m\u001b[0;34m(\u001b[0m\u001b[0mmapped\u001b[0m\u001b[0;34m)\u001b[0m \u001b[0;32mand\u001b[0m \u001b[0misinstance\u001b[0m\u001b[0;34m(\u001b[0m\u001b[0mmapped\u001b[0m\u001b[0;34m[\u001b[0m\u001b[0;36m0\u001b[0m\u001b[0;34m]\u001b[0m\u001b[0;34m,\u001b[0m \u001b[0mSeries\u001b[0m\u001b[0;34m)\u001b[0m\u001b[0;34m:\u001b[0m\u001b[0;34m\u001b[0m\u001b[0;34m\u001b[0m\u001b[0m\n",
      "\u001b[0;32mpandas/_libs/lib.pyx\u001b[0m in \u001b[0;36mpandas._libs.lib.map_infer\u001b[0;34m()\u001b[0m\n",
      "\u001b[0;32m<ipython-input-3-7cc8375bbc7a>\u001b[0m in \u001b[0;36mparse_evaluation\u001b[0;34m(evaluation)\u001b[0m\n\u001b[1;32m     11\u001b[0m         })\n\u001b[1;32m     12\u001b[0m \u001b[0;34m\u001b[0m\u001b[0m\n\u001b[0;32m---> 13\u001b[0;31m         \u001b[0;32mraise\u001b[0m \u001b[0mException\u001b[0m\u001b[0;34m(\u001b[0m\u001b[0mmsg_k\u001b[0m\u001b[0;34m)\u001b[0m\u001b[0;34m\u001b[0m\u001b[0;34m\u001b[0m\u001b[0m\n\u001b[0m\u001b[1;32m     14\u001b[0m \u001b[0;34m\u001b[0m\u001b[0m\n\u001b[1;32m     15\u001b[0m     \u001b[0;32mreturn\u001b[0m \u001b[0mresult\u001b[0m\u001b[0;34m\u001b[0m\u001b[0;34m\u001b[0m\u001b[0m\n",
      "\u001b[0;31mException\u001b[0m: POI 0 COVERAGE 0"
     ]
    }
   ],
   "source": [
    "# Start the REDIS CONN\n",
    "redis = StrictRedis('host.docker.internal', decode_responses=True)\n",
    "\n",
    "# Parse the REDIS data as a DataFrame\n",
    "for instance_key in redis.scan_iter('INSTANCE:*'):\n",
    "    key = instance_key.replace('INSTANCE', 'KCMC').replace(':', '_')\n",
    "    if os.path.exists('instances.parquet/'+key+'.pq'): continue\n",
    "    print(key)\n",
    "    \n",
    "    df = []\n",
    "    evaluation_key = instance_key.replace('INSTANCE', 'EVALUATION')\n",
    "    for random_seed, instance in redis.hscan_iter(instance_key):\n",
    "        df.append({\n",
    "            'instance': instance,\n",
    "            'raw_evaluation': redis.hget(evaluation_key, random_seed)\n",
    "        })\n",
    "    df = parse_block(pd.DataFrame(df))\n",
    "    df.to_parquet(f'instances.parquet/{key}.pq')\n",
    "    del df\n",
    "\n",
    "# Close the REDIS CONN\n",
    "redis.close()"
   ]
  },
  {
   "cell_type": "markdown",
   "metadata": {},
   "source": [
    "## VERY Limited EDA"
   ]
  },
  {
   "cell_type": "code",
   "execution_count": null,
   "metadata": {},
   "outputs": [],
   "source": [
    "df = pd.read_parquet('instances.parquet')\n",
    "\n",
    "for key, data in df.groupby('key'):\n",
    "    print(key)\n",
    "    columns = sorted([col for col in data.columns if col.startswith('K') or col.startswith('M')])\n",
    "    for col in columns:\n",
    "        print(col, '\\t', len(data[data[col]])/len(data))\n",
    "    print()"
   ]
  },
  {
   "cell_type": "code",
   "execution_count": null,
   "metadata": {},
   "outputs": [],
   "source": [
    "POIS         = [10,  20,   30,  40,   50]\n",
    "RATE_SENSORS = [2.5, 5.0,  10.0]\n",
    "RATE_SINKS   = [0.0, 0.05, 0.1]\n",
    "RATE_AREA    = [1,   2.0,  4.0]\n",
    "COVERAGE_R   = 100  # BASE-CONSTANT\n",
    "RATE_COMM_R  = [0.5, 1.0,  1.5, 2.0]\n",
    "\n",
    "from itertools import product\n",
    "combinations = []\n",
    "covg_r = COVERAGE_R\n",
    "for pois in POIS:\n",
    "    for sensors in [int(pois*r) for r in RATE_SENSORS]:\n",
    "        for sinks in [int(max(sensors*r, 1)) for r in RATE_SINKS]:\n",
    "            for area in [int(sensors*covg_r*r) for r in RATE_AREA]:\n",
    "                for comm_r in [int(covg_r*r) for r in RATE_COMM_R]:\n",
    "                    combinations.append((pois, sensors, sinks, area, covg_r, comm_r))\n",
    "combinations = pd.DataFrame(\n",
    "    combinations,\n",
    "    columns=['num_pois', 'num_sensors', 'num_sinks', 'area_side', 'covg_radius', 'comm_radius']\n",
    ")\n",
    "print(len(combinations))\n",
    "combinations = (combinations\n",
    "    .drop_duplicates()\n",
    "    .sort_values(list(combinations.columns))\n",
    "    .reset_index(drop=True)\n",
    ").copy()\n",
    "len(combinations)"
   ]
  },
  {
   "cell_type": "code",
   "execution_count": null,
   "metadata": {},
   "outputs": [],
   "source": [
    "# combinations.to_csv('combinations.csv', sep=',', index=None)"
   ]
  },
  {
   "cell_type": "code",
   "execution_count": null,
   "metadata": {},
   "outputs": [],
   "source": []
  }
 ],
 "metadata": {
  "hide_input": false,
  "kernelspec": {
   "display_name": "Python 3",
   "language": "python",
   "name": "python3"
  },
  "language_info": {
   "codemirror_mode": {
    "name": "ipython",
    "version": 3
   },
   "file_extension": ".py",
   "mimetype": "text/x-python",
   "name": "python",
   "nbconvert_exporter": "python",
   "pygments_lexer": "ipython3",
   "version": "3.7.10"
  },
  "toc": {
   "base_numbering": 1,
   "nav_menu": {},
   "number_sections": true,
   "sideBar": true,
   "skip_h1_title": false,
   "title_cell": "Table of Contents",
   "title_sidebar": "Contents",
   "toc_cell": false,
   "toc_position": {},
   "toc_section_display": true,
   "toc_window_display": false
  }
 },
 "nbformat": 4,
 "nbformat_minor": 4
}
