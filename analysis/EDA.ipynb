{
 "cells": [
  {
   "cell_type": "markdown",
   "metadata": {},
   "source": [
    "## EDA"
   ]
  },
  {
   "cell_type": "code",
   "execution_count": 1,
   "metadata": {},
   "outputs": [],
   "source": [
    "import os\n",
    "from math import sqrt, pi\n",
    "import pandas as pd\n",
    "import plotly.express as px\n",
    "import plotly.graph_objects as go\n",
    "\n",
    "from tqdm.notebook import tqdm"
   ]
  },
  {
   "cell_type": "raw",
   "metadata": {},
   "source": [
    "df = []\n",
    "for file in tqdm(os.listdir('/data/instances.parquet')):\n",
    "    if not file.endswith('.pq'): continue\n",
    "    print(file)\n",
    "    item = pd.read_parquet('/data/instances.parquet/'+file)[[\n",
    "        'key',\n",
    "        'pois', 'sensors', 'sinks', 'area_side', 'coverage_r', 'communication_r',\n",
    "        'K=1', 'M=1', 'K=2', 'M=2', 'K=3', 'M=3', 'K=4', 'K=5'\n",
    "    ]]\n",
    "    grouped = []\n",
    "    for key, sdf in item.groupby('key'):\n",
    "        keyline = sdf.iloc[0].to_dict()\n",
    "        grouped.append({\n",
    "            col: keyline[col]\n",
    "            for col in [\n",
    "                'key', 'pois', 'sensors', 'sinks', 'area_side', 'coverage_r', 'communication_r'\n",
    "            ]\n",
    "        })\n",
    "        grouped[-1].update({\n",
    "            col: sdf[col].astype(int).sum()/len(sdf)\n",
    "            for col in ['K=1', 'M=1', 'K=2', 'M=2', 'K=3', 'M=3', 'K=4', 'K=5']\n",
    "        })\n",
    "        grouped[-1].update({\n",
    "            'samples': len(sdf)\n",
    "        })\n",
    "    df.append(pd.DataFrame(grouped))\n",
    "df = pd.concat(df).reset_index(drop=True)\n",
    "df = df.sort_values([\n",
    "    'pois', 'sensors', 'sinks',\n",
    "    'area_side', 'coverage_r', 'communication_r'\n",
    "]).reset_index(drop=True)\n",
    "\n",
    "df.to_parquet('grouped.parquet')"
   ]
  },
  {
   "cell_type": "code",
   "execution_count": 2,
   "metadata": {},
   "outputs": [],
   "source": [
    "df = pd.read_parquet('grouped.parquet')\n",
    "\n",
    "df.loc[:, 'sensors|pois'] = df['sensors'] / df['pois']\n",
    "df.loc[:, 'covg|comm'] = df['coverage_r'] / df['communication_r']\n",
    "df.loc[:, 'covg|area'] = (df['coverage_r']**2*pi) / (df['area_side']**2)\n",
    "df.loc[:, 'covg*sensors|area'] = ((df['coverage_r']**2*pi)*df['sensors']) / (df['area_side']**2)"
   ]
  },
  {
   "cell_type": "code",
   "execution_count": 4,
   "metadata": {},
   "outputs": [
    {
     "name": "stdout",
     "output_type": "stream",
     "text": [
      "Collecting openpyxl\n",
      "  Downloading openpyxl-3.0.7-py2.py3-none-any.whl (243 kB)\n",
      "\u001b[K     |████████████████████████████████| 243 kB 1.3 MB/s eta 0:00:01\n",
      "\u001b[?25hCollecting et-xmlfile\n",
      "  Downloading et_xmlfile-1.1.0-py3-none-any.whl (4.7 kB)\n",
      "Installing collected packages: et-xmlfile, openpyxl\n",
      "Successfully installed et-xmlfile-1.1.0 openpyxl-3.0.7\n",
      "\u001b[33mWARNING: Running pip as the 'root' user can result in broken permissions and conflicting behaviour with the system package manager. It is recommended to use a virtual environment instead: https://pip.pypa.io/warnings/venv\u001b[0m\n"
     ]
    }
   ],
   "source": [
    "! pip install openpyxl"
   ]
  },
  {
   "cell_type": "code",
   "execution_count": 5,
   "metadata": {},
   "outputs": [],
   "source": [
    "df.to_excel('data.xlsx', index=None)"
   ]
  },
  {
   "cell_type": "code",
   "execution_count": null,
   "metadata": {},
   "outputs": [],
   "source": [
    "#view = df.groupby('sensors|pois').mean().sort_index()\n",
    "#view = df.groupby('covg|comm').mean().sort_index()\n",
    "#view = df.groupby('covg|area').mean().sort_index()\n",
    "view = df.groupby('covg*sensors|area').mean().sort_index()\n",
    "\n",
    "fig = go.Figure(data=[\n",
    "    go.Scatter(x=view.index, y=view[item], name=item)\n",
    "    for item in ['K=1', 'K=2', 'K=3', 'K=4', 'K=5']\n",
    "] + [\n",
    "    go.Scatter(x=view.index, y=view[item], name=item)\n",
    "    for item in ['M=1', 'M=2', 'M=3']\n",
    "])\n",
    "fig.show()"
   ]
  },
  {
   "cell_type": "code",
   "execution_count": null,
   "metadata": {},
   "outputs": [],
   "source": []
  },
  {
   "cell_type": "code",
   "execution_count": null,
   "metadata": {},
   "outputs": [],
   "source": []
  },
  {
   "cell_type": "code",
   "execution_count": null,
   "metadata": {},
   "outputs": [],
   "source": []
  },
  {
   "cell_type": "markdown",
   "metadata": {},
   "source": [
    "## RE-SET THE PARAMETERS"
   ]
  },
  {
   "cell_type": "code",
   "execution_count": null,
   "metadata": {},
   "outputs": [],
   "source": [
    "POIS         = [10,  20,   30,  40,   50]\n",
    "RATE_SENSORS = [2.5, 5.0,  10.0]\n",
    "RATE_SINKS   = [0.0, 0.05, 0.1]\n",
    "RATE_AREA    = [8.0, 2.0, 1.0]  # HOW MUCH % of the total area we can COVER\n",
    "COVERAGE_R   = 100  # BASE-CONSTANT\n",
    "RATE_COMM_R  = [0.5, 1.0,  1.5, 2.0]\n",
    "\n",
    "from math import sqrt, pi\n",
    "combinations = []\n",
    "covg_r = COVERAGE_R\n",
    "for pois in POIS:\n",
    "    for sensors in [int(pois*r) for r in RATE_SENSORS]:\n",
    "        for sinks in [int(max(sensors*r, 1)) for r in RATE_SINKS]:\n",
    "            for area in [int(sqrt((1/r)*sensors*pi*covg_r*covg_r)) for r in RATE_AREA]:\n",
    "                for comm_r in [int(covg_r*r) for r in RATE_COMM_R]:\n",
    "                    combinations.append((pois, sensors, sinks, area, covg_r, comm_r))\n",
    "combinations = pd.DataFrame(\n",
    "    combinations,\n",
    "    columns=['num_pois', 'num_sensors', 'num_sinks', 'area_side', 'covg_radius', 'comm_radius']\n",
    ")\n",
    "print(len(combinations))\n",
    "combinations = (combinations\n",
    "    .drop_duplicates()\n",
    "    .sort_values(list(combinations.columns))\n",
    "    .reset_index(drop=True)\n",
    ").copy()\n",
    "len(combinations)"
   ]
  },
  {
   "cell_type": "code",
   "execution_count": null,
   "metadata": {},
   "outputs": [],
   "source": [
    "# combinations.to_csv('instance_generator_configurations.csv', sep=',', index=None)"
   ]
  },
  {
   "cell_type": "code",
   "execution_count": null,
   "metadata": {},
   "outputs": [],
   "source": [
    "combinations"
   ]
  },
  {
   "cell_type": "code",
   "execution_count": null,
   "metadata": {},
   "outputs": [],
   "source": []
  }
 ],
 "metadata": {
  "hide_input": false,
  "kernelspec": {
   "display_name": "Python 3 (ipykernel)",
   "language": "python",
   "name": "python3"
  },
  "language_info": {
   "codemirror_mode": {
    "name": "ipython",
    "version": 3
   },
   "file_extension": ".py",
   "mimetype": "text/x-python",
   "name": "python",
   "nbconvert_exporter": "python",
   "pygments_lexer": "ipython3",
   "version": "3.7.11"
  },
  "toc": {
   "base_numbering": 1,
   "nav_menu": {},
   "number_sections": true,
   "sideBar": true,
   "skip_h1_title": false,
   "title_cell": "Table of Contents",
   "title_sidebar": "Contents",
   "toc_cell": false,
   "toc_position": {},
   "toc_section_display": true,
   "toc_window_display": false
  }
 },
 "nbformat": 4,
 "nbformat_minor": 4
}
