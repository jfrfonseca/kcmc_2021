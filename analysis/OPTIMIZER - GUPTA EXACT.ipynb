{
 "cells": [
  {
   "cell_type": "code",
   "execution_count": null,
   "id": "e8af47da",
   "metadata": {},
   "outputs": [],
   "source": [
    "import os.path\n",
    "import subprocess\n",
    "from io import StringIO\n",
    "\n",
    "import pandas as pd\n",
    "\n",
    "from kcmc_instance import KCMC_Instance\n",
    "\n",
    "from tqdm.notebook import tqdm\n",
    "    \n",
    "\n",
    "list_serialized_instances = pd.read_csv('/data/instances.csv', header=None)[0].tolist()\n",
    "\n",
    "SER_INSTANCE = list_serialized_instances[0]\n",
    "obj_instance = KCMC_Instance(SER_INSTANCE)\n",
    "\n",
    "K = 3\n",
    "M = 2\n",
    "\n",
    "W1 = 0.1\n",
    "W2 = 0.45\n",
    "W3 = 0.45\n",
    "\n",
    "TIMEOUT = 120\n",
    "VERBOSITY = 250\n",
    "POPULATION = 10\n",
    "SELECTION = 4\n",
    "MUTATION = 0.05\n",
    "\n",
    "obj_instance"
   ]
  },
  {
   "cell_type": "code",
   "execution_count": null,
   "id": "3d9e6f56",
   "metadata": {},
   "outputs": [],
   "source": [
    "result_optimizer = subprocess.run(list(map(str, [\n",
    "    \"timeout\", TIMEOUT,\n",
    "    \"/builds/optimizer_gupta_exact\", VERBOSITY,\n",
    "    POPULATION, SELECTION, MUTATION,\n",
    "    K, M, W1, W2, W3, SER_INSTANCE\n",
    "])), capture_output=True)\n",
    "    \n",
    "stdout = result_optimizer.stdout.decode()\n",
    "stderr = result_optimizer.stderr.decode()\n",
    "\n",
    "assert stderr.strip().lower().endswith('exiting gracefully...')\n",
    "stderr"
   ]
  },
  {
   "cell_type": "code",
   "execution_count": null,
   "id": "10345a08",
   "metadata": {},
   "outputs": [],
   "source": [
    "df = pd.read_csv(StringIO(stdout), sep='\\t', dtype=str)\n",
    "\n",
    "col_int = ['GEN_IT', 'TIMESTAMP_MS', 'SIZE']\n",
    "df.loc[:, col_int] = df[col_int].apply(lambda col: col.astype(int))\n",
    "df.loc[:, 'FITNESS'] = df['FITNESS'].astype(float)\n",
    "\n",
    "df['GEN_IT'].max(), df['GEN_IT'].max()/TIMEOUT"
   ]
  },
  {
   "cell_type": "code",
   "execution_count": null,
   "id": "b21e5181",
   "metadata": {},
   "outputs": [],
   "source": [
    "import plotly.graph_objects as go\n",
    "\n",
    "idf = df#.iloc[:-1]\n",
    "\n",
    "fig = go.Figure()\n",
    "\n",
    "fig.add_trace(go.Scatter(x=idf['TIMESTAMP_MS'], y=idf['FITNESS']*10,\n",
    "                         mode='lines', name='FITNESS x10'))\n",
    "fig.add_trace(go.Scatter(x=idf['TIMESTAMP_MS'], y=idf['SIZE'],\n",
    "                         mode='lines', name='SOLUTION SIZE'))"
   ]
  },
  {
   "cell_type": "code",
   "execution_count": null,
   "id": "7378bd5e",
   "metadata": {},
   "outputs": [],
   "source": [
    "df.sort_values('FITNESS', ascending=False).head(10)"
   ]
  },
  {
   "cell_type": "code",
   "execution_count": null,
   "id": "f192d423",
   "metadata": {},
   "outputs": [],
   "source": [
    "df.sort_values('SIZE').head(10)"
   ]
  },
  {
   "cell_type": "code",
   "execution_count": null,
   "id": "870c9074",
   "metadata": {},
   "outputs": [],
   "source": [
    "obj_instance.plot(\n",
    "    labels=True, minimal=True,\n",
    "    installation={\n",
    "        f'i{i}': '1'\n",
    "        for i, v in enumerate(df.loc[62, 'CHROMOSSOME'])\n",
    "        if v == '1'\n",
    "    })"
   ]
  },
  {
   "cell_type": "code",
   "execution_count": null,
   "id": "a8eb931a",
   "metadata": {},
   "outputs": [],
   "source": []
  }
 ],
 "metadata": {
  "kernelspec": {
   "display_name": "Python 3 (ipykernel)",
   "language": "python",
   "name": "python3"
  },
  "language_info": {
   "codemirror_mode": {
    "name": "ipython",
    "version": 3
   },
   "file_extension": ".py",
   "mimetype": "text/x-python",
   "name": "python",
   "nbconvert_exporter": "python",
   "pygments_lexer": "ipython3",
   "version": "3.7.12"
  }
 },
 "nbformat": 4,
 "nbformat_minor": 5
}
